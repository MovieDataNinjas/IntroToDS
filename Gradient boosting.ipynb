{
 "cells": [
  {
   "cell_type": "code",
   "execution_count": null,
   "metadata": {},
   "outputs": [],
   "source": [
    "Tatenda"
   ]
  },
  {
   "cell_type": "code",
   "execution_count": 1,
   "metadata": {},
   "outputs": [
    {
     "name": "stderr",
     "output_type": "stream",
     "text": [
      "/Users/tatenda/anaconda3/lib/python3.6/site-packages/sklearn/cross_validation.py:41: DeprecationWarning: This module was deprecated in version 0.18 in favor of the model_selection module into which all the refactored classes and functions are moved. Also note that the interface of the new CV iterators are different from that of this module. This module will be removed in 0.20.\n",
      "  \"This module will be removed in 0.20.\", DeprecationWarning)\n"
     ]
    }
   ],
   "source": [
    "import numpy as np\n",
    "import pandas as pd\n",
    "import seaborn as sb\n",
    "import matplotlib.pyplot as plt\n",
    "import sklearn\n",
    "\n",
    "from pandas import Series, DataFrame\n",
    "from pylab import rcParams\n",
    "from sklearn import preprocessing\n",
    "from sklearn.linear_model import LogisticRegression\n",
    "from sklearn.cross_validation import train_test_split\n",
    "from sklearn import metrics \n",
    "from sklearn.metrics import classification_report"
   ]
  },
  {
   "cell_type": "code",
   "execution_count": 2,
   "metadata": {},
   "outputs": [],
   "source": [
    "#Cleaning metadata\n",
    "# In[147]:\n",
    "metadata=pd.read_csv(\"movie_metadata_with_score_metacritic.csv\", index_col=\"Unnamed: 0\") #reading in metacritic dataset"
   ]
  },
  {
   "cell_type": "code",
   "execution_count": 3,
   "metadata": {},
   "outputs": [],
   "source": [
    "metadata=metadata.loc[~metadata[\"metacritic_metascore\"].isna()] #removing rows with no metacritic data\n"
   ]
  },
  {
   "cell_type": "code",
   "execution_count": 4,
   "metadata": {},
   "outputs": [],
   "source": [
    "metadata=metadata.drop([\"homepage\",\"keywords\",\"overview\",\"status\",\"tagline\",\"imdb_metascore\"],1) #dropping unnecessary features"
   ]
  },
  {
   "cell_type": "code",
   "execution_count": 5,
   "metadata": {},
   "outputs": [],
   "source": [
    "metadata=metadata.drop_duplicates() #dropping duplicates\n",
    "metadata[\"release_year\"]=metadata.release_date.str[0:4].astype(int) #creating new column with year for comparison"
   ]
  },
  {
   "cell_type": "code",
   "execution_count": 6,
   "metadata": {},
   "outputs": [],
   "source": [
    "# In[131]:\n",
    "\n",
    "rev_data=pd.read_csv(\"Revenue.csv\") #reading in revenue data\n",
    "#cleaning revenue data\n",
    "#Adjusting units\n",
    "rev_data[\"Budget\"]=rev_data[\"Budget($M)\"]*1000000\n",
    "rev_data[\"Worldwide Gross\"]=rev_data[\"Worldwide Gross($M)\"]*1000000\n",
    "rev_data[\"Domestic Gross\"]=rev_data[\"Domestic Gross($M)\"]*1000000\n",
    "rev_data=rev_data.drop([\"Budget($M)\",\"Domestic Gross($M)\",\"Worldwide Gross($M)\"],1)\n",
    "\n",
    "rev_data=rev_data.rename(columns={\"Movie\":\"title\"})#renaming column to match metadata\n",
    "rev_data=rev_data.drop_duplicates()#dropping duplicates"
   ]
  },
  {
   "cell_type": "code",
   "execution_count": 7,
   "metadata": {},
   "outputs": [],
   "source": [
    "# In[102]:\n",
    "\n",
    "\n",
    "critic_revenue=metadata.merge(rev_data,on=\"title\") #merging datasets\n",
    "critic_revenue=critic_revenue.drop_duplicates() #dropping duplicates\n",
    "critic_revenue=critic_revenue.loc[(critic_revenue[\"Worldwide Gross\"]!=0) | (critic_revenue[\"revenue\"]!=0)] #removing rows with no revenue data\n",
    "critic_revenue=critic_revenue.loc[(np.abs(critic_revenue.release_year-critic_revenue.Year)<=5)] #removing rows where the years don't match, as this indicates different movies\n",
    "\n",
    "#Normalizing by the median for merged data set\n",
    "\n",
    "critic_revenue[\"budget\"]=(metadata[\"budget\"]-metadata[\"budget\"].median())/metadata[\"budget\"].std()\n",
    "critic_revenue[\"Worldwide Gross\"]=(rev_data[\"Worldwide Gross\"]-rev_data[\"Worldwide Gross\"].median())/rev_data[\"Worldwide Gross\"].std()\n",
    "\n",
    "critic_revenue[\"Domestic Gross\"]=(rev_data[\"Domestic Gross\"]-rev_data[\"Domestic Gross\"].median())/rev_data[\"Domestic Gross\"].std()\n",
    "critic_revenue[\"popularity\"]=(metadata[\"popularity\"]-metadata[\"popularity\"].median())/metadata[\"popularity\"].std()\n",
    "critic_revenue[\"revenue\"]=(metadata[\"revenue\"]-metadata[\"revenue\"].median())/metadata[\"revenue\"].std()\n",
    "critic_revenue[\"vote_count\"]=(metadata[\"vote_count\"]-metadata[\"vote_count\"].median())/metadata[\"vote_count\"].std()"
   ]
  },
  {
   "cell_type": "code",
   "execution_count": 9,
   "metadata": {},
   "outputs": [
    {
     "data": {
      "text/plain": [
       "budget                   True\n",
       "genres                  False\n",
       "id                      False\n",
       "original_language       False\n",
       "original_title          False\n",
       "popularity               True\n",
       "production_companies    False\n",
       "production_countries    False\n",
       "release_date            False\n",
       "revenue                  True\n",
       "runtime                 False\n",
       "spoken_languages        False\n",
       "title                   False\n",
       "vote_average            False\n",
       "vote_count               True\n",
       "metacritic_metascore    False\n",
       "release_year            False\n",
       "Month                   False\n",
       "Day                     False\n",
       "Year                    False\n",
       "Budget                  False\n",
       "Worldwide Gross          True\n",
       "Domestic Gross           True\n",
       "dtype: bool"
      ]
     },
     "execution_count": 9,
     "metadata": {},
     "output_type": "execute_result"
    }
   ],
   "source": [
    "critic_revenue.isnull().any()"
   ]
  },
  {
   "cell_type": "code",
   "execution_count": 10,
   "metadata": {},
   "outputs": [
    {
     "data": {
      "text/plain": [
       "(3256, 23)"
      ]
     },
     "execution_count": 10,
     "metadata": {},
     "output_type": "execute_result"
    }
   ],
   "source": [
    "#Replace every nan values with 0\n",
    "critic_revenue.fillna(value=0,axis=1,inplace=True)\n",
    "critic_revenue.shape"
   ]
  },
  {
   "cell_type": "code",
   "execution_count": 11,
   "metadata": {},
   "outputs": [],
   "source": [
    "#Defining features and target for this dataset based on co-relation\n",
    "features = ['Budget']\n",
    "target = ['Worldwide Gross']"
   ]
  },
  {
   "cell_type": "code",
   "execution_count": 12,
   "metadata": {},
   "outputs": [
    {
     "data": {
      "text/html": [
       "<div>\n",
       "<style scoped>\n",
       "    .dataframe tbody tr th:only-of-type {\n",
       "        vertical-align: middle;\n",
       "    }\n",
       "\n",
       "    .dataframe tbody tr th {\n",
       "        vertical-align: top;\n",
       "    }\n",
       "\n",
       "    .dataframe thead th {\n",
       "        text-align: right;\n",
       "    }\n",
       "</style>\n",
       "<table border=\"1\" class=\"dataframe\">\n",
       "  <thead>\n",
       "    <tr style=\"text-align: right;\">\n",
       "      <th></th>\n",
       "      <th>budget</th>\n",
       "      <th>genres</th>\n",
       "      <th>id</th>\n",
       "      <th>original_language</th>\n",
       "      <th>original_title</th>\n",
       "      <th>popularity</th>\n",
       "      <th>production_companies</th>\n",
       "      <th>production_countries</th>\n",
       "      <th>release_date</th>\n",
       "      <th>revenue</th>\n",
       "      <th>...</th>\n",
       "      <th>vote_average</th>\n",
       "      <th>vote_count</th>\n",
       "      <th>metacritic_metascore</th>\n",
       "      <th>release_year</th>\n",
       "      <th>Month</th>\n",
       "      <th>Day</th>\n",
       "      <th>Year</th>\n",
       "      <th>Budget</th>\n",
       "      <th>Worldwide Gross</th>\n",
       "      <th>Domestic Gross</th>\n",
       "    </tr>\n",
       "  </thead>\n",
       "  <tbody>\n",
       "    <tr>\n",
       "      <th>524</th>\n",
       "      <td>1.299943</td>\n",
       "      <td>[{\"id\": 35, \"name\": \"Comedy\"}, {\"id\": 18, \"nam...</td>\n",
       "      <td>44564</td>\n",
       "      <td>en</td>\n",
       "      <td>The Dilemma</td>\n",
       "      <td>0.067575</td>\n",
       "      <td>[{\"name\": \"Imagine Entertainment\", \"id\": 23}, ...</td>\n",
       "      <td>[{\"iso_3166_1\": \"US\", \"name\": \"United States o...</td>\n",
       "      <td>2011-01-13</td>\n",
       "      <td>0.496678</td>\n",
       "      <td>...</td>\n",
       "      <td>5.2</td>\n",
       "      <td>0.000000</td>\n",
       "      <td>46.0</td>\n",
       "      <td>2011</td>\n",
       "      <td>Jan</td>\n",
       "      <td>14</td>\n",
       "      <td>2011</td>\n",
       "      <td>70000000.0</td>\n",
       "      <td>1.264979</td>\n",
       "      <td>1.426252</td>\n",
       "    </tr>\n",
       "    <tr>\n",
       "      <th>2810</th>\n",
       "      <td>-0.212718</td>\n",
       "      <td>[{\"id\": 35, \"name\": \"Comedy\"}, {\"id\": 80, \"nam...</td>\n",
       "      <td>9336</td>\n",
       "      <td>en</td>\n",
       "      <td>Police Academy</td>\n",
       "      <td>1.371858</td>\n",
       "      <td>[{\"name\": \"Warner Bros.\", \"id\": 6194}, {\"name\"...</td>\n",
       "      <td>[{\"iso_3166_1\": \"US\", \"name\": \"United States o...</td>\n",
       "      <td>1984-03-22</td>\n",
       "      <td>1.173992</td>\n",
       "      <td>...</td>\n",
       "      <td>6.5</td>\n",
       "      <td>1.503544</td>\n",
       "      <td>41.0</td>\n",
       "      <td>1984</td>\n",
       "      <td>Mar</td>\n",
       "      <td>23</td>\n",
       "      <td>1984</td>\n",
       "      <td>4500000.0</td>\n",
       "      <td>-0.024668</td>\n",
       "      <td>0.091170</td>\n",
       "    </tr>\n",
       "    <tr>\n",
       "      <th>1303</th>\n",
       "      <td>0.425436</td>\n",
       "      <td>[{\"id\": 28, \"name\": \"Action\"}, {\"id\": 35, \"nam...</td>\n",
       "      <td>14034</td>\n",
       "      <td>en</td>\n",
       "      <td>What's the Worst That Could Happen?</td>\n",
       "      <td>-0.054004</td>\n",
       "      <td>[{\"name\": \"Metro-Goldwyn-Mayer (MGM)\", \"id\": 8...</td>\n",
       "      <td>[{\"iso_3166_1\": \"US\", \"name\": \"United States o...</td>\n",
       "      <td>2001-05-31</td>\n",
       "      <td>0.502490</td>\n",
       "      <td>...</td>\n",
       "      <td>5.1</td>\n",
       "      <td>0.087540</td>\n",
       "      <td>37.0</td>\n",
       "      <td>2001</td>\n",
       "      <td>Jun</td>\n",
       "      <td>1</td>\n",
       "      <td>2001</td>\n",
       "      <td>30000000.0</td>\n",
       "      <td>0.413580</td>\n",
       "      <td>1.227890</td>\n",
       "    </tr>\n",
       "    <tr>\n",
       "      <th>2658</th>\n",
       "      <td>-0.472706</td>\n",
       "      <td>[{\"id\": 35, \"name\": \"Comedy\"}, {\"id\": 18, \"nam...</td>\n",
       "      <td>20322</td>\n",
       "      <td>en</td>\n",
       "      <td>The Brothers</td>\n",
       "      <td>-0.507101</td>\n",
       "      <td>[]</td>\n",
       "      <td>[{\"iso_3166_1\": \"US\", \"name\": \"United States o...</td>\n",
       "      <td>2001-03-23</td>\n",
       "      <td>-0.195277</td>\n",
       "      <td>...</td>\n",
       "      <td>6.5</td>\n",
       "      <td>-0.258014</td>\n",
       "      <td>50.0</td>\n",
       "      <td>2001</td>\n",
       "      <td>Mar</td>\n",
       "      <td>23</td>\n",
       "      <td>2001</td>\n",
       "      <td>6000000.0</td>\n",
       "      <td>-0.001179</td>\n",
       "      <td>-0.076762</td>\n",
       "    </tr>\n",
       "    <tr>\n",
       "      <th>1473</th>\n",
       "      <td>1.299943</td>\n",
       "      <td>[{\"id\": 35, \"name\": \"Comedy\"}]</td>\n",
       "      <td>88042</td>\n",
       "      <td>en</td>\n",
       "      <td>Parental Guidance</td>\n",
       "      <td>0.129499</td>\n",
       "      <td>[{\"name\": \"Twentieth Century Fox Film Corporat...</td>\n",
       "      <td>[{\"iso_3166_1\": \"US\", \"name\": \"United States o...</td>\n",
       "      <td>2012-12-25</td>\n",
       "      <td>-0.081316</td>\n",
       "      <td>...</td>\n",
       "      <td>5.7</td>\n",
       "      <td>-0.064503</td>\n",
       "      <td>36.0</td>\n",
       "      <td>2012</td>\n",
       "      <td>Dec</td>\n",
       "      <td>25</td>\n",
       "      <td>2012</td>\n",
       "      <td>25000000.0</td>\n",
       "      <td>0.330033</td>\n",
       "      <td>0.432575</td>\n",
       "    </tr>\n",
       "  </tbody>\n",
       "</table>\n",
       "<p>5 rows × 23 columns</p>\n",
       "</div>"
      ],
      "text/plain": [
       "        budget                                             genres     id  \\\n",
       "524   1.299943  [{\"id\": 35, \"name\": \"Comedy\"}, {\"id\": 18, \"nam...  44564   \n",
       "2810 -0.212718  [{\"id\": 35, \"name\": \"Comedy\"}, {\"id\": 80, \"nam...   9336   \n",
       "1303  0.425436  [{\"id\": 28, \"name\": \"Action\"}, {\"id\": 35, \"nam...  14034   \n",
       "2658 -0.472706  [{\"id\": 35, \"name\": \"Comedy\"}, {\"id\": 18, \"nam...  20322   \n",
       "1473  1.299943                     [{\"id\": 35, \"name\": \"Comedy\"}]  88042   \n",
       "\n",
       "     original_language                       original_title  popularity  \\\n",
       "524                 en                          The Dilemma    0.067575   \n",
       "2810                en                       Police Academy    1.371858   \n",
       "1303                en  What's the Worst That Could Happen?   -0.054004   \n",
       "2658                en                         The Brothers   -0.507101   \n",
       "1473                en                    Parental Guidance    0.129499   \n",
       "\n",
       "                                   production_companies  \\\n",
       "524   [{\"name\": \"Imagine Entertainment\", \"id\": 23}, ...   \n",
       "2810  [{\"name\": \"Warner Bros.\", \"id\": 6194}, {\"name\"...   \n",
       "1303  [{\"name\": \"Metro-Goldwyn-Mayer (MGM)\", \"id\": 8...   \n",
       "2658                                                 []   \n",
       "1473  [{\"name\": \"Twentieth Century Fox Film Corporat...   \n",
       "\n",
       "                                   production_countries release_date  \\\n",
       "524   [{\"iso_3166_1\": \"US\", \"name\": \"United States o...   2011-01-13   \n",
       "2810  [{\"iso_3166_1\": \"US\", \"name\": \"United States o...   1984-03-22   \n",
       "1303  [{\"iso_3166_1\": \"US\", \"name\": \"United States o...   2001-05-31   \n",
       "2658  [{\"iso_3166_1\": \"US\", \"name\": \"United States o...   2001-03-23   \n",
       "1473  [{\"iso_3166_1\": \"US\", \"name\": \"United States o...   2012-12-25   \n",
       "\n",
       "       revenue       ...        vote_average vote_count metacritic_metascore  \\\n",
       "524   0.496678       ...                 5.2   0.000000                 46.0   \n",
       "2810  1.173992       ...                 6.5   1.503544                 41.0   \n",
       "1303  0.502490       ...                 5.1   0.087540                 37.0   \n",
       "2658 -0.195277       ...                 6.5  -0.258014                 50.0   \n",
       "1473 -0.081316       ...                 5.7  -0.064503                 36.0   \n",
       "\n",
       "      release_year  Month  Day  Year      Budget  Worldwide Gross  \\\n",
       "524           2011    Jan   14  2011  70000000.0         1.264979   \n",
       "2810          1984    Mar   23  1984   4500000.0        -0.024668   \n",
       "1303          2001    Jun    1  2001  30000000.0         0.413580   \n",
       "2658          2001    Mar   23  2001   6000000.0        -0.001179   \n",
       "1473          2012    Dec   25  2012  25000000.0         0.330033   \n",
       "\n",
       "      Domestic Gross  \n",
       "524         1.426252  \n",
       "2810        0.091170  \n",
       "1303        1.227890  \n",
       "2658       -0.076762  \n",
       "1473        0.432575  \n",
       "\n",
       "[5 rows x 23 columns]"
      ]
     },
     "execution_count": 12,
     "metadata": {},
     "output_type": "execute_result"
    }
   ],
   "source": [
    "#splitting data set into training and test data set in 0.7/0.3\n",
    "train, test = train_test_split(critic_revenue,test_size=0.30)\n",
    "train.head()"
   ]
  },
  {
   "cell_type": "code",
   "execution_count": 13,
   "metadata": {},
   "outputs": [],
   "source": [
    "#Fill the training and test data with require information\n",
    "X_train = train[features].dropna()\n",
    "y_train = train[target].dropna()\n",
    "X_test = test[features].dropna()\n",
    "y_test = test[target].dropna()"
   ]
  },
  {
   "cell_type": "code",
   "execution_count": 14,
   "metadata": {},
   "outputs": [
    {
     "name": "stderr",
     "output_type": "stream",
     "text": [
      "/Users/tatenda/anaconda3/lib/python3.6/site-packages/sklearn/utils/validation.py:578: DataConversionWarning: A column-vector y was passed when a 1d array was expected. Please change the shape of y to (n_samples, ), for example using ravel().\n",
      "  y = column_or_1d(y, warn=True)\n"
     ]
    },
    {
     "data": {
      "text/plain": [
       "GradientBoostingRegressor(alpha=0.9, criterion='friedman_mse', init=None,\n",
       "             learning_rate=0.1, loss='ls', max_depth=3, max_features=None,\n",
       "             max_leaf_nodes=None, min_impurity_decrease=0.0,\n",
       "             min_impurity_split=None, min_samples_leaf=1,\n",
       "             min_samples_split=2, min_weight_fraction_leaf=0.0,\n",
       "             n_estimators=100, presort='auto', random_state=None,\n",
       "             subsample=1.0, verbose=0, warm_start=False)"
      ]
     },
     "execution_count": 14,
     "metadata": {},
     "output_type": "execute_result"
    }
   ],
   "source": [
    "from sklearn import ensemble\n",
    "from sklearn.ensemble import GradientBoostingRegressor\n",
    "model = ensemble.GradientBoostingRegressor()\n",
    "model.fit(X_train, y_train)"
   ]
  },
  {
   "cell_type": "code",
   "execution_count": 15,
   "metadata": {},
   "outputs": [
    {
     "name": "stdout",
     "output_type": "stream",
     "text": [
      "Gradient Boosting R squared\": 0.9320\n"
     ]
    }
   ],
   "source": [
    "print('Gradient Boosting R squared\": %.4f' % model.score(X_test, y_test))"
   ]
  },
  {
   "cell_type": "code",
   "execution_count": 18,
   "metadata": {},
   "outputs": [
    {
     "name": "stdout",
     "output_type": "stream",
     "text": [
      "Gradient Boosting RMSE: 0.2755\n"
     ]
    }
   ],
   "source": [
    "from sklearn.metrics import mean_squared_error\n",
    "y_pred = model.predict(X_test)\n",
    "model_mse = mean_squared_error(y_pred, y_test)\n",
    "model_rmse = np.sqrt(model_mse)\n",
    "print('Gradient Boosting RMSE: %.4f' % model_rmse)"
   ]
  },
  {
   "cell_type": "code",
   "execution_count": null,
   "metadata": {},
   "outputs": [],
   "source": []
  }
 ],
 "metadata": {
  "kernelspec": {
   "display_name": "Python 3",
   "language": "python",
   "name": "python3"
  },
  "language_info": {
   "codemirror_mode": {
    "name": "ipython",
    "version": 3
   },
   "file_extension": ".py",
   "mimetype": "text/x-python",
   "name": "python",
   "nbconvert_exporter": "python",
   "pygments_lexer": "ipython3",
   "version": "3.6.5"
  }
 },
 "nbformat": 4,
 "nbformat_minor": 2
}
