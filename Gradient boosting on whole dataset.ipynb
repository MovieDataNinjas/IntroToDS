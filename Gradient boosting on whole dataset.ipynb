{
 "cells": [
  {
   "cell_type": "code",
   "execution_count": null,
   "metadata": {},
   "outputs": [],
   "source": [
    "Tatenda"
   ]
  },
  {
   "cell_type": "code",
   "execution_count": 19,
   "metadata": {},
   "outputs": [],
   "source": [
    "import numpy as np\n",
    "import pandas as pd\n",
    "import seaborn as sb\n",
    "import matplotlib.pyplot as plt\n",
    "import sklearn\n",
    "\n",
    "from pandas import Series, DataFrame\n",
    "from pylab import rcParams\n",
    "from sklearn import preprocessing\n",
    "from sklearn.linear_model import LogisticRegression\n",
    "from sklearn.cross_validation import train_test_split\n",
    "from sklearn import metrics \n",
    "from sklearn.metrics import classification_report"
   ]
  },
  {
   "cell_type": "code",
   "execution_count": 20,
   "metadata": {},
   "outputs": [],
   "source": [
    "metadata=pd.read_csv(\"movie_metadata_with_score_metacritic.csv\", index_col=\"Unnamed: 0\") #reading in metacritic dataset\n",
    "metadata=metadata.loc[~metadata[\"metacritic_metascore\"].isna()] #removing rows with no metacritic data\n",
    "metadata=metadata.drop([\"homepage\",\"keywords\",\"overview\",\"status\",\"tagline\",\"imdb_metascore\",\"budget\",\"revenue\"],1) #dropping unnecessary features\n",
    "metadata=metadata.drop_duplicates() #dropping duplicates\n",
    "metadata[\"release_year\"]=metadata.release_date.str[0:4].astype(int) #creating new column with year for comparison"
   ]
  },
  {
   "cell_type": "code",
   "execution_count": 21,
   "metadata": {},
   "outputs": [],
   "source": [
    "num_data=pd.read_csv(\"the_numbers_budget.csv\") #reading in revenue data\n",
    "num_data=num_data.rename(columns={\"Movie\":\"title\"}) #renaming column to match metadata\n",
    "num_data[\"num_year\"]=num_data[\"Release Date\"].str[-4:].astype(int)\n",
    "num_data=num_data.drop_duplicates()#dropping duplicates\n"
   ]
  },
  {
   "cell_type": "code",
   "execution_count": 22,
   "metadata": {},
   "outputs": [],
   "source": [
    "critic_revenue=metadata.merge(num_data,on=\"title\") #merging datasets\n",
    "critic_revenue=critic_revenue.drop_duplicates() #dropping duplicates\n",
    "critic_revenue=critic_revenue.loc[(critic_revenue[\"Worldwide Gross\"]!=0)] #removing rows with no revenue data\n",
    "critic_revenue=critic_revenue.loc[(np.abs(critic_revenue.release_year-critic_revenue.num_year)<5)] #removing rows where the years don't match, as this indicates different movies\n",
    "\n",
    "critic_revenue[\"log Worldwide Gross\"]=np.log(critic_revenue[\"Worldwide Gross\"])#adding column for log of revenue"
   ]
  },
  {
   "cell_type": "code",
   "execution_count": 23,
   "metadata": {},
   "outputs": [],
   "source": [
    "#Normalizing by the median for merged data set\n",
    "\n",
    "critic_revenue[\"Production Budget\"]=(critic_revenue[\"Production Budget\"]-critic_revenue[\"Production Budget\"].median())/critic_revenue[\"Production Budget\"].std()\n",
    "critic_revenue[\"Worldwide Gross\"]=(critic_revenue[\"Worldwide Gross\"]-critic_revenue[\"Worldwide Gross\"].median())/critic_revenue[\"Worldwide Gross\"].std()\n",
    "critic_revenue[\"log Worldwide Gross\"]=(critic_revenue[\"log Worldwide Gross\"]-critic_revenue[\"log Worldwide Gross\"].median())/critic_revenue[\"log Worldwide Gross\"].std()\n",
    "critic_revenue[\"Domestic Gross\"]=(critic_revenue[\"Domestic Gross\"]-critic_revenue[\"Domestic Gross\"].median())/critic_revenue[\"Domestic Gross\"].std()\n",
    "critic_revenue[\"popularity\"]=(critic_revenue[\"popularity\"]-critic_revenue[\"popularity\"].median())/critic_revenue[\"popularity\"].std()\n",
    "critic_revenue[\"vote_count\"]=(critic_revenue[\"vote_count\"]-critic_revenue[\"vote_count\"].median())/critic_revenue[\"vote_count\"].std()\n",
    "critic_revenue[\"metacritic_metascore\"]=(critic_revenue[\"metacritic_metascore\"]-critic_revenue[\"metacritic_metascore\"].median())/critic_revenue[\"metacritic_metascore\"].std()\n",
    "critic_revenue[\"runtime\"]=(critic_revenue[\"runtime\"]-critic_revenue[\"runtime\"].median())/critic_revenue[\"runtime\"].std()\n",
    "\n",
    "# Reindex since the dataset has been subset many times\n",
    "critic_revenue.index=range(len(critic_revenue))"
   ]
  },
  {
   "cell_type": "code",
   "execution_count": 25,
   "metadata": {},
   "outputs": [
    {
     "data": {
      "text/plain": [
       "(3319, 21)"
      ]
     },
     "execution_count": 25,
     "metadata": {},
     "output_type": "execute_result"
    }
   ],
   "source": [
    "#Replace every nan values with 0\n",
    "critic_revenue.fillna(value=0,axis=1,inplace=True)\n",
    "critic_revenue.shape"
   ]
  },
  {
   "cell_type": "code",
   "execution_count": 29,
   "metadata": {},
   "outputs": [],
   "source": [
    "#Defining features and target for this dataset based on co-relation\n",
    "features = ['Production Budget']\n",
    "target = ['Worldwide Gross']"
   ]
  },
  {
   "cell_type": "code",
   "execution_count": 30,
   "metadata": {},
   "outputs": [
    {
     "data": {
      "text/html": [
       "<div>\n",
       "<style scoped>\n",
       "    .dataframe tbody tr th:only-of-type {\n",
       "        vertical-align: middle;\n",
       "    }\n",
       "\n",
       "    .dataframe tbody tr th {\n",
       "        vertical-align: top;\n",
       "    }\n",
       "\n",
       "    .dataframe thead th {\n",
       "        text-align: right;\n",
       "    }\n",
       "</style>\n",
       "<table border=\"1\" class=\"dataframe\">\n",
       "  <thead>\n",
       "    <tr style=\"text-align: right;\">\n",
       "      <th></th>\n",
       "      <th>genres</th>\n",
       "      <th>id</th>\n",
       "      <th>original_language</th>\n",
       "      <th>original_title</th>\n",
       "      <th>popularity</th>\n",
       "      <th>production_companies</th>\n",
       "      <th>production_countries</th>\n",
       "      <th>release_date</th>\n",
       "      <th>runtime</th>\n",
       "      <th>spoken_languages</th>\n",
       "      <th>...</th>\n",
       "      <th>vote_average</th>\n",
       "      <th>vote_count</th>\n",
       "      <th>metacritic_metascore</th>\n",
       "      <th>release_year</th>\n",
       "      <th>Release Date</th>\n",
       "      <th>Production Budget</th>\n",
       "      <th>Domestic Gross</th>\n",
       "      <th>Worldwide Gross</th>\n",
       "      <th>num_year</th>\n",
       "      <th>log Worldwide Gross</th>\n",
       "    </tr>\n",
       "  </thead>\n",
       "  <tbody>\n",
       "    <tr>\n",
       "      <th>2295</th>\n",
       "      <td>[{\"id\": 35, \"name\": \"Comedy\"}]</td>\n",
       "      <td>12479</td>\n",
       "      <td>en</td>\n",
       "      <td>Breakfast of Champions</td>\n",
       "      <td>-0.434055</td>\n",
       "      <td>[{\"name\": \"Hollywood Pictures\", \"id\": 915}]</td>\n",
       "      <td>[{\"iso_3166_1\": \"US\", \"name\": \"United States o...</td>\n",
       "      <td>1999-02-13</td>\n",
       "      <td>0.243893</td>\n",
       "      <td>[{\"iso_639_1\": \"cs\", \"name\": \"\\u010cesk\\u00fd\"...</td>\n",
       "      <td>...</td>\n",
       "      <td>5.2</td>\n",
       "      <td>-0.244632</td>\n",
       "      <td>-0.711091</td>\n",
       "      <td>1999</td>\n",
       "      <td>9/17/1999</td>\n",
       "      <td>-0.213462</td>\n",
       "      <td>-0.399895</td>\n",
       "      <td>-0.241760</td>\n",
       "      <td>1999</td>\n",
       "      <td>-2.423222</td>\n",
       "    </tr>\n",
       "    <tr>\n",
       "      <th>1265</th>\n",
       "      <td>[{\"id\": 18, \"name\": \"Drama\"}, {\"id\": 10749, \"n...</td>\n",
       "      <td>72570</td>\n",
       "      <td>en</td>\n",
       "      <td>The Vow</td>\n",
       "      <td>0.297297</td>\n",
       "      <td>[{\"name\": \"Spyglass Entertainment\", \"id\": 158}...</td>\n",
       "      <td>[{\"iso_3166_1\": \"US\", \"name\": \"United States o...</td>\n",
       "      <td>2012-02-05</td>\n",
       "      <td>-0.048779</td>\n",
       "      <td>[{\"iso_639_1\": \"en\", \"name\": \"English\"}]</td>\n",
       "      <td>...</td>\n",
       "      <td>7.0</td>\n",
       "      <td>0.707551</td>\n",
       "      <td>-0.656392</td>\n",
       "      <td>2012</td>\n",
       "      <td>2/10/2012</td>\n",
       "      <td>0.213462</td>\n",
       "      <td>1.440855</td>\n",
       "      <td>0.872933</td>\n",
       "      <td>2012</td>\n",
       "      <td>0.673722</td>\n",
       "    </tr>\n",
       "    <tr>\n",
       "      <th>1119</th>\n",
       "      <td>[{\"id\": 12, \"name\": \"Adventure\"}, {\"id\": 28, \"...</td>\n",
       "      <td>943</td>\n",
       "      <td>en</td>\n",
       "      <td>Lethal Weapon 3</td>\n",
       "      <td>0.582465</td>\n",
       "      <td>[{\"name\": \"Silver Pictures\", \"id\": 1885}, {\"na...</td>\n",
       "      <td>[{\"iso_3166_1\": \"US\", \"name\": \"United States o...</td>\n",
       "      <td>1992-05-15</td>\n",
       "      <td>0.634123</td>\n",
       "      <td>[{\"iso_639_1\": \"en\", \"name\": \"English\"}]</td>\n",
       "      <td>...</td>\n",
       "      <td>6.4</td>\n",
       "      <td>0.344743</td>\n",
       "      <td>-0.820490</td>\n",
       "      <td>1992</td>\n",
       "      <td>5/15/1992</td>\n",
       "      <td>0.332052</td>\n",
       "      <td>1.731597</td>\n",
       "      <td>1.562174</td>\n",
       "      <td>1992</td>\n",
       "      <td>0.886222</td>\n",
       "    </tr>\n",
       "    <tr>\n",
       "      <th>2120</th>\n",
       "      <td>[{\"id\": 10749, \"name\": \"Romance\"}, {\"id\": 35, ...</td>\n",
       "      <td>114</td>\n",
       "      <td>en</td>\n",
       "      <td>Pretty Woman</td>\n",
       "      <td>0.864902</td>\n",
       "      <td>[{\"name\": \"Touchstone Pictures\", \"id\": 9195}, ...</td>\n",
       "      <td>[{\"iso_3166_1\": \"US\", \"name\": \"United States o...</td>\n",
       "      <td>1990-03-23</td>\n",
       "      <td>0.682901</td>\n",
       "      <td>[{\"iso_639_1\": \"en\", \"name\": \"English\"}, {\"iso...</td>\n",
       "      <td>...</td>\n",
       "      <td>7.0</td>\n",
       "      <td>1.048530</td>\n",
       "      <td>-0.218797</td>\n",
       "      <td>1990</td>\n",
       "      <td>3/23/1990</td>\n",
       "      <td>-0.166026</td>\n",
       "      <td>2.228144</td>\n",
       "      <td>2.199836</td>\n",
       "      <td>1990</td>\n",
       "      <td>1.019866</td>\n",
       "    </tr>\n",
       "    <tr>\n",
       "      <th>85</th>\n",
       "      <td>[{\"id\": 28, \"name\": \"Action\"}, {\"id\": 12, \"nam...</td>\n",
       "      <td>68735</td>\n",
       "      <td>en</td>\n",
       "      <td>Warcraft</td>\n",
       "      <td>1.401611</td>\n",
       "      <td>[{\"name\": \"Universal Pictures\", \"id\": 33}, {\"n...</td>\n",
       "      <td>[{\"iso_3166_1\": \"CA\", \"name\": \"Canada\"}, {\"iso...</td>\n",
       "      <td>2016-05-25</td>\n",
       "      <td>0.878016</td>\n",
       "      <td>[{\"iso_639_1\": \"en\", \"name\": \"English\"}]</td>\n",
       "      <td>...</td>\n",
       "      <td>6.3</td>\n",
       "      <td>1.441447</td>\n",
       "      <td>-1.258084</td>\n",
       "      <td>2016</td>\n",
       "      <td>6/10/2016</td>\n",
       "      <td>3.296804</td>\n",
       "      <td>0.293837</td>\n",
       "      <td>2.159758</td>\n",
       "      <td>2016</td>\n",
       "      <td>1.012558</td>\n",
       "    </tr>\n",
       "  </tbody>\n",
       "</table>\n",
       "<p>5 rows × 21 columns</p>\n",
       "</div>"
      ],
      "text/plain": [
       "                                                 genres     id  \\\n",
       "2295                     [{\"id\": 35, \"name\": \"Comedy\"}]  12479   \n",
       "1265  [{\"id\": 18, \"name\": \"Drama\"}, {\"id\": 10749, \"n...  72570   \n",
       "1119  [{\"id\": 12, \"name\": \"Adventure\"}, {\"id\": 28, \"...    943   \n",
       "2120  [{\"id\": 10749, \"name\": \"Romance\"}, {\"id\": 35, ...    114   \n",
       "85    [{\"id\": 28, \"name\": \"Action\"}, {\"id\": 12, \"nam...  68735   \n",
       "\n",
       "     original_language          original_title  popularity  \\\n",
       "2295                en  Breakfast of Champions   -0.434055   \n",
       "1265                en                 The Vow    0.297297   \n",
       "1119                en         Lethal Weapon 3    0.582465   \n",
       "2120                en            Pretty Woman    0.864902   \n",
       "85                  en                Warcraft    1.401611   \n",
       "\n",
       "                                   production_companies  \\\n",
       "2295        [{\"name\": \"Hollywood Pictures\", \"id\": 915}]   \n",
       "1265  [{\"name\": \"Spyglass Entertainment\", \"id\": 158}...   \n",
       "1119  [{\"name\": \"Silver Pictures\", \"id\": 1885}, {\"na...   \n",
       "2120  [{\"name\": \"Touchstone Pictures\", \"id\": 9195}, ...   \n",
       "85    [{\"name\": \"Universal Pictures\", \"id\": 33}, {\"n...   \n",
       "\n",
       "                                   production_countries release_date  \\\n",
       "2295  [{\"iso_3166_1\": \"US\", \"name\": \"United States o...   1999-02-13   \n",
       "1265  [{\"iso_3166_1\": \"US\", \"name\": \"United States o...   2012-02-05   \n",
       "1119  [{\"iso_3166_1\": \"US\", \"name\": \"United States o...   1992-05-15   \n",
       "2120  [{\"iso_3166_1\": \"US\", \"name\": \"United States o...   1990-03-23   \n",
       "85    [{\"iso_3166_1\": \"CA\", \"name\": \"Canada\"}, {\"iso...   2016-05-25   \n",
       "\n",
       "       runtime                                   spoken_languages  \\\n",
       "2295  0.243893  [{\"iso_639_1\": \"cs\", \"name\": \"\\u010cesk\\u00fd\"...   \n",
       "1265 -0.048779           [{\"iso_639_1\": \"en\", \"name\": \"English\"}]   \n",
       "1119  0.634123           [{\"iso_639_1\": \"en\", \"name\": \"English\"}]   \n",
       "2120  0.682901  [{\"iso_639_1\": \"en\", \"name\": \"English\"}, {\"iso...   \n",
       "85    0.878016           [{\"iso_639_1\": \"en\", \"name\": \"English\"}]   \n",
       "\n",
       "             ...          vote_average  vote_count  metacritic_metascore  \\\n",
       "2295         ...                   5.2   -0.244632             -0.711091   \n",
       "1265         ...                   7.0    0.707551             -0.656392   \n",
       "1119         ...                   6.4    0.344743             -0.820490   \n",
       "2120         ...                   7.0    1.048530             -0.218797   \n",
       "85           ...                   6.3    1.441447             -1.258084   \n",
       "\n",
       "      release_year  Release Date Production Budget  Domestic Gross  \\\n",
       "2295          1999     9/17/1999         -0.213462       -0.399895   \n",
       "1265          2012     2/10/2012          0.213462        1.440855   \n",
       "1119          1992     5/15/1992          0.332052        1.731597   \n",
       "2120          1990     3/23/1990         -0.166026        2.228144   \n",
       "85            2016     6/10/2016          3.296804        0.293837   \n",
       "\n",
       "      Worldwide Gross  num_year  log Worldwide Gross  \n",
       "2295        -0.241760      1999            -2.423222  \n",
       "1265         0.872933      2012             0.673722  \n",
       "1119         1.562174      1992             0.886222  \n",
       "2120         2.199836      1990             1.019866  \n",
       "85           2.159758      2016             1.012558  \n",
       "\n",
       "[5 rows x 21 columns]"
      ]
     },
     "execution_count": 30,
     "metadata": {},
     "output_type": "execute_result"
    }
   ],
   "source": [
    "#splitting data set into training and test data set in 0.7/0.3\n",
    "train, test = train_test_split(critic_revenue,test_size=0.30)\n",
    "train.head()"
   ]
  },
  {
   "cell_type": "code",
   "execution_count": 31,
   "metadata": {},
   "outputs": [],
   "source": [
    "#Fill the training and test data with require information\n",
    "X_train = train[features].dropna()\n",
    "y_train = train[target].dropna()\n",
    "X_test = test[features].dropna()\n",
    "y_test = test[target].dropna()"
   ]
  },
  {
   "cell_type": "code",
   "execution_count": 32,
   "metadata": {},
   "outputs": [
    {
     "name": "stderr",
     "output_type": "stream",
     "text": [
      "/Users/tatenda/anaconda3/lib/python3.6/site-packages/sklearn/utils/validation.py:578: DataConversionWarning: A column-vector y was passed when a 1d array was expected. Please change the shape of y to (n_samples, ), for example using ravel().\n",
      "  y = column_or_1d(y, warn=True)\n"
     ]
    },
    {
     "data": {
      "text/plain": [
       "GradientBoostingRegressor(alpha=0.9, criterion='friedman_mse', init=None,\n",
       "             learning_rate=0.1, loss='ls', max_depth=3, max_features=None,\n",
       "             max_leaf_nodes=None, min_impurity_decrease=0.0,\n",
       "             min_impurity_split=None, min_samples_leaf=1,\n",
       "             min_samples_split=2, min_weight_fraction_leaf=0.0,\n",
       "             n_estimators=100, presort='auto', random_state=None,\n",
       "             subsample=1.0, verbose=0, warm_start=False)"
      ]
     },
     "execution_count": 32,
     "metadata": {},
     "output_type": "execute_result"
    }
   ],
   "source": [
    "from sklearn import ensemble\n",
    "from sklearn.ensemble import GradientBoostingRegressor\n",
    "model = ensemble.GradientBoostingRegressor()\n",
    "model.fit(X_train, y_train)"
   ]
  },
  {
   "cell_type": "code",
   "execution_count": 33,
   "metadata": {},
   "outputs": [
    {
     "name": "stdout",
     "output_type": "stream",
     "text": [
      "Gradient Boosting R squared\": 0.4453\n"
     ]
    }
   ],
   "source": [
    "print('Gradient Boosting R squared\": %.4f' % model.score(X_test, y_test))"
   ]
  },
  {
   "cell_type": "code",
   "execution_count": 34,
   "metadata": {},
   "outputs": [
    {
     "name": "stdout",
     "output_type": "stream",
     "text": [
      "Gradient Boosting RMSE: 0.7141\n"
     ]
    }
   ],
   "source": [
    "from sklearn.metrics import mean_squared_error\n",
    "y_pred = model.predict(X_test)\n",
    "model_mse = mean_squared_error(y_pred, y_test)\n",
    "model_rmse = np.sqrt(model_mse)\n",
    "print('Gradient Boosting RMSE: %.4f' % model_rmse)"
   ]
  },
  {
   "cell_type": "code",
   "execution_count": null,
   "metadata": {},
   "outputs": [],
   "source": []
  }
 ],
 "metadata": {
  "kernelspec": {
   "display_name": "Python 3",
   "language": "python",
   "name": "python3"
  },
  "language_info": {
   "codemirror_mode": {
    "name": "ipython",
    "version": 3
   },
   "file_extension": ".py",
   "mimetype": "text/x-python",
   "name": "python",
   "nbconvert_exporter": "python",
   "pygments_lexer": "ipython3",
   "version": "3.6.5"
  }
 },
 "nbformat": 4,
 "nbformat_minor": 2
}
