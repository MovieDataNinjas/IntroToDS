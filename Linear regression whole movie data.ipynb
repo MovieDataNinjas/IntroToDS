{
 "cells": [
  {
   "cell_type": "code",
   "execution_count": 178,
   "metadata": {},
   "outputs": [],
   "source": [
    "import numpy as np\n",
    "import pandas as pd\n",
    "import seaborn as sb\n",
    "import matplotlib.pyplot as plt\n",
    "import sklearn\n",
    "\n",
    "from pandas import Series, DataFrame\n",
    "from pylab import rcParams\n",
    "from sklearn import preprocessing\n",
    "from sklearn.linear_model import LogisticRegression\n",
    "from sklearn.cross_validation import train_test_split\n",
    "from sklearn import metrics \n",
    "from sklearn.metrics import classification_report"
   ]
  },
  {
   "cell_type": "code",
   "execution_count": 179,
   "metadata": {},
   "outputs": [],
   "source": [
    "#Cleaning metadata\n",
    "# In[147]:\n",
    "metadata=pd.read_csv(\"movie_metadata_with_score_metacritic.csv\", index_col=\"Unnamed: 0\") #reading in metacritic dataset"
   ]
  },
  {
   "cell_type": "code",
   "execution_count": 180,
   "metadata": {},
   "outputs": [],
   "source": [
    "metadata=metadata.loc[~metadata[\"metacritic_metascore\"].isna()] #removing rows with no metacritic data\n"
   ]
  },
  {
   "cell_type": "code",
   "execution_count": 181,
   "metadata": {},
   "outputs": [],
   "source": [
    "metadata=metadata.drop([\"homepage\",\"keywords\",\"overview\",\"status\",\"tagline\",\"imdb_metascore\"],1) #dropping unnecessary features"
   ]
  },
  {
   "cell_type": "code",
   "execution_count": 182,
   "metadata": {},
   "outputs": [],
   "source": [
    "metadata=metadata.drop_duplicates() #dropping duplicates\n",
    "metadata[\"release_year\"]=metadata.release_date.str[0:4].astype(int) #creating new column with year for comparison"
   ]
  },
  {
   "cell_type": "code",
   "execution_count": 183,
   "metadata": {},
   "outputs": [],
   "source": [
    "# In[131]:\n",
    "\n",
    "rev_data=pd.read_csv(\"Revenue.csv\") #reading in revenue data\n",
    "#cleaning revenue data\n",
    "#Adjusting units\n",
    "rev_data[\"Budget\"]=rev_data[\"Budget($M)\"]*1000000\n",
    "rev_data[\"Worldwide Gross\"]=rev_data[\"Worldwide Gross($M)\"]*1000000\n",
    "rev_data[\"Domestic Gross\"]=rev_data[\"Domestic Gross($M)\"]*1000000\n",
    "rev_data=rev_data.drop([\"Budget($M)\",\"Domestic Gross($M)\",\"Worldwide Gross($M)\"],1)\n",
    "\n",
    "rev_data=rev_data.rename(columns={\"Movie\":\"title\"})#renaming column to match metadata\n",
    "rev_data=rev_data.drop_duplicates()#dropping duplicates"
   ]
  },
  {
   "cell_type": "code",
   "execution_count": 184,
   "metadata": {},
   "outputs": [],
   "source": [
    "# In[102]:\n",
    "\n",
    "\n",
    "critic_revenue=metadata.merge(rev_data,on=\"title\") #merging datasets\n",
    "critic_revenue=critic_revenue.drop_duplicates() #dropping duplicates\n",
    "critic_revenue=critic_revenue.loc[(critic_revenue[\"Worldwide Gross\"]!=0) | (critic_revenue[\"revenue\"]!=0)] #removing rows with no revenue data\n",
    "critic_revenue=critic_revenue.loc[(np.abs(critic_revenue.release_year-critic_revenue.Year)<=5)] #removing rows where the years don't match, as this indicates different movies\n",
    "\n",
    "#Normalizing by the median for merged data set\n",
    "\n",
    "critic_revenue[\"budget\"]=(metadata[\"budget\"]-metadata[\"budget\"].median())/metadata[\"budget\"].std()\n",
    "critic_revenue[\"Worldwide Gross\"]=(rev_data[\"Worldwide Gross\"]-rev_data[\"Worldwide Gross\"].median())/rev_data[\"Worldwide Gross\"].std()\n",
    "\n",
    "critic_revenue[\"Domestic Gross\"]=(rev_data[\"Domestic Gross\"]-rev_data[\"Domestic Gross\"].median())/rev_data[\"Domestic Gross\"].std()\n",
    "critic_revenue[\"popularity\"]=(metadata[\"popularity\"]-metadata[\"popularity\"].median())/metadata[\"popularity\"].std()\n",
    "critic_revenue[\"revenue\"]=(metadata[\"revenue\"]-metadata[\"revenue\"].median())/metadata[\"revenue\"].std()\n",
    "critic_revenue[\"vote_count\"]=(metadata[\"vote_count\"]-metadata[\"vote_count\"].median())/metadata[\"vote_count\"].std()"
   ]
  },
  {
   "cell_type": "code",
   "execution_count": 185,
   "metadata": {},
   "outputs": [
    {
     "data": {
      "text/html": [
       "<div>\n",
       "<style scoped>\n",
       "    .dataframe tbody tr th:only-of-type {\n",
       "        vertical-align: middle;\n",
       "    }\n",
       "\n",
       "    .dataframe tbody tr th {\n",
       "        vertical-align: top;\n",
       "    }\n",
       "\n",
       "    .dataframe thead th {\n",
       "        text-align: right;\n",
       "    }\n",
       "</style>\n",
       "<table border=\"1\" class=\"dataframe\">\n",
       "  <thead>\n",
       "    <tr style=\"text-align: right;\">\n",
       "      <th></th>\n",
       "      <th>budget</th>\n",
       "      <th>genres</th>\n",
       "      <th>id</th>\n",
       "      <th>original_language</th>\n",
       "      <th>original_title</th>\n",
       "      <th>popularity</th>\n",
       "      <th>production_companies</th>\n",
       "      <th>production_countries</th>\n",
       "      <th>release_date</th>\n",
       "      <th>revenue</th>\n",
       "      <th>...</th>\n",
       "      <th>vote_average</th>\n",
       "      <th>vote_count</th>\n",
       "      <th>metacritic_metascore</th>\n",
       "      <th>release_year</th>\n",
       "      <th>Month</th>\n",
       "      <th>Day</th>\n",
       "      <th>Year</th>\n",
       "      <th>Budget</th>\n",
       "      <th>Worldwide Gross</th>\n",
       "      <th>Domestic Gross</th>\n",
       "    </tr>\n",
       "  </thead>\n",
       "  <tbody>\n",
       "    <tr>\n",
       "      <th>0</th>\n",
       "      <td>5.128864</td>\n",
       "      <td>[{\"id\": 28, \"name\": \"Action\"}, {\"id\": 12, \"nam...</td>\n",
       "      <td>19995</td>\n",
       "      <td>en</td>\n",
       "      <td>Avatar</td>\n",
       "      <td>4.152090</td>\n",
       "      <td>[{\"name\": \"Ingenious Film Partners\", \"id\": 289...</td>\n",
       "      <td>[{\"iso_3166_1\": \"US\", \"name\": \"United States o...</td>\n",
       "      <td>2009-12-10</td>\n",
       "      <td>16.015967</td>\n",
       "      <td>...</td>\n",
       "      <td>7.2</td>\n",
       "      <td>8.801644</td>\n",
       "      <td>83.0</td>\n",
       "      <td>2009</td>\n",
       "      <td>Dec</td>\n",
       "      <td>18</td>\n",
       "      <td>2009</td>\n",
       "      <td>425000000.0</td>\n",
       "      <td>15.788171</td>\n",
       "      <td>10.883897</td>\n",
       "    </tr>\n",
       "    <tr>\n",
       "      <th>1</th>\n",
       "      <td>6.617890</td>\n",
       "      <td>[{\"id\": 28, \"name\": \"Action\"}, {\"id\": 12, \"nam...</td>\n",
       "      <td>206647</td>\n",
       "      <td>en</td>\n",
       "      <td>Spectre</td>\n",
       "      <td>3.800029</td>\n",
       "      <td>[{\"name\": \"Columbia Pictures\", \"id\": 5}, {\"nam...</td>\n",
       "      <td>[{\"iso_3166_1\": \"GB\", \"name\": \"United Kingdom\"...</td>\n",
       "      <td>2015-10-26</td>\n",
       "      <td>5.392672</td>\n",
       "      <td>...</td>\n",
       "      <td>6.3</td>\n",
       "      <td>3.195991</td>\n",
       "      <td>60.0</td>\n",
       "      <td>2015</td>\n",
       "      <td>Nov</td>\n",
       "      <td>6</td>\n",
       "      <td>2015</td>\n",
       "      <td>300000000.0</td>\n",
       "      <td>12.487435</td>\n",
       "      <td>9.400103</td>\n",
       "    </tr>\n",
       "    <tr>\n",
       "      <th>2</th>\n",
       "      <td>5.317947</td>\n",
       "      <td>[{\"id\": 28, \"name\": \"Action\"}, {\"id\": 80, \"nam...</td>\n",
       "      <td>49026</td>\n",
       "      <td>en</td>\n",
       "      <td>The Dark Knight Rises</td>\n",
       "      <td>2.816990</td>\n",
       "      <td>[{\"name\": \"Legendary Pictures\", \"id\": 923}, {\"...</td>\n",
       "      <td>[{\"iso_3166_1\": \"US\", \"name\": \"United States o...</td>\n",
       "      <td>2012-07-16</td>\n",
       "      <td>4.925602</td>\n",
       "      <td>...</td>\n",
       "      <td>7.6</td>\n",
       "      <td>3.169882</td>\n",
       "      <td>78.0</td>\n",
       "      <td>2012</td>\n",
       "      <td>Jul</td>\n",
       "      <td>20</td>\n",
       "      <td>2012</td>\n",
       "      <td>275000000.0</td>\n",
       "      <td>11.630039</td>\n",
       "      <td>13.468112</td>\n",
       "    </tr>\n",
       "    <tr>\n",
       "      <th>3</th>\n",
       "      <td>5.436124</td>\n",
       "      <td>[{\"id\": 28, \"name\": \"Action\"}, {\"id\": 12, \"nam...</td>\n",
       "      <td>49529</td>\n",
       "      <td>en</td>\n",
       "      <td>John Carter</td>\n",
       "      <td>2.970035</td>\n",
       "      <td>[{\"name\": \"Walt Disney Pictures\", \"id\": 2}]</td>\n",
       "      <td>[{\"iso_3166_1\": \"US\", \"name\": \"United States o...</td>\n",
       "      <td>2012-03-07</td>\n",
       "      <td>6.113343</td>\n",
       "      <td>...</td>\n",
       "      <td>6.1</td>\n",
       "      <td>6.732928</td>\n",
       "      <td>51.0</td>\n",
       "      <td>2012</td>\n",
       "      <td>Mar</td>\n",
       "      <td>9</td>\n",
       "      <td>2012</td>\n",
       "      <td>275000000.0</td>\n",
       "      <td>9.411535</td>\n",
       "      <td>9.296043</td>\n",
       "    </tr>\n",
       "    <tr>\n",
       "      <th>4</th>\n",
       "      <td>5.672477</td>\n",
       "      <td>[{\"id\": 16, \"name\": \"Animation\"}, {\"id\": 10751...</td>\n",
       "      <td>38757</td>\n",
       "      <td>en</td>\n",
       "      <td>Tangled</td>\n",
       "      <td>0.849728</td>\n",
       "      <td>[{\"name\": \"Walt Disney Pictures\", \"id\": 2}, {\"...</td>\n",
       "      <td>[{\"iso_3166_1\": \"US\", \"name\": \"United States o...</td>\n",
       "      <td>2010-11-24</td>\n",
       "      <td>1.456913</td>\n",
       "      <td>...</td>\n",
       "      <td>7.4</td>\n",
       "      <td>1.371465</td>\n",
       "      <td>71.0</td>\n",
       "      <td>2010</td>\n",
       "      <td>Nov</td>\n",
       "      <td>24</td>\n",
       "      <td>2010</td>\n",
       "      <td>260000000.0</td>\n",
       "      <td>8.538730</td>\n",
       "      <td>8.870740</td>\n",
       "    </tr>\n",
       "  </tbody>\n",
       "</table>\n",
       "<p>5 rows × 23 columns</p>\n",
       "</div>"
      ],
      "text/plain": [
       "     budget                                             genres      id  \\\n",
       "0  5.128864  [{\"id\": 28, \"name\": \"Action\"}, {\"id\": 12, \"nam...   19995   \n",
       "1  6.617890  [{\"id\": 28, \"name\": \"Action\"}, {\"id\": 12, \"nam...  206647   \n",
       "2  5.317947  [{\"id\": 28, \"name\": \"Action\"}, {\"id\": 80, \"nam...   49026   \n",
       "3  5.436124  [{\"id\": 28, \"name\": \"Action\"}, {\"id\": 12, \"nam...   49529   \n",
       "4  5.672477  [{\"id\": 16, \"name\": \"Animation\"}, {\"id\": 10751...   38757   \n",
       "\n",
       "  original_language         original_title  popularity  \\\n",
       "0                en                 Avatar    4.152090   \n",
       "1                en                Spectre    3.800029   \n",
       "2                en  The Dark Knight Rises    2.816990   \n",
       "3                en            John Carter    2.970035   \n",
       "4                en                Tangled    0.849728   \n",
       "\n",
       "                                production_companies  \\\n",
       "0  [{\"name\": \"Ingenious Film Partners\", \"id\": 289...   \n",
       "1  [{\"name\": \"Columbia Pictures\", \"id\": 5}, {\"nam...   \n",
       "2  [{\"name\": \"Legendary Pictures\", \"id\": 923}, {\"...   \n",
       "3        [{\"name\": \"Walt Disney Pictures\", \"id\": 2}]   \n",
       "4  [{\"name\": \"Walt Disney Pictures\", \"id\": 2}, {\"...   \n",
       "\n",
       "                                production_countries release_date    revenue  \\\n",
       "0  [{\"iso_3166_1\": \"US\", \"name\": \"United States o...   2009-12-10  16.015967   \n",
       "1  [{\"iso_3166_1\": \"GB\", \"name\": \"United Kingdom\"...   2015-10-26   5.392672   \n",
       "2  [{\"iso_3166_1\": \"US\", \"name\": \"United States o...   2012-07-16   4.925602   \n",
       "3  [{\"iso_3166_1\": \"US\", \"name\": \"United States o...   2012-03-07   6.113343   \n",
       "4  [{\"iso_3166_1\": \"US\", \"name\": \"United States o...   2010-11-24   1.456913   \n",
       "\n",
       "        ...        vote_average vote_count metacritic_metascore  release_year  \\\n",
       "0       ...                 7.2   8.801644                 83.0          2009   \n",
       "1       ...                 6.3   3.195991                 60.0          2015   \n",
       "2       ...                 7.6   3.169882                 78.0          2012   \n",
       "3       ...                 6.1   6.732928                 51.0          2012   \n",
       "4       ...                 7.4   1.371465                 71.0          2010   \n",
       "\n",
       "   Month  Day  Year       Budget  Worldwide Gross  Domestic Gross  \n",
       "0    Dec   18  2009  425000000.0        15.788171       10.883897  \n",
       "1    Nov    6  2015  300000000.0        12.487435        9.400103  \n",
       "2    Jul   20  2012  275000000.0        11.630039       13.468112  \n",
       "3    Mar    9  2012  275000000.0         9.411535        9.296043  \n",
       "4    Nov   24  2010  260000000.0         8.538730        8.870740  \n",
       "\n",
       "[5 rows x 23 columns]"
      ]
     },
     "execution_count": 185,
     "metadata": {},
     "output_type": "execute_result"
    }
   ],
   "source": [
    "critic_revenue.head()"
   ]
  },
  {
   "cell_type": "code",
   "execution_count": 186,
   "metadata": {},
   "outputs": [
    {
     "data": {
      "text/html": [
       "<div>\n",
       "<style scoped>\n",
       "    .dataframe tbody tr th:only-of-type {\n",
       "        vertical-align: middle;\n",
       "    }\n",
       "\n",
       "    .dataframe tbody tr th {\n",
       "        vertical-align: top;\n",
       "    }\n",
       "\n",
       "    .dataframe thead th {\n",
       "        text-align: right;\n",
       "    }\n",
       "</style>\n",
       "<table border=\"1\" class=\"dataframe\">\n",
       "  <thead>\n",
       "    <tr style=\"text-align: right;\">\n",
       "      <th></th>\n",
       "      <th>budget</th>\n",
       "      <th>id</th>\n",
       "      <th>popularity</th>\n",
       "      <th>revenue</th>\n",
       "      <th>runtime</th>\n",
       "      <th>vote_average</th>\n",
       "      <th>vote_count</th>\n",
       "      <th>metacritic_metascore</th>\n",
       "      <th>release_year</th>\n",
       "      <th>Day</th>\n",
       "      <th>Year</th>\n",
       "      <th>Budget</th>\n",
       "      <th>Worldwide Gross</th>\n",
       "      <th>Domestic Gross</th>\n",
       "    </tr>\n",
       "  </thead>\n",
       "  <tbody>\n",
       "    <tr>\n",
       "      <th>count</th>\n",
       "      <td>2726.000000</td>\n",
       "      <td>3256.000000</td>\n",
       "      <td>2726.000000</td>\n",
       "      <td>2726.000000</td>\n",
       "      <td>3256.000000</td>\n",
       "      <td>3256.000000</td>\n",
       "      <td>2726.000000</td>\n",
       "      <td>3256.000000</td>\n",
       "      <td>3256.000000</td>\n",
       "      <td>3256.000000</td>\n",
       "      <td>3256.000000</td>\n",
       "      <td>3.256000e+03</td>\n",
       "      <td>3165.000000</td>\n",
       "      <td>3165.000000</td>\n",
       "    </tr>\n",
       "    <tr>\n",
       "      <th>mean</th>\n",
       "      <td>0.538052</td>\n",
       "      <td>46744.065111</td>\n",
       "      <td>0.368488</td>\n",
       "      <td>0.506143</td>\n",
       "      <td>108.338145</td>\n",
       "      <td>6.227058</td>\n",
       "      <td>0.478001</td>\n",
       "      <td>54.511978</td>\n",
       "      <td>2003.377764</td>\n",
       "      <td>15.968980</td>\n",
       "      <td>2003.492629</td>\n",
       "      <td>3.568314e+07</td>\n",
       "      <td>0.650749</td>\n",
       "      <td>0.692290</td>\n",
       "    </tr>\n",
       "    <tr>\n",
       "      <th>std</th>\n",
       "      <td>1.033235</td>\n",
       "      <td>76274.855816</td>\n",
       "      <td>1.046400</td>\n",
       "      <td>1.092063</td>\n",
       "      <td>20.461891</td>\n",
       "      <td>0.901381</td>\n",
       "      <td>1.082341</td>\n",
       "      <td>18.306299</td>\n",
       "      <td>10.176708</td>\n",
       "      <td>8.523391</td>\n",
       "      <td>10.206889</td>\n",
       "      <td>4.255974e+07</td>\n",
       "      <td>1.144614</td>\n",
       "      <td>1.114837</td>\n",
       "    </tr>\n",
       "    <tr>\n",
       "      <th>min</th>\n",
       "      <td>-0.472706</td>\n",
       "      <td>12.000000</td>\n",
       "      <td>-0.510113</td>\n",
       "      <td>-0.195277</td>\n",
       "      <td>0.000000</td>\n",
       "      <td>0.000000</td>\n",
       "      <td>-0.258014</td>\n",
       "      <td>1.000000</td>\n",
       "      <td>1934.000000</td>\n",
       "      <td>1.000000</td>\n",
       "      <td>1934.000000</td>\n",
       "      <td>7.000000e+03</td>\n",
       "      <td>-0.090100</td>\n",
       "      <td>-0.272867</td>\n",
       "    </tr>\n",
       "    <tr>\n",
       "      <th>25%</th>\n",
       "      <td>-0.136195</td>\n",
       "      <td>8000.250000</td>\n",
       "      <td>-0.198752</td>\n",
       "      <td>-0.118261</td>\n",
       "      <td>95.000000</td>\n",
       "      <td>5.700000</td>\n",
       "      <td>-0.134958</td>\n",
       "      <td>41.000000</td>\n",
       "      <td>2000.000000</td>\n",
       "      <td>9.000000</td>\n",
       "      <td>2000.000000</td>\n",
       "      <td>8.000000e+06</td>\n",
       "      <td>0.022047</td>\n",
       "      <td>0.037612</td>\n",
       "    </tr>\n",
       "    <tr>\n",
       "      <th>50%</th>\n",
       "      <td>0.236353</td>\n",
       "      <td>12407.500000</td>\n",
       "      <td>0.102802</td>\n",
       "      <td>0.136245</td>\n",
       "      <td>105.000000</td>\n",
       "      <td>6.300000</td>\n",
       "      <td>0.081397</td>\n",
       "      <td>55.000000</td>\n",
       "      <td>2005.000000</td>\n",
       "      <td>16.000000</td>\n",
       "      <td>2005.000000</td>\n",
       "      <td>2.000000e+07</td>\n",
       "      <td>0.235115</td>\n",
       "      <td>0.324053</td>\n",
       "    </tr>\n",
       "    <tr>\n",
       "      <th>75%</th>\n",
       "      <td>0.945413</td>\n",
       "      <td>46572.250000</td>\n",
       "      <td>0.633679</td>\n",
       "      <td>0.675175</td>\n",
       "      <td>118.000000</td>\n",
       "      <td>6.800000</td>\n",
       "      <td>0.613742</td>\n",
       "      <td>68.000000</td>\n",
       "      <td>2010.000000</td>\n",
       "      <td>23.000000</td>\n",
       "      <td>2010.000000</td>\n",
       "      <td>4.500000e+07</td>\n",
       "      <td>0.778166</td>\n",
       "      <td>0.904869</td>\n",
       "    </tr>\n",
       "    <tr>\n",
       "      <th>max</th>\n",
       "      <td>8.508715</td>\n",
       "      <td>417859.000000</td>\n",
       "      <td>26.635176</td>\n",
       "      <td>16.015967</td>\n",
       "      <td>338.000000</td>\n",
       "      <td>9.300000</td>\n",
       "      <td>10.300581</td>\n",
       "      <td>100.000000</td>\n",
       "      <td>2016.000000</td>\n",
       "      <td>31.000000</td>\n",
       "      <td>2017.000000</td>\n",
       "      <td>4.250000e+08</td>\n",
       "      <td>15.788171</td>\n",
       "      <td>13.468112</td>\n",
       "    </tr>\n",
       "  </tbody>\n",
       "</table>\n",
       "</div>"
      ],
      "text/plain": [
       "            budget             id   popularity      revenue      runtime  \\\n",
       "count  2726.000000    3256.000000  2726.000000  2726.000000  3256.000000   \n",
       "mean      0.538052   46744.065111     0.368488     0.506143   108.338145   \n",
       "std       1.033235   76274.855816     1.046400     1.092063    20.461891   \n",
       "min      -0.472706      12.000000    -0.510113    -0.195277     0.000000   \n",
       "25%      -0.136195    8000.250000    -0.198752    -0.118261    95.000000   \n",
       "50%       0.236353   12407.500000     0.102802     0.136245   105.000000   \n",
       "75%       0.945413   46572.250000     0.633679     0.675175   118.000000   \n",
       "max       8.508715  417859.000000    26.635176    16.015967   338.000000   \n",
       "\n",
       "       vote_average   vote_count  metacritic_metascore  release_year  \\\n",
       "count   3256.000000  2726.000000           3256.000000   3256.000000   \n",
       "mean       6.227058     0.478001             54.511978   2003.377764   \n",
       "std        0.901381     1.082341             18.306299     10.176708   \n",
       "min        0.000000    -0.258014              1.000000   1934.000000   \n",
       "25%        5.700000    -0.134958             41.000000   2000.000000   \n",
       "50%        6.300000     0.081397             55.000000   2005.000000   \n",
       "75%        6.800000     0.613742             68.000000   2010.000000   \n",
       "max        9.300000    10.300581            100.000000   2016.000000   \n",
       "\n",
       "               Day         Year        Budget  Worldwide Gross  Domestic Gross  \n",
       "count  3256.000000  3256.000000  3.256000e+03      3165.000000     3165.000000  \n",
       "mean     15.968980  2003.492629  3.568314e+07         0.650749        0.692290  \n",
       "std       8.523391    10.206889  4.255974e+07         1.144614        1.114837  \n",
       "min       1.000000  1934.000000  7.000000e+03        -0.090100       -0.272867  \n",
       "25%       9.000000  2000.000000  8.000000e+06         0.022047        0.037612  \n",
       "50%      16.000000  2005.000000  2.000000e+07         0.235115        0.324053  \n",
       "75%      23.000000  2010.000000  4.500000e+07         0.778166        0.904869  \n",
       "max      31.000000  2017.000000  4.250000e+08        15.788171       13.468112  "
      ]
     },
     "execution_count": 186,
     "metadata": {},
     "output_type": "execute_result"
    }
   ],
   "source": [
    "critic_revenue.describe()"
   ]
  },
  {
   "cell_type": "code",
   "execution_count": 187,
   "metadata": {},
   "outputs": [
    {
     "data": {
      "text/plain": [
       "3256"
      ]
     },
     "execution_count": 187,
     "metadata": {},
     "output_type": "execute_result"
    }
   ],
   "source": [
    "critic_revenue.shape[0]"
   ]
  },
  {
   "cell_type": "code",
   "execution_count": 188,
   "metadata": {},
   "outputs": [],
   "source": [
    "import numpy as np\n",
    "import pandas as pd\n",
    "import matplotlib.pyplot as plt\n",
    "import seaborn as sns\n",
    "%matplotlib inline\n",
    "from sklearn.linear_model import LogisticRegression # to apply the Logistic regression\n",
    "from sklearn.model_selection import train_test_split # to split the data into two parts"
   ]
  },
  {
   "cell_type": "code",
   "execution_count": 189,
   "metadata": {},
   "outputs": [],
   "source": [
    "%matplotlib inline\n",
    "rcParams['figure.figsize'] = 10, 8\n",
    "sb.set_style('whitegrid')"
   ]
  },
  {
   "cell_type": "code",
   "execution_count": 190,
   "metadata": {},
   "outputs": [
    {
     "data": {
      "text/plain": [
       "budget                   True\n",
       "genres                  False\n",
       "id                      False\n",
       "original_language       False\n",
       "original_title          False\n",
       "popularity               True\n",
       "production_companies    False\n",
       "production_countries    False\n",
       "release_date            False\n",
       "revenue                  True\n",
       "runtime                 False\n",
       "spoken_languages        False\n",
       "title                   False\n",
       "vote_average            False\n",
       "vote_count               True\n",
       "metacritic_metascore    False\n",
       "release_year            False\n",
       "Month                   False\n",
       "Day                     False\n",
       "Year                    False\n",
       "Budget                  False\n",
       "Worldwide Gross          True\n",
       "Domestic Gross           True\n",
       "dtype: bool"
      ]
     },
     "execution_count": 190,
     "metadata": {},
     "output_type": "execute_result"
    }
   ],
   "source": [
    "critic_revenue.isnull().any()"
   ]
  },
  {
   "cell_type": "code",
   "execution_count": 191,
   "metadata": {},
   "outputs": [
    {
     "data": {
      "text/plain": [
       "(3256, 23)"
      ]
     },
     "execution_count": 191,
     "metadata": {},
     "output_type": "execute_result"
    }
   ],
   "source": [
    "#Replace every nan values with 0\n",
    "critic_revenue.fillna(value=0,axis=1,inplace=True)\n",
    "critic_revenue.shape"
   ]
  },
  {
   "cell_type": "code",
   "execution_count": 192,
   "metadata": {},
   "outputs": [
    {
     "data": {
      "text/plain": [
       "<matplotlib.axes._subplots.AxesSubplot at 0x116a04e10>"
      ]
     },
     "execution_count": 192,
     "metadata": {},
     "output_type": "execute_result"
    },
    {
     "data": {
      "image/png": "[encoded data removed]",
      "text/plain": [
       "<Figure size 720x576 with 2 Axes>"
      ]
     },
     "metadata": {},
     "output_type": "display_data"
    }
   ],
   "source": [
    "sns.heatmap(critic_revenue.corr(), vmax=1, square=True)"
   ]
  },
  {
   "cell_type": "code",
   "execution_count": 193,
   "metadata": {},
   "outputs": [],
   "source": [
    "#Defining features and target for this dataset based on co-relation\n",
    "features = ['Budget']\n",
    "target = ['Worldwide Gross']"
   ]
  },
  {
   "cell_type": "code",
   "execution_count": 194,
   "metadata": {},
   "outputs": [
    {
     "data": {
      "text/html": [
       "<div>\n",
       "<style scoped>\n",
       "    .dataframe tbody tr th:only-of-type {\n",
       "        vertical-align: middle;\n",
       "    }\n",
       "\n",
       "    .dataframe tbody tr th {\n",
       "        vertical-align: top;\n",
       "    }\n",
       "\n",
       "    .dataframe thead th {\n",
       "        text-align: right;\n",
       "    }\n",
       "</style>\n",
       "<table border=\"1\" class=\"dataframe\">\n",
       "  <thead>\n",
       "    <tr style=\"text-align: right;\">\n",
       "      <th></th>\n",
       "      <th>budget</th>\n",
       "      <th>genres</th>\n",
       "      <th>id</th>\n",
       "      <th>original_language</th>\n",
       "      <th>original_title</th>\n",
       "      <th>popularity</th>\n",
       "      <th>production_companies</th>\n",
       "      <th>production_countries</th>\n",
       "      <th>release_date</th>\n",
       "      <th>revenue</th>\n",
       "      <th>...</th>\n",
       "      <th>vote_average</th>\n",
       "      <th>vote_count</th>\n",
       "      <th>metacritic_metascore</th>\n",
       "      <th>release_year</th>\n",
       "      <th>Month</th>\n",
       "      <th>Day</th>\n",
       "      <th>Year</th>\n",
       "      <th>Budget</th>\n",
       "      <th>Worldwide Gross</th>\n",
       "      <th>Domestic Gross</th>\n",
       "    </tr>\n",
       "  </thead>\n",
       "  <tbody>\n",
       "    <tr>\n",
       "      <th>1394</th>\n",
       "      <td>0.354530</td>\n",
       "      <td>[{\"id\": 35, \"name\": \"Comedy\"}, {\"id\": 18, \"nam...</td>\n",
       "      <td>10025</td>\n",
       "      <td>en</td>\n",
       "      <td>Just My Luck</td>\n",
       "      <td>0.739457</td>\n",
       "      <td>[{\"name\": \"Regency Enterprises\", \"id\": 508}, {...</td>\n",
       "      <td>[{\"iso_3166_1\": \"US\", \"name\": \"United States o...</td>\n",
       "      <td>2006-05-12</td>\n",
       "      <td>0.048680</td>\n",
       "      <td>...</td>\n",
       "      <td>5.8</td>\n",
       "      <td>0.621229</td>\n",
       "      <td>29.0</td>\n",
       "      <td>2006</td>\n",
       "      <td>May</td>\n",
       "      <td>12</td>\n",
       "      <td>2006</td>\n",
       "      <td>28000000.0</td>\n",
       "      <td>0.375388</td>\n",
       "      <td>0.576897</td>\n",
       "    </tr>\n",
       "    <tr>\n",
       "      <th>2186</th>\n",
       "      <td>0.000000</td>\n",
       "      <td>[{\"id\": 18, \"name\": \"Drama\"}, {\"id\": 53, \"name...</td>\n",
       "      <td>19052</td>\n",
       "      <td>en</td>\n",
       "      <td>Light It Up</td>\n",
       "      <td>-0.188328</td>\n",
       "      <td>[]</td>\n",
       "      <td>[{\"iso_3166_1\": \"US\", \"name\": \"United States o...</td>\n",
       "      <td>1999-11-04</td>\n",
       "      <td>0.230803</td>\n",
       "      <td>...</td>\n",
       "      <td>6.6</td>\n",
       "      <td>0.043002</td>\n",
       "      <td>43.0</td>\n",
       "      <td>1999</td>\n",
       "      <td>Nov</td>\n",
       "      <td>10</td>\n",
       "      <td>1999</td>\n",
       "      <td>13000000.0</td>\n",
       "      <td>0.089007</td>\n",
       "      <td>0.000291</td>\n",
       "    </tr>\n",
       "    <tr>\n",
       "      <th>2759</th>\n",
       "      <td>0.000000</td>\n",
       "      <td>[{\"id\": 27, \"name\": \"Horror\"}, {\"id\": 53, \"nam...</td>\n",
       "      <td>11357</td>\n",
       "      <td>en</td>\n",
       "      <td>Halloween 4: The Return of Michael Myers</td>\n",
       "      <td>0.000000</td>\n",
       "      <td>[{\"name\": \"Dimension Films\", \"id\": 7405}]</td>\n",
       "      <td>[{\"iso_3166_1\": \"US\", \"name\": \"United States o...</td>\n",
       "      <td>1988-10-21</td>\n",
       "      <td>0.000000</td>\n",
       "      <td>...</td>\n",
       "      <td>5.9</td>\n",
       "      <td>0.000000</td>\n",
       "      <td>34.0</td>\n",
       "      <td>1988</td>\n",
       "      <td>Oct</td>\n",
       "      <td>1</td>\n",
       "      <td>1988</td>\n",
       "      <td>5000000.0</td>\n",
       "      <td>-0.017606</td>\n",
       "      <td>0.124590</td>\n",
       "    </tr>\n",
       "    <tr>\n",
       "      <th>2584</th>\n",
       "      <td>-0.118177</td>\n",
       "      <td>[{\"id\": 80, \"name\": \"Crime\"}, {\"id\": 18, \"name...</td>\n",
       "      <td>398</td>\n",
       "      <td>en</td>\n",
       "      <td>Capote</td>\n",
       "      <td>-0.378816</td>\n",
       "      <td>[{\"name\": \"Sony Pictures Classics\", \"id\": 58},...</td>\n",
       "      <td>[{\"iso_3166_1\": \"CA\", \"name\": \"Canada\"}, {\"iso...</td>\n",
       "      <td>2005-09-30</td>\n",
       "      <td>-0.195277</td>\n",
       "      <td>...</td>\n",
       "      <td>6.8</td>\n",
       "      <td>-0.227298</td>\n",
       "      <td>88.0</td>\n",
       "      <td>2005</td>\n",
       "      <td>Sep</td>\n",
       "      <td>30</td>\n",
       "      <td>2005</td>\n",
       "      <td>7000000.0</td>\n",
       "      <td>0.010868</td>\n",
       "      <td>-0.161911</td>\n",
       "    </tr>\n",
       "    <tr>\n",
       "      <th>2730</th>\n",
       "      <td>-0.165447</td>\n",
       "      <td>[{\"id\": 27, \"name\": \"Horror\"}]</td>\n",
       "      <td>242512</td>\n",
       "      <td>en</td>\n",
       "      <td>Ouija</td>\n",
       "      <td>2.318085</td>\n",
       "      <td>[{\"name\": \"Universal Pictures\", \"id\": 33}, {\"n...</td>\n",
       "      <td>[{\"iso_3166_1\": \"JP\", \"name\": \"Japan\"}, {\"iso_...</td>\n",
       "      <td>2014-10-24</td>\n",
       "      <td>1.710811</td>\n",
       "      <td>...</td>\n",
       "      <td>4.9</td>\n",
       "      <td>3.142238</td>\n",
       "      <td>38.0</td>\n",
       "      <td>2014</td>\n",
       "      <td>Oct</td>\n",
       "      <td>24</td>\n",
       "      <td>2014</td>\n",
       "      <td>5000000.0</td>\n",
       "      <td>-0.013617</td>\n",
       "      <td>0.088707</td>\n",
       "    </tr>\n",
       "  </tbody>\n",
       "</table>\n",
       "<p>5 rows × 23 columns</p>\n",
       "</div>"
      ],
      "text/plain": [
       "        budget                                             genres      id  \\\n",
       "1394  0.354530  [{\"id\": 35, \"name\": \"Comedy\"}, {\"id\": 18, \"nam...   10025   \n",
       "2186  0.000000  [{\"id\": 18, \"name\": \"Drama\"}, {\"id\": 53, \"name...   19052   \n",
       "2759  0.000000  [{\"id\": 27, \"name\": \"Horror\"}, {\"id\": 53, \"nam...   11357   \n",
       "2584 -0.118177  [{\"id\": 80, \"name\": \"Crime\"}, {\"id\": 18, \"name...     398   \n",
       "2730 -0.165447                     [{\"id\": 27, \"name\": \"Horror\"}]  242512   \n",
       "\n",
       "     original_language                            original_title  popularity  \\\n",
       "1394                en                              Just My Luck    0.739457   \n",
       "2186                en                               Light It Up   -0.188328   \n",
       "2759                en  Halloween 4: The Return of Michael Myers    0.000000   \n",
       "2584                en                                    Capote   -0.378816   \n",
       "2730                en                                     Ouija    2.318085   \n",
       "\n",
       "                                   production_companies  \\\n",
       "1394  [{\"name\": \"Regency Enterprises\", \"id\": 508}, {...   \n",
       "2186                                                 []   \n",
       "2759          [{\"name\": \"Dimension Films\", \"id\": 7405}]   \n",
       "2584  [{\"name\": \"Sony Pictures Classics\", \"id\": 58},...   \n",
       "2730  [{\"name\": \"Universal Pictures\", \"id\": 33}, {\"n...   \n",
       "\n",
       "                                   production_countries release_date  \\\n",
       "1394  [{\"iso_3166_1\": \"US\", \"name\": \"United States o...   2006-05-12   \n",
       "2186  [{\"iso_3166_1\": \"US\", \"name\": \"United States o...   1999-11-04   \n",
       "2759  [{\"iso_3166_1\": \"US\", \"name\": \"United States o...   1988-10-21   \n",
       "2584  [{\"iso_3166_1\": \"CA\", \"name\": \"Canada\"}, {\"iso...   2005-09-30   \n",
       "2730  [{\"iso_3166_1\": \"JP\", \"name\": \"Japan\"}, {\"iso_...   2014-10-24   \n",
       "\n",
       "       revenue       ...        vote_average vote_count metacritic_metascore  \\\n",
       "1394  0.048680       ...                 5.8   0.621229                 29.0   \n",
       "2186  0.230803       ...                 6.6   0.043002                 43.0   \n",
       "2759  0.000000       ...                 5.9   0.000000                 34.0   \n",
       "2584 -0.195277       ...                 6.8  -0.227298                 88.0   \n",
       "2730  1.710811       ...                 4.9   3.142238                 38.0   \n",
       "\n",
       "      release_year  Month  Day  Year      Budget  Worldwide Gross  \\\n",
       "1394          2006    May   12  2006  28000000.0         0.375388   \n",
       "2186          1999    Nov   10  1999  13000000.0         0.089007   \n",
       "2759          1988    Oct    1  1988   5000000.0        -0.017606   \n",
       "2584          2005    Sep   30  2005   7000000.0         0.010868   \n",
       "2730          2014    Oct   24  2014   5000000.0        -0.013617   \n",
       "\n",
       "      Domestic Gross  \n",
       "1394        0.576897  \n",
       "2186        0.000291  \n",
       "2759        0.124590  \n",
       "2584       -0.161911  \n",
       "2730        0.088707  \n",
       "\n",
       "[5 rows x 23 columns]"
      ]
     },
     "execution_count": 194,
     "metadata": {},
     "output_type": "execute_result"
    }
   ],
   "source": [
    "#splitting data set into training and test data set in 0.7/0.3\n",
    "train, test = train_test_split(critic_revenue,test_size=0.30)\n",
    "train.head()"
   ]
  },
  {
   "cell_type": "code",
   "execution_count": 195,
   "metadata": {},
   "outputs": [],
   "source": [
    "#Fill the training and test data with require information\n",
    "X_train = train[features].dropna()\n",
    "y_train = train[target].dropna()\n",
    "X_test = test[features].dropna()\n",
    "y_test = test[target].dropna()"
   ]
  },
  {
   "cell_type": "code",
   "execution_count": 196,
   "metadata": {},
   "outputs": [
    {
     "data": {
      "text/plain": [
       "LinearRegression(copy_X=True, fit_intercept=True, n_jobs=1, normalize=False)"
      ]
     },
     "execution_count": 196,
     "metadata": {},
     "output_type": "execute_result"
    }
   ],
   "source": [
    "from sklearn import linear_model# compute classification accuracy for the linear regression model\n",
    "from sklearn import metrics # for the check the error and accuracy of the model\n",
    "lin = linear_model.LinearRegression()\n",
    "# train the model on the training set\n",
    "lin.fit(X_train, y_train)"
   ]
  },
  {
   "cell_type": "code",
   "execution_count": 197,
   "metadata": {},
   "outputs": [],
   "source": [
    "lin_score_train = lin.score(X_test, y_test)\n",
    "lin_score_test = lin.score(X_train, y_train)"
   ]
  },
  {
   "cell_type": "code",
   "execution_count": 198,
   "metadata": {},
   "outputs": [
    {
     "name": "stdout",
     "output_type": "stream",
     "text": [
      "Training score:  0.9082610869579435\n",
      "Testing score:  0.9227305362307261\n"
     ]
    }
   ],
   "source": [
    "print(\"Training score: \",lin_score_train)\n",
    "print(\"Testing score: \",lin_score_test)"
   ]
  },
  {
   "cell_type": "code",
   "execution_count": 199,
   "metadata": {},
   "outputs": [],
   "source": [
    "yPrediction = lin.predict(X_test)"
   ]
  },
  {
   "cell_type": "code",
   "execution_count": 200,
   "metadata": {},
   "outputs": [
    {
     "data": {
      "image/png": "[encoded data removed]",
      "text/plain": [
       "<Figure size 720x576 with 1 Axes>"
      ]
     },
     "metadata": {},
     "output_type": "display_data"
    }
   ],
   "source": [
    "# Visualising the training set results\n",
    "plt.scatter(X_train, y_train, color = 'red')\n",
    "plt.plot(X_train, lin.predict(X_train), color = 'blue')\n",
    "plt.title (\"Visuals for Training Dataset\")\n",
    "plt.xlabel(\"budg\")\n",
    "plt.ylabel(\"wgross\")\n",
    "plt.show()"
   ]
  },
  {
   "cell_type": "code",
   "execution_count": 201,
   "metadata": {},
   "outputs": [
    {
     "data": {
      "image/png": "[encoded data removed]",
      "text/plain": [
       "<Figure size 720x576 with 1 Axes>"
      ]
     },
     "metadata": {},
     "output_type": "display_data"
    }
   ],
   "source": [
    "plt.scatter(X_test, y_test , color = 'red')\n",
    "plt.plot(X_train, lin.predict(X_train), color = 'blue')\n",
    "plt.title (\"Visuals for Test Dataset\")\n",
    "plt.xlabel(\"budg\")\n",
    "plt.ylabel(\"wgross\")\n",
    "plt.show()"
   ]
  },
  {
   "cell_type": "code",
   "execution_count": 202,
   "metadata": {},
   "outputs": [
    {
     "data": {
      "text/plain": [
       "KNeighborsRegressor(algorithm='auto', leaf_size=30, metric='minkowski',\n",
       "          metric_params=None, n_jobs=1, n_neighbors=5, p=2,\n",
       "          weights='uniform')"
      ]
     },
     "execution_count": 202,
     "metadata": {},
     "output_type": "execute_result"
    }
   ],
   "source": [
    "from sklearn import neighbors\n",
    "n_neighbors=5\n",
    "knn=neighbors.KNeighborsRegressor(n_neighbors,weights='uniform')\n",
    "knn.fit(X_train, y_train)"
   ]
  },
  {
   "cell_type": "code",
   "execution_count": 203,
   "metadata": {},
   "outputs": [
    {
     "name": "stdout",
     "output_type": "stream",
     "text": [
      "Training score:  0.9158032888336229\n",
      "Testing score:  0.9615581795991047\n"
     ]
    }
   ],
   "source": [
    "knn_score_train = knn.score(X_test, y_test)\n",
    "knn_score_test = knn.score(X_train, y_train)\n",
    "\n",
    "print(\"Training score: \",knn_score_train)\n",
    "print(\"Testing score: \",knn_score_test)"
   ]
  },
  {
   "cell_type": "code",
   "execution_count": 204,
   "metadata": {},
   "outputs": [],
   "source": [
    "#another way to work on linear regression"
   ]
  },
  {
   "cell_type": "code",
   "execution_count": 205,
   "metadata": {},
   "outputs": [
    {
     "data": {
      "image/png": "[encoded data removed]",
      "text/plain": [
       "<Figure size 720x576 with 1 Axes>"
      ]
     },
     "metadata": {},
     "output_type": "display_data"
    }
   ],
   "source": [
    "#Splitting the data into Train and Test\n",
    "from sklearn.cross_validation import train_test_split \n",
    "xtrain, xtest, ytrain, ytest = train_test_split(x,y,test_size=1/3, random_state=0)\n",
    "\n",
    "\n",
    "#Fitting simple linear regression to the Training Set\n",
    "from sklearn.linear_model import LinearRegression \n",
    "regressor = LinearRegression()\n",
    "regressor.fit(xtrain, ytrain)\n",
    "\n",
    "#Predicting the prices\n",
    "pred = regressor.predict(xtest)\n",
    "\n",
    "#Visualizing the training Test Results \n",
    "plt.scatter(xtrain, ytrain, color= 'red')\n",
    "plt.plot(xtrain, regressor.predict(xtrain), color = 'blue')\n",
    "plt.title (\"Visuals for Training Dataset\")\n",
    "plt.xlabel(\"budg\")\n",
    "plt.ylabel(\"wgross\")\n",
    "plt.show()"
   ]
  },
  {
   "cell_type": "code",
   "execution_count": 206,
   "metadata": {},
   "outputs": [
    {
     "data": {
      "image/png": "[encoded data removed]",
      "text/plain": [
       "<Figure size 720x576 with 1 Axes>"
      ]
     },
     "metadata": {},
     "output_type": "display_data"
    }
   ],
   "source": [
    "#Visualizing the Test Results \n",
    "plt.scatter(xtest, ytest, color= 'red')\n",
    "plt.plot(xtrain, regressor.predict(xtrain), color = 'blue')\n",
    "plt.title(\"Visuals for Test DataSet\")\n",
    "plt.xlabel(\"budg\")\n",
    "plt.ylabel(\"wgross\")\n",
    "plt.show()"
   ]
  },
  {
   "cell_type": "code",
   "execution_count": null,
   "metadata": {},
   "outputs": [],
   "source": []
  }
 ],
 "metadata": {
  "kernelspec": {
   "display_name": "Python 3",
   "language": "python",
   "name": "python3"
  },
  "language_info": {
   "codemirror_mode": {
    "name": "ipython",
    "version": 3
   },
   "file_extension": ".py",
   "mimetype": "text/x-python",
   "name": "python",
   "nbconvert_exporter": "python",
   "pygments_lexer": "ipython3",
   "version": "3.6.5"
  }
 },
 "nbformat": 4,
 "nbformat_minor": 2
}
