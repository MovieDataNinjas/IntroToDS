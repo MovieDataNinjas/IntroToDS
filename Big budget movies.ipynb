{
 "cells": [
  {
   "cell_type": "code",
   "execution_count": 60,
   "metadata": {},
   "outputs": [],
   "source": [
    "import numpy as np\n",
    "import pandas as pd\n",
    "import seaborn as sb\n",
    "import matplotlib.pyplot as plt\n",
    "import sklearn\n",
    "\n",
    "from pandas import Series, DataFrame\n",
    "from pylab import rcParams\n",
    "from sklearn import preprocessing\n",
    "from sklearn.linear_model import LogisticRegression\n",
    "from sklearn.cross_validation import train_test_split\n",
    "from sklearn import metrics \n",
    "from sklearn.metrics import classification_report"
   ]
  },
  {
   "cell_type": "code",
   "execution_count": 61,
   "metadata": {},
   "outputs": [],
   "source": [
    "#Cleaning metadata\n",
    "# In[147]:\n",
    "metadata=pd.read_csv(\"movie_metadata_with_score_metacritic.csv\", index_col=\"Unnamed: 0\") #reading in metacritic dataset"
   ]
  },
  {
   "cell_type": "code",
   "execution_count": 62,
   "metadata": {},
   "outputs": [],
   "source": [
    "metadata=metadata.loc[~metadata[\"metacritic_metascore\"].isna()] #removing rows with no metacritic data\n"
   ]
  },
  {
   "cell_type": "code",
   "execution_count": 63,
   "metadata": {},
   "outputs": [],
   "source": [
    "metadata=metadata.drop([\"homepage\",\"keywords\",\"overview\",\"status\",\"tagline\",\"imdb_metascore\"],1) #dropping unnecessary features"
   ]
  },
  {
   "cell_type": "code",
   "execution_count": 64,
   "metadata": {},
   "outputs": [],
   "source": [
    "metadata=metadata.drop_duplicates() #dropping duplicates\n",
    "metadata[\"release_year\"]=metadata.release_date.str[0:4].astype(int) #creating new column with year for comparison"
   ]
  },
  {
   "cell_type": "code",
   "execution_count": 65,
   "metadata": {},
   "outputs": [],
   "source": [
    "# In[131]:\n",
    "\n",
    "rev_data=pd.read_csv(\"Revenue.csv\") #reading in revenue data\n",
    "#cleaning revenue data\n",
    "#Adjusting units\n",
    "rev_data[\"Budget\"]=rev_data[\"Budget($M)\"]*1000000\n",
    "rev_data[\"Worldwide Gross\"]=rev_data[\"Worldwide Gross($M)\"]*1000000\n",
    "rev_data[\"Domestic Gross\"]=rev_data[\"Domestic Gross($M)\"]*1000000\n",
    "rev_data=rev_data.drop([\"Budget($M)\",\"Domestic Gross($M)\",\"Worldwide Gross($M)\"],1)\n",
    "\n",
    "rev_data=rev_data.rename(columns={\"Movie\":\"title\"})#renaming column to match metadata\n",
    "rev_data=rev_data.drop_duplicates()#dropping duplicates"
   ]
  },
  {
   "cell_type": "code",
   "execution_count": 66,
   "metadata": {},
   "outputs": [],
   "source": [
    "# In[102]:\n",
    "\n",
    "\n",
    "critic_revenue=metadata.merge(rev_data,on=\"title\") #merging datasets\n",
    "critic_revenue=critic_revenue.drop_duplicates() #dropping duplicates\n",
    "critic_revenue=critic_revenue.loc[(critic_revenue[\"Worldwide Gross\"]!=0) | (critic_revenue[\"revenue\"]!=0)] #removing rows with no revenue data\n",
    "critic_revenue=critic_revenue.loc[(np.abs(critic_revenue.release_year-critic_revenue.Year)<=5)] #removing rows where the years don't match, as this indicates different movies\n",
    "\n",
    "#Normalizing by the median for merged data set\n",
    "\n",
    "critic_revenue[\"budget\"]=(metadata[\"budget\"]-metadata[\"budget\"].median())/metadata[\"budget\"].std()\n",
    "critic_revenue[\"Worldwide Gross\"]=(rev_data[\"Worldwide Gross\"]-rev_data[\"Worldwide Gross\"].median())/rev_data[\"Worldwide Gross\"].std()\n",
    "\n",
    "critic_revenue[\"Domestic Gross\"]=(rev_data[\"Domestic Gross\"]-rev_data[\"Domestic Gross\"].median())/rev_data[\"Domestic Gross\"].std()\n",
    "critic_revenue[\"popularity\"]=(metadata[\"popularity\"]-metadata[\"popularity\"].median())/metadata[\"popularity\"].std()\n",
    "critic_revenue[\"revenue\"]=(metadata[\"revenue\"]-metadata[\"revenue\"].median())/metadata[\"revenue\"].std()\n",
    "critic_revenue[\"vote_count\"]=(metadata[\"vote_count\"]-metadata[\"vote_count\"].median())/metadata[\"vote_count\"].std()"
   ]
  },
  {
   "cell_type": "code",
   "execution_count": 67,
   "metadata": {},
   "outputs": [
    {
     "data": {
      "text/plain": [
       "875"
      ]
     },
     "execution_count": 67,
     "metadata": {},
     "output_type": "execute_result"
    }
   ],
   "source": [
    "critic_revenue_big=critic_revenue.loc[critic_revenue['Budget'] > 40000000]\n",
    "critic_revenue_big.shape[0]"
   ]
  },
  {
   "cell_type": "code",
   "execution_count": 68,
   "metadata": {},
   "outputs": [
    {
     "data": {
      "text/html": [
       "<div>\n",
       "<style scoped>\n",
       "    .dataframe tbody tr th:only-of-type {\n",
       "        vertical-align: middle;\n",
       "    }\n",
       "\n",
       "    .dataframe tbody tr th {\n",
       "        vertical-align: top;\n",
       "    }\n",
       "\n",
       "    .dataframe thead th {\n",
       "        text-align: right;\n",
       "    }\n",
       "</style>\n",
       "<table border=\"1\" class=\"dataframe\">\n",
       "  <thead>\n",
       "    <tr style=\"text-align: right;\">\n",
       "      <th></th>\n",
       "      <th>budget</th>\n",
       "      <th>genres</th>\n",
       "      <th>id</th>\n",
       "      <th>original_language</th>\n",
       "      <th>original_title</th>\n",
       "      <th>popularity</th>\n",
       "      <th>production_companies</th>\n",
       "      <th>production_countries</th>\n",
       "      <th>release_date</th>\n",
       "      <th>revenue</th>\n",
       "      <th>...</th>\n",
       "      <th>vote_average</th>\n",
       "      <th>vote_count</th>\n",
       "      <th>metacritic_metascore</th>\n",
       "      <th>release_year</th>\n",
       "      <th>Month</th>\n",
       "      <th>Day</th>\n",
       "      <th>Year</th>\n",
       "      <th>Budget</th>\n",
       "      <th>Worldwide Gross</th>\n",
       "      <th>Domestic Gross</th>\n",
       "    </tr>\n",
       "  </thead>\n",
       "  <tbody>\n",
       "    <tr>\n",
       "      <th>0</th>\n",
       "      <td>5.128864</td>\n",
       "      <td>[{\"id\": 28, \"name\": \"Action\"}, {\"id\": 12, \"nam...</td>\n",
       "      <td>19995</td>\n",
       "      <td>en</td>\n",
       "      <td>Avatar</td>\n",
       "      <td>4.152090</td>\n",
       "      <td>[{\"name\": \"Ingenious Film Partners\", \"id\": 289...</td>\n",
       "      <td>[{\"iso_3166_1\": \"US\", \"name\": \"United States o...</td>\n",
       "      <td>2009-12-10</td>\n",
       "      <td>16.015967</td>\n",
       "      <td>...</td>\n",
       "      <td>7.2</td>\n",
       "      <td>8.801644</td>\n",
       "      <td>83.0</td>\n",
       "      <td>2009</td>\n",
       "      <td>Dec</td>\n",
       "      <td>18</td>\n",
       "      <td>2009</td>\n",
       "      <td>425000000.0</td>\n",
       "      <td>15.788171</td>\n",
       "      <td>10.883897</td>\n",
       "    </tr>\n",
       "    <tr>\n",
       "      <th>1</th>\n",
       "      <td>6.617890</td>\n",
       "      <td>[{\"id\": 28, \"name\": \"Action\"}, {\"id\": 12, \"nam...</td>\n",
       "      <td>206647</td>\n",
       "      <td>en</td>\n",
       "      <td>Spectre</td>\n",
       "      <td>3.800029</td>\n",
       "      <td>[{\"name\": \"Columbia Pictures\", \"id\": 5}, {\"nam...</td>\n",
       "      <td>[{\"iso_3166_1\": \"GB\", \"name\": \"United Kingdom\"...</td>\n",
       "      <td>2015-10-26</td>\n",
       "      <td>5.392672</td>\n",
       "      <td>...</td>\n",
       "      <td>6.3</td>\n",
       "      <td>3.195991</td>\n",
       "      <td>60.0</td>\n",
       "      <td>2015</td>\n",
       "      <td>Nov</td>\n",
       "      <td>6</td>\n",
       "      <td>2015</td>\n",
       "      <td>300000000.0</td>\n",
       "      <td>12.487435</td>\n",
       "      <td>9.400103</td>\n",
       "    </tr>\n",
       "    <tr>\n",
       "      <th>2</th>\n",
       "      <td>5.317947</td>\n",
       "      <td>[{\"id\": 28, \"name\": \"Action\"}, {\"id\": 80, \"nam...</td>\n",
       "      <td>49026</td>\n",
       "      <td>en</td>\n",
       "      <td>The Dark Knight Rises</td>\n",
       "      <td>2.816990</td>\n",
       "      <td>[{\"name\": \"Legendary Pictures\", \"id\": 923}, {\"...</td>\n",
       "      <td>[{\"iso_3166_1\": \"US\", \"name\": \"United States o...</td>\n",
       "      <td>2012-07-16</td>\n",
       "      <td>4.925602</td>\n",
       "      <td>...</td>\n",
       "      <td>7.6</td>\n",
       "      <td>3.169882</td>\n",
       "      <td>78.0</td>\n",
       "      <td>2012</td>\n",
       "      <td>Jul</td>\n",
       "      <td>20</td>\n",
       "      <td>2012</td>\n",
       "      <td>275000000.0</td>\n",
       "      <td>11.630039</td>\n",
       "      <td>13.468112</td>\n",
       "    </tr>\n",
       "    <tr>\n",
       "      <th>3</th>\n",
       "      <td>5.436124</td>\n",
       "      <td>[{\"id\": 28, \"name\": \"Action\"}, {\"id\": 12, \"nam...</td>\n",
       "      <td>49529</td>\n",
       "      <td>en</td>\n",
       "      <td>John Carter</td>\n",
       "      <td>2.970035</td>\n",
       "      <td>[{\"name\": \"Walt Disney Pictures\", \"id\": 2}]</td>\n",
       "      <td>[{\"iso_3166_1\": \"US\", \"name\": \"United States o...</td>\n",
       "      <td>2012-03-07</td>\n",
       "      <td>6.113343</td>\n",
       "      <td>...</td>\n",
       "      <td>6.1</td>\n",
       "      <td>6.732928</td>\n",
       "      <td>51.0</td>\n",
       "      <td>2012</td>\n",
       "      <td>Mar</td>\n",
       "      <td>9</td>\n",
       "      <td>2012</td>\n",
       "      <td>275000000.0</td>\n",
       "      <td>9.411535</td>\n",
       "      <td>9.296043</td>\n",
       "    </tr>\n",
       "    <tr>\n",
       "      <th>4</th>\n",
       "      <td>5.672477</td>\n",
       "      <td>[{\"id\": 16, \"name\": \"Animation\"}, {\"id\": 10751...</td>\n",
       "      <td>38757</td>\n",
       "      <td>en</td>\n",
       "      <td>Tangled</td>\n",
       "      <td>0.849728</td>\n",
       "      <td>[{\"name\": \"Walt Disney Pictures\", \"id\": 2}, {\"...</td>\n",
       "      <td>[{\"iso_3166_1\": \"US\", \"name\": \"United States o...</td>\n",
       "      <td>2010-11-24</td>\n",
       "      <td>1.456913</td>\n",
       "      <td>...</td>\n",
       "      <td>7.4</td>\n",
       "      <td>1.371465</td>\n",
       "      <td>71.0</td>\n",
       "      <td>2010</td>\n",
       "      <td>Nov</td>\n",
       "      <td>24</td>\n",
       "      <td>2010</td>\n",
       "      <td>260000000.0</td>\n",
       "      <td>8.538730</td>\n",
       "      <td>8.870740</td>\n",
       "    </tr>\n",
       "  </tbody>\n",
       "</table>\n",
       "<p>5 rows × 23 columns</p>\n",
       "</div>"
      ],
      "text/plain": [
       "     budget                                             genres      id  \\\n",
       "0  5.128864  [{\"id\": 28, \"name\": \"Action\"}, {\"id\": 12, \"nam...   19995   \n",
       "1  6.617890  [{\"id\": 28, \"name\": \"Action\"}, {\"id\": 12, \"nam...  206647   \n",
       "2  5.317947  [{\"id\": 28, \"name\": \"Action\"}, {\"id\": 80, \"nam...   49026   \n",
       "3  5.436124  [{\"id\": 28, \"name\": \"Action\"}, {\"id\": 12, \"nam...   49529   \n",
       "4  5.672477  [{\"id\": 16, \"name\": \"Animation\"}, {\"id\": 10751...   38757   \n",
       "\n",
       "  original_language         original_title  popularity  \\\n",
       "0                en                 Avatar    4.152090   \n",
       "1                en                Spectre    3.800029   \n",
       "2                en  The Dark Knight Rises    2.816990   \n",
       "3                en            John Carter    2.970035   \n",
       "4                en                Tangled    0.849728   \n",
       "\n",
       "                                production_companies  \\\n",
       "0  [{\"name\": \"Ingenious Film Partners\", \"id\": 289...   \n",
       "1  [{\"name\": \"Columbia Pictures\", \"id\": 5}, {\"nam...   \n",
       "2  [{\"name\": \"Legendary Pictures\", \"id\": 923}, {\"...   \n",
       "3        [{\"name\": \"Walt Disney Pictures\", \"id\": 2}]   \n",
       "4  [{\"name\": \"Walt Disney Pictures\", \"id\": 2}, {\"...   \n",
       "\n",
       "                                production_countries release_date    revenue  \\\n",
       "0  [{\"iso_3166_1\": \"US\", \"name\": \"United States o...   2009-12-10  16.015967   \n",
       "1  [{\"iso_3166_1\": \"GB\", \"name\": \"United Kingdom\"...   2015-10-26   5.392672   \n",
       "2  [{\"iso_3166_1\": \"US\", \"name\": \"United States o...   2012-07-16   4.925602   \n",
       "3  [{\"iso_3166_1\": \"US\", \"name\": \"United States o...   2012-03-07   6.113343   \n",
       "4  [{\"iso_3166_1\": \"US\", \"name\": \"United States o...   2010-11-24   1.456913   \n",
       "\n",
       "        ...        vote_average vote_count metacritic_metascore  release_year  \\\n",
       "0       ...                 7.2   8.801644                 83.0          2009   \n",
       "1       ...                 6.3   3.195991                 60.0          2015   \n",
       "2       ...                 7.6   3.169882                 78.0          2012   \n",
       "3       ...                 6.1   6.732928                 51.0          2012   \n",
       "4       ...                 7.4   1.371465                 71.0          2010   \n",
       "\n",
       "   Month  Day  Year       Budget  Worldwide Gross  Domestic Gross  \n",
       "0    Dec   18  2009  425000000.0        15.788171       10.883897  \n",
       "1    Nov    6  2015  300000000.0        12.487435        9.400103  \n",
       "2    Jul   20  2012  275000000.0        11.630039       13.468112  \n",
       "3    Mar    9  2012  275000000.0         9.411535        9.296043  \n",
       "4    Nov   24  2010  260000000.0         8.538730        8.870740  \n",
       "\n",
       "[5 rows x 23 columns]"
      ]
     },
     "execution_count": 68,
     "metadata": {},
     "output_type": "execute_result"
    }
   ],
   "source": [
    "critic_revenue_big.head()"
   ]
  },
  {
   "cell_type": "code",
   "execution_count": 69,
   "metadata": {},
   "outputs": [
    {
     "data": {
      "text/html": [
       "<div>\n",
       "<style scoped>\n",
       "    .dataframe tbody tr th:only-of-type {\n",
       "        vertical-align: middle;\n",
       "    }\n",
       "\n",
       "    .dataframe tbody tr th {\n",
       "        vertical-align: top;\n",
       "    }\n",
       "\n",
       "    .dataframe thead th {\n",
       "        text-align: right;\n",
       "    }\n",
       "</style>\n",
       "<table border=\"1\" class=\"dataframe\">\n",
       "  <thead>\n",
       "    <tr style=\"text-align: right;\">\n",
       "      <th></th>\n",
       "      <th>budget</th>\n",
       "      <th>id</th>\n",
       "      <th>popularity</th>\n",
       "      <th>revenue</th>\n",
       "      <th>runtime</th>\n",
       "      <th>vote_average</th>\n",
       "      <th>vote_count</th>\n",
       "      <th>metacritic_metascore</th>\n",
       "      <th>release_year</th>\n",
       "      <th>Day</th>\n",
       "      <th>Year</th>\n",
       "      <th>Budget</th>\n",
       "      <th>Worldwide Gross</th>\n",
       "      <th>Domestic Gross</th>\n",
       "    </tr>\n",
       "  </thead>\n",
       "  <tbody>\n",
       "    <tr>\n",
       "      <th>count</th>\n",
       "      <td>790.000000</td>\n",
       "      <td>875.000000</td>\n",
       "      <td>790.000000</td>\n",
       "      <td>790.000000</td>\n",
       "      <td>875.000000</td>\n",
       "      <td>875.000000</td>\n",
       "      <td>790.000000</td>\n",
       "      <td>875.000000</td>\n",
       "      <td>875.000000</td>\n",
       "      <td>875.000000</td>\n",
       "      <td>875.000000</td>\n",
       "      <td>8.750000e+02</td>\n",
       "      <td>843.000000</td>\n",
       "      <td>843.000000</td>\n",
       "    </tr>\n",
       "    <tr>\n",
       "      <th>mean</th>\n",
       "      <td>1.736102</td>\n",
       "      <td>40801.016000</td>\n",
       "      <td>0.926885</td>\n",
       "      <td>1.356504</td>\n",
       "      <td>116.005714</td>\n",
       "      <td>6.226857</td>\n",
       "      <td>1.134173</td>\n",
       "      <td>53.166857</td>\n",
       "      <td>2005.568000</td>\n",
       "      <td>15.961143</td>\n",
       "      <td>2005.580571</td>\n",
       "      <td>9.006119e+07</td>\n",
       "      <td>1.967373</td>\n",
       "      <td>1.942543</td>\n",
       "    </tr>\n",
       "    <tr>\n",
       "      <th>std</th>\n",
       "      <td>1.133359</td>\n",
       "      <td>68212.757429</td>\n",
       "      <td>1.589232</td>\n",
       "      <td>1.595686</td>\n",
       "      <td>22.239979</td>\n",
       "      <td>0.784868</td>\n",
       "      <td>1.543924</td>\n",
       "      <td>16.225091</td>\n",
       "      <td>6.716446</td>\n",
       "      <td>8.263030</td>\n",
       "      <td>6.721415</td>\n",
       "      <td>4.816375e+07</td>\n",
       "      <td>1.540540</td>\n",
       "      <td>1.474964</td>\n",
       "    </tr>\n",
       "    <tr>\n",
       "      <th>min</th>\n",
       "      <td>-0.472706</td>\n",
       "      <td>12.000000</td>\n",
       "      <td>-0.467154</td>\n",
       "      <td>-0.195277</td>\n",
       "      <td>75.000000</td>\n",
       "      <td>3.400000</td>\n",
       "      <td>-0.239584</td>\n",
       "      <td>12.000000</td>\n",
       "      <td>1963.000000</td>\n",
       "      <td>1.000000</td>\n",
       "      <td>1963.000000</td>\n",
       "      <td>4.100000e+07</td>\n",
       "      <td>0.731039</td>\n",
       "      <td>-0.272386</td>\n",
       "    </tr>\n",
       "    <tr>\n",
       "      <th>25%</th>\n",
       "      <td>0.951322</td>\n",
       "      <td>3788.000000</td>\n",
       "      <td>0.104774</td>\n",
       "      <td>0.328703</td>\n",
       "      <td>99.000000</td>\n",
       "      <td>5.700000</td>\n",
       "      <td>0.098291</td>\n",
       "      <td>41.000000</td>\n",
       "      <td>2001.000000</td>\n",
       "      <td>9.000000</td>\n",
       "      <td>2001.000000</td>\n",
       "      <td>6.000000e+07</td>\n",
       "      <td>0.993959</td>\n",
       "      <td>1.016366</td>\n",
       "    </tr>\n",
       "    <tr>\n",
       "      <th>50%</th>\n",
       "      <td>1.418119</td>\n",
       "      <td>10195.000000</td>\n",
       "      <td>0.623477</td>\n",
       "      <td>0.873369</td>\n",
       "      <td>114.000000</td>\n",
       "      <td>6.200000</td>\n",
       "      <td>0.608175</td>\n",
       "      <td>52.000000</td>\n",
       "      <td>2006.000000</td>\n",
       "      <td>16.000000</td>\n",
       "      <td>2006.000000</td>\n",
       "      <td>7.500000e+07</td>\n",
       "      <td>1.423505</td>\n",
       "      <td>1.558999</td>\n",
       "    </tr>\n",
       "    <tr>\n",
       "      <th>75%</th>\n",
       "      <td>2.245355</td>\n",
       "      <td>47948.500000</td>\n",
       "      <td>1.277672</td>\n",
       "      <td>1.824799</td>\n",
       "      <td>128.000000</td>\n",
       "      <td>6.700000</td>\n",
       "      <td>1.532148</td>\n",
       "      <td>65.000000</td>\n",
       "      <td>2011.000000</td>\n",
       "      <td>23.000000</td>\n",
       "      <td>2011.000000</td>\n",
       "      <td>1.027500e+08</td>\n",
       "      <td>2.308742</td>\n",
       "      <td>2.382522</td>\n",
       "    </tr>\n",
       "    <tr>\n",
       "      <th>max</th>\n",
       "      <td>8.508715</td>\n",
       "      <td>417859.000000</td>\n",
       "      <td>26.635176</td>\n",
       "      <td>16.015967</td>\n",
       "      <td>248.000000</td>\n",
       "      <td>8.300000</td>\n",
       "      <td>10.300581</td>\n",
       "      <td>96.000000</td>\n",
       "      <td>2016.000000</td>\n",
       "      <td>31.000000</td>\n",
       "      <td>2016.000000</td>\n",
       "      <td>4.250000e+08</td>\n",
       "      <td>15.788171</td>\n",
       "      <td>13.468112</td>\n",
       "    </tr>\n",
       "  </tbody>\n",
       "</table>\n",
       "</div>"
      ],
      "text/plain": [
       "           budget             id  popularity     revenue     runtime  \\\n",
       "count  790.000000     875.000000  790.000000  790.000000  875.000000   \n",
       "mean     1.736102   40801.016000    0.926885    1.356504  116.005714   \n",
       "std      1.133359   68212.757429    1.589232    1.595686   22.239979   \n",
       "min     -0.472706      12.000000   -0.467154   -0.195277   75.000000   \n",
       "25%      0.951322    3788.000000    0.104774    0.328703   99.000000   \n",
       "50%      1.418119   10195.000000    0.623477    0.873369  114.000000   \n",
       "75%      2.245355   47948.500000    1.277672    1.824799  128.000000   \n",
       "max      8.508715  417859.000000   26.635176   16.015967  248.000000   \n",
       "\n",
       "       vote_average  vote_count  metacritic_metascore  release_year  \\\n",
       "count    875.000000  790.000000            875.000000    875.000000   \n",
       "mean       6.226857    1.134173             53.166857   2005.568000   \n",
       "std        0.784868    1.543924             16.225091      6.716446   \n",
       "min        3.400000   -0.239584             12.000000   1963.000000   \n",
       "25%        5.700000    0.098291             41.000000   2001.000000   \n",
       "50%        6.200000    0.608175             52.000000   2006.000000   \n",
       "75%        6.700000    1.532148             65.000000   2011.000000   \n",
       "max        8.300000   10.300581             96.000000   2016.000000   \n",
       "\n",
       "              Day         Year        Budget  Worldwide Gross  Domestic Gross  \n",
       "count  875.000000   875.000000  8.750000e+02       843.000000      843.000000  \n",
       "mean    15.961143  2005.580571  9.006119e+07         1.967373        1.942543  \n",
       "std      8.263030     6.721415  4.816375e+07         1.540540        1.474964  \n",
       "min      1.000000  1963.000000  4.100000e+07         0.731039       -0.272386  \n",
       "25%      9.000000  2001.000000  6.000000e+07         0.993959        1.016366  \n",
       "50%     16.000000  2006.000000  7.500000e+07         1.423505        1.558999  \n",
       "75%     23.000000  2011.000000  1.027500e+08         2.308742        2.382522  \n",
       "max     31.000000  2016.000000  4.250000e+08        15.788171       13.468112  "
      ]
     },
     "execution_count": 69,
     "metadata": {},
     "output_type": "execute_result"
    }
   ],
   "source": [
    "critic_revenue_big.describe()"
   ]
  },
  {
   "cell_type": "code",
   "execution_count": 70,
   "metadata": {},
   "outputs": [],
   "source": [
    "import numpy as np\n",
    "import pandas as pd\n",
    "import matplotlib.pyplot as plt\n",
    "import seaborn as sns\n",
    "%matplotlib inline\n",
    "from sklearn.linear_model import LogisticRegression # to apply the Logistic regression\n",
    "from sklearn.model_selection import train_test_split # to split the data into two parts"
   ]
  },
  {
   "cell_type": "code",
   "execution_count": 71,
   "metadata": {},
   "outputs": [],
   "source": [
    "%matplotlib inline\n",
    "rcParams['figure.figsize'] = 10, 8\n",
    "sb.set_style('whitegrid')"
   ]
  },
  {
   "cell_type": "code",
   "execution_count": 72,
   "metadata": {},
   "outputs": [
    {
     "data": {
      "text/plain": [
       "budget                   True\n",
       "genres                  False\n",
       "id                      False\n",
       "original_language       False\n",
       "original_title          False\n",
       "popularity               True\n",
       "production_companies    False\n",
       "production_countries    False\n",
       "release_date            False\n",
       "revenue                  True\n",
       "runtime                 False\n",
       "spoken_languages        False\n",
       "title                   False\n",
       "vote_average            False\n",
       "vote_count               True\n",
       "metacritic_metascore    False\n",
       "release_year            False\n",
       "Month                   False\n",
       "Day                     False\n",
       "Year                    False\n",
       "Budget                  False\n",
       "Worldwide Gross          True\n",
       "Domestic Gross           True\n",
       "dtype: bool"
      ]
     },
     "execution_count": 72,
     "metadata": {},
     "output_type": "execute_result"
    }
   ],
   "source": [
    "critic_revenue_big.isnull().any()"
   ]
  },
  {
   "cell_type": "code",
   "execution_count": 73,
   "metadata": {},
   "outputs": [
    {
     "name": "stderr",
     "output_type": "stream",
     "text": [
      "/Users/tatenda/anaconda3/lib/python3.6/site-packages/pandas/core/frame.py:3787: SettingWithCopyWarning: \n",
      "A value is trying to be set on a copy of a slice from a DataFrame\n",
      "\n",
      "See the caveats in the documentation: http://pandas.pydata.org/pandas-docs/stable/indexing.html#indexing-view-versus-copy\n",
      "  downcast=downcast, **kwargs)\n"
     ]
    },
    {
     "data": {
      "text/plain": [
       "(875, 23)"
      ]
     },
     "execution_count": 73,
     "metadata": {},
     "output_type": "execute_result"
    }
   ],
   "source": [
    "#Replace every nan values with 0\n",
    "critic_revenue_big.fillna(value=0,axis=1,inplace=True)\n",
    "critic_revenue_big.shape"
   ]
  },
  {
   "cell_type": "code",
   "execution_count": 74,
   "metadata": {},
   "outputs": [
    {
     "data": {
      "text/plain": [
       "<matplotlib.axes._subplots.AxesSubplot at 0x1a12b6f358>"
      ]
     },
     "execution_count": 74,
     "metadata": {},
     "output_type": "execute_result"
    },
    {
     "data": {
      "image/png": "[encoded data removed]",
      "text/plain": [
       "<Figure size 720x576 with 2 Axes>"
      ]
     },
     "metadata": {},
     "output_type": "display_data"
    }
   ],
   "source": [
    "sns.heatmap(critic_revenue_big.corr(), vmax=1, square=True)"
   ]
  },
  {
   "cell_type": "code",
   "execution_count": 75,
   "metadata": {},
   "outputs": [],
   "source": [
    "#Defining features and target for this dataset based on co-relation\n",
    "features = ['Budget']\n",
    "target = ['Worldwide Gross']"
   ]
  },
  {
   "cell_type": "code",
   "execution_count": 76,
   "metadata": {},
   "outputs": [
    {
     "data": {
      "text/html": [
       "<div>\n",
       "<style scoped>\n",
       "    .dataframe tbody tr th:only-of-type {\n",
       "        vertical-align: middle;\n",
       "    }\n",
       "\n",
       "    .dataframe tbody tr th {\n",
       "        vertical-align: top;\n",
       "    }\n",
       "\n",
       "    .dataframe thead th {\n",
       "        text-align: right;\n",
       "    }\n",
       "</style>\n",
       "<table border=\"1\" class=\"dataframe\">\n",
       "  <thead>\n",
       "    <tr style=\"text-align: right;\">\n",
       "      <th></th>\n",
       "      <th>budget</th>\n",
       "      <th>genres</th>\n",
       "      <th>id</th>\n",
       "      <th>original_language</th>\n",
       "      <th>original_title</th>\n",
       "      <th>popularity</th>\n",
       "      <th>production_companies</th>\n",
       "      <th>production_countries</th>\n",
       "      <th>release_date</th>\n",
       "      <th>revenue</th>\n",
       "      <th>...</th>\n",
       "      <th>vote_average</th>\n",
       "      <th>vote_count</th>\n",
       "      <th>metacritic_metascore</th>\n",
       "      <th>release_year</th>\n",
       "      <th>Month</th>\n",
       "      <th>Day</th>\n",
       "      <th>Year</th>\n",
       "      <th>Budget</th>\n",
       "      <th>Worldwide Gross</th>\n",
       "      <th>Domestic Gross</th>\n",
       "    </tr>\n",
       "  </thead>\n",
       "  <tbody>\n",
       "    <tr>\n",
       "      <th>714</th>\n",
       "      <td>1.063589</td>\n",
       "      <td>[{\"id\": 12, \"name\": \"Adventure\"}, {\"id\": 18, \"...</td>\n",
       "      <td>11358</td>\n",
       "      <td>en</td>\n",
       "      <td>Walking Tall</td>\n",
       "      <td>0.877262</td>\n",
       "      <td>[{\"name\": \"Metro-Goldwyn-Mayer (MGM)\", \"id\": 8...</td>\n",
       "      <td>[{\"iso_3166_1\": \"US\", \"name\": \"United States o...</td>\n",
       "      <td>2004-04-02</td>\n",
       "      <td>1.070962</td>\n",
       "      <td>...</td>\n",
       "      <td>6.0</td>\n",
       "      <td>0.854670</td>\n",
       "      <td>44.0</td>\n",
       "      <td>2004</td>\n",
       "      <td>Apr</td>\n",
       "      <td>2</td>\n",
       "      <td>2004</td>\n",
       "      <td>56000000.0</td>\n",
       "      <td>0.948849</td>\n",
       "      <td>1.715833</td>\n",
       "    </tr>\n",
       "    <tr>\n",
       "      <th>119</th>\n",
       "      <td>3.072592</td>\n",
       "      <td>[{\"id\": 12, \"name\": \"Adventure\"}, {\"id\": 16, \"...</td>\n",
       "      <td>11619</td>\n",
       "      <td>en</td>\n",
       "      <td>Flushed Away</td>\n",
       "      <td>3.054588</td>\n",
       "      <td>[{\"name\": \"Aardman Animations\", \"id\": 297}, {\"...</td>\n",
       "      <td>[{\"iso_3166_1\": \"GB\", \"name\": \"United Kingdom\"...</td>\n",
       "      <td>2006-10-22</td>\n",
       "      <td>1.980701</td>\n",
       "      <td>...</td>\n",
       "      <td>6.0</td>\n",
       "      <td>5.391410</td>\n",
       "      <td>74.0</td>\n",
       "      <td>2006</td>\n",
       "      <td>Nov</td>\n",
       "      <td>3</td>\n",
       "      <td>2006</td>\n",
       "      <td>149000000.0</td>\n",
       "      <td>3.493735</td>\n",
       "      <td>3.376437</td>\n",
       "    </tr>\n",
       "    <tr>\n",
       "      <th>806</th>\n",
       "      <td>0.874507</td>\n",
       "      <td>[{\"id\": 12, \"name\": \"Adventure\"}, {\"id\": 35, \"...</td>\n",
       "      <td>9896</td>\n",
       "      <td>en</td>\n",
       "      <td>Rat Race</td>\n",
       "      <td>-0.231265</td>\n",
       "      <td>[{\"name\": \"Paramount Pictures\", \"id\": 4}, {\"na...</td>\n",
       "      <td>[{\"iso_3166_1\": \"CA\", \"name\": \"Canada\"}, {\"iso...</td>\n",
       "      <td>2001-07-30</td>\n",
       "      <td>0.165892</td>\n",
       "      <td>...</td>\n",
       "      <td>6.0</td>\n",
       "      <td>-0.148204</td>\n",
       "      <td>52.0</td>\n",
       "      <td>2001</td>\n",
       "      <td>Aug</td>\n",
       "      <td>17</td>\n",
       "      <td>2001</td>\n",
       "      <td>48000000.0</td>\n",
       "      <td>0.822180</td>\n",
       "      <td>1.337440</td>\n",
       "    </tr>\n",
       "    <tr>\n",
       "      <th>575</th>\n",
       "      <td>1.134495</td>\n",
       "      <td>[{\"id\": 18, \"name\": \"Drama\"}, {\"id\": 10749, \"n...</td>\n",
       "      <td>11820</td>\n",
       "      <td>en</td>\n",
       "      <td>Mona Lisa Smile</td>\n",
       "      <td>0.334187</td>\n",
       "      <td>[{\"name\": \"Columbia Pictures\", \"id\": 5}, {\"nam...</td>\n",
       "      <td>[{\"iso_3166_1\": \"US\", \"name\": \"United States o...</td>\n",
       "      <td>2003-12-19</td>\n",
       "      <td>0.987370</td>\n",
       "      <td>...</td>\n",
       "      <td>6.5</td>\n",
       "      <td>0.568244</td>\n",
       "      <td>45.0</td>\n",
       "      <td>2003</td>\n",
       "      <td>Dec</td>\n",
       "      <td>19</td>\n",
       "      <td>2003</td>\n",
       "      <td>65000000.0</td>\n",
       "      <td>1.163310</td>\n",
       "      <td>0.891459</td>\n",
       "    </tr>\n",
       "    <tr>\n",
       "      <th>429</th>\n",
       "      <td>1.418119</td>\n",
       "      <td>[{\"id\": 53, \"name\": \"Thriller\"}, {\"id\": 28, \"n...</td>\n",
       "      <td>8870</td>\n",
       "      <td>en</td>\n",
       "      <td>Red Planet</td>\n",
       "      <td>0.614092</td>\n",
       "      <td>[{\"name\": \"Village Roadshow Pictures\", \"id\": 7...</td>\n",
       "      <td>[{\"iso_3166_1\": \"AU\", \"name\": \"Australia\"}, {\"...</td>\n",
       "      <td>2000-11-10</td>\n",
       "      <td>1.801483</td>\n",
       "      <td>...</td>\n",
       "      <td>5.4</td>\n",
       "      <td>0.565173</td>\n",
       "      <td>34.0</td>\n",
       "      <td>2000</td>\n",
       "      <td>Nov</td>\n",
       "      <td>10</td>\n",
       "      <td>2000</td>\n",
       "      <td>80000000.0</td>\n",
       "      <td>1.523404</td>\n",
       "      <td>0.609228</td>\n",
       "    </tr>\n",
       "  </tbody>\n",
       "</table>\n",
       "<p>5 rows × 23 columns</p>\n",
       "</div>"
      ],
      "text/plain": [
       "       budget                                             genres     id  \\\n",
       "714  1.063589  [{\"id\": 12, \"name\": \"Adventure\"}, {\"id\": 18, \"...  11358   \n",
       "119  3.072592  [{\"id\": 12, \"name\": \"Adventure\"}, {\"id\": 16, \"...  11619   \n",
       "806  0.874507  [{\"id\": 12, \"name\": \"Adventure\"}, {\"id\": 35, \"...   9896   \n",
       "575  1.134495  [{\"id\": 18, \"name\": \"Drama\"}, {\"id\": 10749, \"n...  11820   \n",
       "429  1.418119  [{\"id\": 53, \"name\": \"Thriller\"}, {\"id\": 28, \"n...   8870   \n",
       "\n",
       "    original_language   original_title  popularity  \\\n",
       "714                en     Walking Tall    0.877262   \n",
       "119                en     Flushed Away    3.054588   \n",
       "806                en         Rat Race   -0.231265   \n",
       "575                en  Mona Lisa Smile    0.334187   \n",
       "429                en       Red Planet    0.614092   \n",
       "\n",
       "                                  production_companies  \\\n",
       "714  [{\"name\": \"Metro-Goldwyn-Mayer (MGM)\", \"id\": 8...   \n",
       "119  [{\"name\": \"Aardman Animations\", \"id\": 297}, {\"...   \n",
       "806  [{\"name\": \"Paramount Pictures\", \"id\": 4}, {\"na...   \n",
       "575  [{\"name\": \"Columbia Pictures\", \"id\": 5}, {\"nam...   \n",
       "429  [{\"name\": \"Village Roadshow Pictures\", \"id\": 7...   \n",
       "\n",
       "                                  production_countries release_date   revenue  \\\n",
       "714  [{\"iso_3166_1\": \"US\", \"name\": \"United States o...   2004-04-02  1.070962   \n",
       "119  [{\"iso_3166_1\": \"GB\", \"name\": \"United Kingdom\"...   2006-10-22  1.980701   \n",
       "806  [{\"iso_3166_1\": \"CA\", \"name\": \"Canada\"}, {\"iso...   2001-07-30  0.165892   \n",
       "575  [{\"iso_3166_1\": \"US\", \"name\": \"United States o...   2003-12-19  0.987370   \n",
       "429  [{\"iso_3166_1\": \"AU\", \"name\": \"Australia\"}, {\"...   2000-11-10  1.801483   \n",
       "\n",
       "          ...        vote_average vote_count metacritic_metascore  \\\n",
       "714       ...                 6.0   0.854670                 44.0   \n",
       "119       ...                 6.0   5.391410                 74.0   \n",
       "806       ...                 6.0  -0.148204                 52.0   \n",
       "575       ...                 6.5   0.568244                 45.0   \n",
       "429       ...                 5.4   0.565173                 34.0   \n",
       "\n",
       "     release_year  Month  Day  Year       Budget  Worldwide Gross  \\\n",
       "714          2004    Apr    2  2004   56000000.0         0.948849   \n",
       "119          2006    Nov    3  2006  149000000.0         3.493735   \n",
       "806          2001    Aug   17  2001   48000000.0         0.822180   \n",
       "575          2003    Dec   19  2003   65000000.0         1.163310   \n",
       "429          2000    Nov   10  2000   80000000.0         1.523404   \n",
       "\n",
       "     Domestic Gross  \n",
       "714        1.715833  \n",
       "119        3.376437  \n",
       "806        1.337440  \n",
       "575        0.891459  \n",
       "429        0.609228  \n",
       "\n",
       "[5 rows x 23 columns]"
      ]
     },
     "execution_count": 76,
     "metadata": {},
     "output_type": "execute_result"
    }
   ],
   "source": [
    "#splitting data set into training and test data set in 0.7/0.3\n",
    "train, test = train_test_split(critic_revenue_big,test_size=0.30)\n",
    "train.head()"
   ]
  },
  {
   "cell_type": "code",
   "execution_count": 77,
   "metadata": {},
   "outputs": [],
   "source": [
    "#Fill the training and test data with require information\n",
    "X_train = train[features].dropna()\n",
    "y_train = train[target].dropna()\n",
    "X_test = test[features].dropna()\n",
    "y_test = test[target].dropna()"
   ]
  },
  {
   "cell_type": "code",
   "execution_count": 78,
   "metadata": {},
   "outputs": [
    {
     "data": {
      "text/plain": [
       "LinearRegression(copy_X=True, fit_intercept=True, n_jobs=1, normalize=False)"
      ]
     },
     "execution_count": 78,
     "metadata": {},
     "output_type": "execute_result"
    }
   ],
   "source": [
    "from sklearn import linear_model# compute classification accuracy for the linear regression model\n",
    "from sklearn import metrics # for the check the error and accuracy of the model\n",
    "lin = linear_model.LinearRegression()\n",
    "# train the model on the training set\n",
    "lin.fit(X_train, y_train)"
   ]
  },
  {
   "cell_type": "code",
   "execution_count": 79,
   "metadata": {},
   "outputs": [],
   "source": [
    "lin_score_train = lin.score(X_test, y_test)\n",
    "lin_score_test = lin.score(X_train, y_train)"
   ]
  },
  {
   "cell_type": "code",
   "execution_count": 80,
   "metadata": {},
   "outputs": [
    {
     "name": "stdout",
     "output_type": "stream",
     "text": [
      "Training score:  0.9055101666637576\n",
      "Testing score:  0.9122696100560779\n"
     ]
    }
   ],
   "source": [
    "print(\"Training score: \",lin_score_train)\n",
    "print(\"Testing score: \",lin_score_test)"
   ]
  },
  {
   "cell_type": "code",
   "execution_count": 81,
   "metadata": {},
   "outputs": [],
   "source": [
    "yPrediction = lin.predict(X_test)"
   ]
  },
  {
   "cell_type": "code",
   "execution_count": 82,
   "metadata": {},
   "outputs": [
    {
     "data": {
      "image/png": "[encoded data removed]",
      "text/plain": [
       "<Figure size 720x576 with 1 Axes>"
      ]
     },
     "metadata": {},
     "output_type": "display_data"
    }
   ],
   "source": [
    "# Visualising the training set results\n",
    "plt.scatter(X_train, y_train, color = 'red')\n",
    "plt.plot(X_train, lin.predict(X_train), color = 'blue')\n",
    "plt.title (\"Visuals for Training Dataset\")\n",
    "plt.xlabel(\"budg\")\n",
    "plt.ylabel(\"wgross\")\n",
    "plt.show()"
   ]
  },
  {
   "cell_type": "code",
   "execution_count": 83,
   "metadata": {},
   "outputs": [
    {
     "data": {
      "image/png": "[encoded data removed]",
      "text/plain": [
       "<Figure size 720x576 with 1 Axes>"
      ]
     },
     "metadata": {},
     "output_type": "display_data"
    }
   ],
   "source": [
    "plt.scatter(X_test, y_test , color = 'red')\n",
    "plt.plot(X_train, lin.predict(X_train), color = 'blue')\n",
    "plt.title (\"Visuals for Test Dataset\")\n",
    "plt.xlabel(\"budg\")\n",
    "plt.ylabel(\"wgross\")\n",
    "plt.show()"
   ]
  },
  {
   "cell_type": "code",
   "execution_count": 84,
   "metadata": {},
   "outputs": [
    {
     "data": {
      "text/plain": [
       "KNeighborsRegressor(algorithm='auto', leaf_size=30, metric='minkowski',\n",
       "          metric_params=None, n_jobs=1, n_neighbors=5, p=2,\n",
       "          weights='uniform')"
      ]
     },
     "execution_count": 84,
     "metadata": {},
     "output_type": "execute_result"
    }
   ],
   "source": [
    "from sklearn import neighbors\n",
    "n_neighbors=5\n",
    "knn=neighbors.KNeighborsRegressor(n_neighbors,weights='uniform')\n",
    "knn.fit(X_train, y_train)"
   ]
  },
  {
   "cell_type": "code",
   "execution_count": 85,
   "metadata": {},
   "outputs": [
    {
     "name": "stdout",
     "output_type": "stream",
     "text": [
      "Training score:  0.9180562115143881\n",
      "Testing score:  0.9227575378858761\n"
     ]
    }
   ],
   "source": [
    "knn_score_train = knn.score(X_test, y_test)\n",
    "knn_score_test = knn.score(X_train, y_train)\n",
    "\n",
    "print(\"Training score: \",knn_score_train)\n",
    "print(\"Testing score: \",knn_score_test)"
   ]
  },
  {
   "cell_type": "code",
   "execution_count": null,
   "metadata": {},
   "outputs": [],
   "source": []
  }
 ],
 "metadata": {
  "kernelspec": {
   "display_name": "Python 3",
   "language": "python",
   "name": "python3"
  },
  "language_info": {
   "codemirror_mode": {
    "name": "ipython",
    "version": 3
   },
   "file_extension": ".py",
   "mimetype": "text/x-python",
   "name": "python",
   "nbconvert_exporter": "python",
   "pygments_lexer": "ipython3",
   "version": "3.6.5"
  }
 },
 "nbformat": 4,
 "nbformat_minor": 2
}
