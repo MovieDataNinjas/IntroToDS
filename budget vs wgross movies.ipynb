{
 "cells": [
  {
   "cell_type": "code",
   "execution_count": 63,
   "metadata": {},
   "outputs": [],
   "source": [
    "import numpy as np\n",
    "import pandas as pd\n",
    "import seaborn as sb\n",
    "import matplotlib.pyplot as plt\n",
    "import sklearn\n",
    "\n",
    "from pandas import Series, DataFrame\n",
    "from pylab import rcParams\n",
    "from sklearn import preprocessing\n",
    "from sklearn.linear_model import LogisticRegression\n",
    "from sklearn.cross_validation import train_test_split\n",
    "from sklearn import metrics \n",
    "from sklearn.metrics import classification_report"
   ]
  },
  {
   "cell_type": "code",
   "execution_count": 64,
   "metadata": {},
   "outputs": [],
   "source": [
    "#Cleaning metadata\n",
    "# In[147]:\n",
    "metadata=pd.read_csv(\"movie_metadata_with_score_metacritic.csv\", index_col=\"Unnamed: 0\") #reading in metacritic dataset"
   ]
  },
  {
   "cell_type": "code",
   "execution_count": 65,
   "metadata": {},
   "outputs": [],
   "source": [
    "metadata=metadata.loc[~metadata[\"metacritic_metascore\"].isna()] #removing rows with no metacritic data\n"
   ]
  },
  {
   "cell_type": "code",
   "execution_count": 66,
   "metadata": {},
   "outputs": [],
   "source": [
    "metadata=metadata.drop([\"homepage\",\"keywords\",\"overview\",\"status\",\"tagline\",\"imdb_metascore\"],1) #dropping unnecessary features"
   ]
  },
  {
   "cell_type": "code",
   "execution_count": 67,
   "metadata": {},
   "outputs": [],
   "source": [
    "metadata=metadata.drop_duplicates() #dropping duplicates\n",
    "metadata[\"release_year\"]=metadata.release_date.str[0:4].astype(int) #creating new column with year for comparison"
   ]
  },
  {
   "cell_type": "code",
   "execution_count": 68,
   "metadata": {},
   "outputs": [],
   "source": [
    "# In[131]:\n",
    "\n",
    "rev_data=pd.read_csv(\"Revenue.csv\") #reading in revenue data\n",
    "#cleaning revenue data\n",
    "#Adjusting units\n",
    "rev_data[\"Budget\"]=rev_data[\"Budget($M)\"]*1000000\n",
    "rev_data[\"Worldwide Gross\"]=rev_data[\"Worldwide Gross($M)\"]*1000000\n",
    "rev_data[\"Domestic Gross\"]=rev_data[\"Domestic Gross($M)\"]*1000000\n",
    "rev_data=rev_data.drop([\"Budget($M)\",\"Domestic Gross($M)\",\"Worldwide Gross($M)\"],1)\n",
    "\n",
    "rev_data=rev_data.rename(columns={\"Movie\":\"title\"})#renaming column to match metadata\n",
    "rev_data=rev_data.drop_duplicates()#dropping duplicates"
   ]
  },
  {
   "cell_type": "code",
   "execution_count": 69,
   "metadata": {},
   "outputs": [],
   "source": [
    "# In[102]:\n",
    "\n",
    "\n",
    "critic_revenue=metadata.merge(rev_data,on=\"title\") #merging datasets\n",
    "critic_revenue=critic_revenue.drop_duplicates() #dropping duplicates\n",
    "critic_revenue=critic_revenue.loc[(critic_revenue[\"Worldwide Gross\"]!=0) | (critic_revenue[\"revenue\"]!=0)] #removing rows with no revenue data\n",
    "critic_revenue=critic_revenue.loc[(np.abs(critic_revenue.release_year-critic_revenue.Year)<=5)] #removing rows where the years don't match, as this indicates different movies\n",
    "\n",
    "#Normalizing by the median for merged data set\n",
    "\n",
    "critic_revenue[\"budget\"]=(metadata[\"budget\"]-metadata[\"budget\"].median())/metadata[\"budget\"].std()\n",
    "critic_revenue[\"Worldwide Gross\"]=(rev_data[\"Worldwide Gross\"]-rev_data[\"Worldwide Gross\"].median())/rev_data[\"Worldwide Gross\"].std()\n",
    "\n",
    "critic_revenue[\"Domestic Gross\"]=(rev_data[\"Domestic Gross\"]-rev_data[\"Domestic Gross\"].median())/rev_data[\"Domestic Gross\"].std()\n",
    "critic_revenue[\"popularity\"]=(metadata[\"popularity\"]-metadata[\"popularity\"].median())/metadata[\"popularity\"].std()\n",
    "critic_revenue[\"revenue\"]=(metadata[\"revenue\"]-metadata[\"revenue\"].median())/metadata[\"revenue\"].std()\n",
    "critic_revenue[\"vote_count\"]=(metadata[\"vote_count\"]-metadata[\"vote_count\"].median())/metadata[\"vote_count\"].std()"
   ]
  },
  {
   "cell_type": "code",
   "execution_count": 70,
   "metadata": {},
   "outputs": [],
   "source": [
    "#critic_revenue_small=critic_revenue.loc[critic_revenue['Budget'] <= 40000000]\n",
    "#critic_revenue_small.shape[0]"
   ]
  },
  {
   "cell_type": "code",
   "execution_count": 71,
   "metadata": {},
   "outputs": [
    {
     "data": {
      "text/html": [
       "<div>\n",
       "<style scoped>\n",
       "    .dataframe tbody tr th:only-of-type {\n",
       "        vertical-align: middle;\n",
       "    }\n",
       "\n",
       "    .dataframe tbody tr th {\n",
       "        vertical-align: top;\n",
       "    }\n",
       "\n",
       "    .dataframe thead th {\n",
       "        text-align: right;\n",
       "    }\n",
       "</style>\n",
       "<table border=\"1\" class=\"dataframe\">\n",
       "  <thead>\n",
       "    <tr style=\"text-align: right;\">\n",
       "      <th></th>\n",
       "      <th>budget</th>\n",
       "      <th>genres</th>\n",
       "      <th>id</th>\n",
       "      <th>original_language</th>\n",
       "      <th>original_title</th>\n",
       "      <th>popularity</th>\n",
       "      <th>production_companies</th>\n",
       "      <th>production_countries</th>\n",
       "      <th>release_date</th>\n",
       "      <th>revenue</th>\n",
       "      <th>...</th>\n",
       "      <th>vote_average</th>\n",
       "      <th>vote_count</th>\n",
       "      <th>metacritic_metascore</th>\n",
       "      <th>release_year</th>\n",
       "      <th>Month</th>\n",
       "      <th>Day</th>\n",
       "      <th>Year</th>\n",
       "      <th>Budget</th>\n",
       "      <th>Worldwide Gross</th>\n",
       "      <th>Domestic Gross</th>\n",
       "    </tr>\n",
       "  </thead>\n",
       "  <tbody>\n",
       "    <tr>\n",
       "      <th>0</th>\n",
       "      <td>5.128864</td>\n",
       "      <td>[{\"id\": 28, \"name\": \"Action\"}, {\"id\": 12, \"nam...</td>\n",
       "      <td>19995</td>\n",
       "      <td>en</td>\n",
       "      <td>Avatar</td>\n",
       "      <td>4.152090</td>\n",
       "      <td>[{\"name\": \"Ingenious Film Partners\", \"id\": 289...</td>\n",
       "      <td>[{\"iso_3166_1\": \"US\", \"name\": \"United States o...</td>\n",
       "      <td>2009-12-10</td>\n",
       "      <td>16.015967</td>\n",
       "      <td>...</td>\n",
       "      <td>7.2</td>\n",
       "      <td>8.801644</td>\n",
       "      <td>83.0</td>\n",
       "      <td>2009</td>\n",
       "      <td>Dec</td>\n",
       "      <td>18</td>\n",
       "      <td>2009</td>\n",
       "      <td>425000000.0</td>\n",
       "      <td>15.788171</td>\n",
       "      <td>10.883897</td>\n",
       "    </tr>\n",
       "    <tr>\n",
       "      <th>1</th>\n",
       "      <td>6.617890</td>\n",
       "      <td>[{\"id\": 28, \"name\": \"Action\"}, {\"id\": 12, \"nam...</td>\n",
       "      <td>206647</td>\n",
       "      <td>en</td>\n",
       "      <td>Spectre</td>\n",
       "      <td>3.800029</td>\n",
       "      <td>[{\"name\": \"Columbia Pictures\", \"id\": 5}, {\"nam...</td>\n",
       "      <td>[{\"iso_3166_1\": \"GB\", \"name\": \"United Kingdom\"...</td>\n",
       "      <td>2015-10-26</td>\n",
       "      <td>5.392672</td>\n",
       "      <td>...</td>\n",
       "      <td>6.3</td>\n",
       "      <td>3.195991</td>\n",
       "      <td>60.0</td>\n",
       "      <td>2015</td>\n",
       "      <td>Nov</td>\n",
       "      <td>6</td>\n",
       "      <td>2015</td>\n",
       "      <td>300000000.0</td>\n",
       "      <td>12.487435</td>\n",
       "      <td>9.400103</td>\n",
       "    </tr>\n",
       "    <tr>\n",
       "      <th>2</th>\n",
       "      <td>5.317947</td>\n",
       "      <td>[{\"id\": 28, \"name\": \"Action\"}, {\"id\": 80, \"nam...</td>\n",
       "      <td>49026</td>\n",
       "      <td>en</td>\n",
       "      <td>The Dark Knight Rises</td>\n",
       "      <td>2.816990</td>\n",
       "      <td>[{\"name\": \"Legendary Pictures\", \"id\": 923}, {\"...</td>\n",
       "      <td>[{\"iso_3166_1\": \"US\", \"name\": \"United States o...</td>\n",
       "      <td>2012-07-16</td>\n",
       "      <td>4.925602</td>\n",
       "      <td>...</td>\n",
       "      <td>7.6</td>\n",
       "      <td>3.169882</td>\n",
       "      <td>78.0</td>\n",
       "      <td>2012</td>\n",
       "      <td>Jul</td>\n",
       "      <td>20</td>\n",
       "      <td>2012</td>\n",
       "      <td>275000000.0</td>\n",
       "      <td>11.630039</td>\n",
       "      <td>13.468112</td>\n",
       "    </tr>\n",
       "    <tr>\n",
       "      <th>3</th>\n",
       "      <td>5.436124</td>\n",
       "      <td>[{\"id\": 28, \"name\": \"Action\"}, {\"id\": 12, \"nam...</td>\n",
       "      <td>49529</td>\n",
       "      <td>en</td>\n",
       "      <td>John Carter</td>\n",
       "      <td>2.970035</td>\n",
       "      <td>[{\"name\": \"Walt Disney Pictures\", \"id\": 2}]</td>\n",
       "      <td>[{\"iso_3166_1\": \"US\", \"name\": \"United States o...</td>\n",
       "      <td>2012-03-07</td>\n",
       "      <td>6.113343</td>\n",
       "      <td>...</td>\n",
       "      <td>6.1</td>\n",
       "      <td>6.732928</td>\n",
       "      <td>51.0</td>\n",
       "      <td>2012</td>\n",
       "      <td>Mar</td>\n",
       "      <td>9</td>\n",
       "      <td>2012</td>\n",
       "      <td>275000000.0</td>\n",
       "      <td>9.411535</td>\n",
       "      <td>9.296043</td>\n",
       "    </tr>\n",
       "    <tr>\n",
       "      <th>4</th>\n",
       "      <td>5.672477</td>\n",
       "      <td>[{\"id\": 16, \"name\": \"Animation\"}, {\"id\": 10751...</td>\n",
       "      <td>38757</td>\n",
       "      <td>en</td>\n",
       "      <td>Tangled</td>\n",
       "      <td>0.849728</td>\n",
       "      <td>[{\"name\": \"Walt Disney Pictures\", \"id\": 2}, {\"...</td>\n",
       "      <td>[{\"iso_3166_1\": \"US\", \"name\": \"United States o...</td>\n",
       "      <td>2010-11-24</td>\n",
       "      <td>1.456913</td>\n",
       "      <td>...</td>\n",
       "      <td>7.4</td>\n",
       "      <td>1.371465</td>\n",
       "      <td>71.0</td>\n",
       "      <td>2010</td>\n",
       "      <td>Nov</td>\n",
       "      <td>24</td>\n",
       "      <td>2010</td>\n",
       "      <td>260000000.0</td>\n",
       "      <td>8.538730</td>\n",
       "      <td>8.870740</td>\n",
       "    </tr>\n",
       "  </tbody>\n",
       "</table>\n",
       "<p>5 rows × 23 columns</p>\n",
       "</div>"
      ],
      "text/plain": [
       "     budget                                             genres      id  \\\n",
       "0  5.128864  [{\"id\": 28, \"name\": \"Action\"}, {\"id\": 12, \"nam...   19995   \n",
       "1  6.617890  [{\"id\": 28, \"name\": \"Action\"}, {\"id\": 12, \"nam...  206647   \n",
       "2  5.317947  [{\"id\": 28, \"name\": \"Action\"}, {\"id\": 80, \"nam...   49026   \n",
       "3  5.436124  [{\"id\": 28, \"name\": \"Action\"}, {\"id\": 12, \"nam...   49529   \n",
       "4  5.672477  [{\"id\": 16, \"name\": \"Animation\"}, {\"id\": 10751...   38757   \n",
       "\n",
       "  original_language         original_title  popularity  \\\n",
       "0                en                 Avatar    4.152090   \n",
       "1                en                Spectre    3.800029   \n",
       "2                en  The Dark Knight Rises    2.816990   \n",
       "3                en            John Carter    2.970035   \n",
       "4                en                Tangled    0.849728   \n",
       "\n",
       "                                production_companies  \\\n",
       "0  [{\"name\": \"Ingenious Film Partners\", \"id\": 289...   \n",
       "1  [{\"name\": \"Columbia Pictures\", \"id\": 5}, {\"nam...   \n",
       "2  [{\"name\": \"Legendary Pictures\", \"id\": 923}, {\"...   \n",
       "3        [{\"name\": \"Walt Disney Pictures\", \"id\": 2}]   \n",
       "4  [{\"name\": \"Walt Disney Pictures\", \"id\": 2}, {\"...   \n",
       "\n",
       "                                production_countries release_date    revenue  \\\n",
       "0  [{\"iso_3166_1\": \"US\", \"name\": \"United States o...   2009-12-10  16.015967   \n",
       "1  [{\"iso_3166_1\": \"GB\", \"name\": \"United Kingdom\"...   2015-10-26   5.392672   \n",
       "2  [{\"iso_3166_1\": \"US\", \"name\": \"United States o...   2012-07-16   4.925602   \n",
       "3  [{\"iso_3166_1\": \"US\", \"name\": \"United States o...   2012-03-07   6.113343   \n",
       "4  [{\"iso_3166_1\": \"US\", \"name\": \"United States o...   2010-11-24   1.456913   \n",
       "\n",
       "        ...        vote_average vote_count metacritic_metascore  release_year  \\\n",
       "0       ...                 7.2   8.801644                 83.0          2009   \n",
       "1       ...                 6.3   3.195991                 60.0          2015   \n",
       "2       ...                 7.6   3.169882                 78.0          2012   \n",
       "3       ...                 6.1   6.732928                 51.0          2012   \n",
       "4       ...                 7.4   1.371465                 71.0          2010   \n",
       "\n",
       "   Month  Day  Year       Budget  Worldwide Gross  Domestic Gross  \n",
       "0    Dec   18  2009  425000000.0        15.788171       10.883897  \n",
       "1    Nov    6  2015  300000000.0        12.487435        9.400103  \n",
       "2    Jul   20  2012  275000000.0        11.630039       13.468112  \n",
       "3    Mar    9  2012  275000000.0         9.411535        9.296043  \n",
       "4    Nov   24  2010  260000000.0         8.538730        8.870740  \n",
       "\n",
       "[5 rows x 23 columns]"
      ]
     },
     "execution_count": 71,
     "metadata": {},
     "output_type": "execute_result"
    }
   ],
   "source": [
    "critic_revenue.head()"
   ]
  },
  {
   "cell_type": "code",
   "execution_count": 72,
   "metadata": {},
   "outputs": [
    {
     "data": {
      "text/html": [
       "<div>\n",
       "<style scoped>\n",
       "    .dataframe tbody tr th:only-of-type {\n",
       "        vertical-align: middle;\n",
       "    }\n",
       "\n",
       "    .dataframe tbody tr th {\n",
       "        vertical-align: top;\n",
       "    }\n",
       "\n",
       "    .dataframe thead th {\n",
       "        text-align: right;\n",
       "    }\n",
       "</style>\n",
       "<table border=\"1\" class=\"dataframe\">\n",
       "  <thead>\n",
       "    <tr style=\"text-align: right;\">\n",
       "      <th></th>\n",
       "      <th>budget</th>\n",
       "      <th>id</th>\n",
       "      <th>popularity</th>\n",
       "      <th>revenue</th>\n",
       "      <th>runtime</th>\n",
       "      <th>vote_average</th>\n",
       "      <th>vote_count</th>\n",
       "      <th>metacritic_metascore</th>\n",
       "      <th>release_year</th>\n",
       "      <th>Day</th>\n",
       "      <th>Year</th>\n",
       "      <th>Budget</th>\n",
       "      <th>Worldwide Gross</th>\n",
       "      <th>Domestic Gross</th>\n",
       "    </tr>\n",
       "  </thead>\n",
       "  <tbody>\n",
       "    <tr>\n",
       "      <th>count</th>\n",
       "      <td>2726.000000</td>\n",
       "      <td>3256.000000</td>\n",
       "      <td>2726.000000</td>\n",
       "      <td>2726.000000</td>\n",
       "      <td>3256.000000</td>\n",
       "      <td>3256.000000</td>\n",
       "      <td>2726.000000</td>\n",
       "      <td>3256.000000</td>\n",
       "      <td>3256.000000</td>\n",
       "      <td>3256.000000</td>\n",
       "      <td>3256.000000</td>\n",
       "      <td>3.256000e+03</td>\n",
       "      <td>3165.000000</td>\n",
       "      <td>3165.000000</td>\n",
       "    </tr>\n",
       "    <tr>\n",
       "      <th>mean</th>\n",
       "      <td>0.538052</td>\n",
       "      <td>46744.065111</td>\n",
       "      <td>0.368488</td>\n",
       "      <td>0.506143</td>\n",
       "      <td>108.338145</td>\n",
       "      <td>6.227058</td>\n",
       "      <td>0.478001</td>\n",
       "      <td>54.511978</td>\n",
       "      <td>2003.377764</td>\n",
       "      <td>15.968980</td>\n",
       "      <td>2003.492629</td>\n",
       "      <td>3.568314e+07</td>\n",
       "      <td>0.650749</td>\n",
       "      <td>0.692290</td>\n",
       "    </tr>\n",
       "    <tr>\n",
       "      <th>std</th>\n",
       "      <td>1.033235</td>\n",
       "      <td>76274.855816</td>\n",
       "      <td>1.046400</td>\n",
       "      <td>1.092063</td>\n",
       "      <td>20.461891</td>\n",
       "      <td>0.901381</td>\n",
       "      <td>1.082341</td>\n",
       "      <td>18.306299</td>\n",
       "      <td>10.176708</td>\n",
       "      <td>8.523391</td>\n",
       "      <td>10.206889</td>\n",
       "      <td>4.255974e+07</td>\n",
       "      <td>1.144614</td>\n",
       "      <td>1.114837</td>\n",
       "    </tr>\n",
       "    <tr>\n",
       "      <th>min</th>\n",
       "      <td>-0.472706</td>\n",
       "      <td>12.000000</td>\n",
       "      <td>-0.510113</td>\n",
       "      <td>-0.195277</td>\n",
       "      <td>0.000000</td>\n",
       "      <td>0.000000</td>\n",
       "      <td>-0.258014</td>\n",
       "      <td>1.000000</td>\n",
       "      <td>1934.000000</td>\n",
       "      <td>1.000000</td>\n",
       "      <td>1934.000000</td>\n",
       "      <td>7.000000e+03</td>\n",
       "      <td>-0.090100</td>\n",
       "      <td>-0.272867</td>\n",
       "    </tr>\n",
       "    <tr>\n",
       "      <th>25%</th>\n",
       "      <td>-0.136195</td>\n",
       "      <td>8000.250000</td>\n",
       "      <td>-0.198752</td>\n",
       "      <td>-0.118261</td>\n",
       "      <td>95.000000</td>\n",
       "      <td>5.700000</td>\n",
       "      <td>-0.134958</td>\n",
       "      <td>41.000000</td>\n",
       "      <td>2000.000000</td>\n",
       "      <td>9.000000</td>\n",
       "      <td>2000.000000</td>\n",
       "      <td>8.000000e+06</td>\n",
       "      <td>0.022047</td>\n",
       "      <td>0.037612</td>\n",
       "    </tr>\n",
       "    <tr>\n",
       "      <th>50%</th>\n",
       "      <td>0.236353</td>\n",
       "      <td>12407.500000</td>\n",
       "      <td>0.102802</td>\n",
       "      <td>0.136245</td>\n",
       "      <td>105.000000</td>\n",
       "      <td>6.300000</td>\n",
       "      <td>0.081397</td>\n",
       "      <td>55.000000</td>\n",
       "      <td>2005.000000</td>\n",
       "      <td>16.000000</td>\n",
       "      <td>2005.000000</td>\n",
       "      <td>2.000000e+07</td>\n",
       "      <td>0.235115</td>\n",
       "      <td>0.324053</td>\n",
       "    </tr>\n",
       "    <tr>\n",
       "      <th>75%</th>\n",
       "      <td>0.945413</td>\n",
       "      <td>46572.250000</td>\n",
       "      <td>0.633679</td>\n",
       "      <td>0.675175</td>\n",
       "      <td>118.000000</td>\n",
       "      <td>6.800000</td>\n",
       "      <td>0.613742</td>\n",
       "      <td>68.000000</td>\n",
       "      <td>2010.000000</td>\n",
       "      <td>23.000000</td>\n",
       "      <td>2010.000000</td>\n",
       "      <td>4.500000e+07</td>\n",
       "      <td>0.778166</td>\n",
       "      <td>0.904869</td>\n",
       "    </tr>\n",
       "    <tr>\n",
       "      <th>max</th>\n",
       "      <td>8.508715</td>\n",
       "      <td>417859.000000</td>\n",
       "      <td>26.635176</td>\n",
       "      <td>16.015967</td>\n",
       "      <td>338.000000</td>\n",
       "      <td>9.300000</td>\n",
       "      <td>10.300581</td>\n",
       "      <td>100.000000</td>\n",
       "      <td>2016.000000</td>\n",
       "      <td>31.000000</td>\n",
       "      <td>2017.000000</td>\n",
       "      <td>4.250000e+08</td>\n",
       "      <td>15.788171</td>\n",
       "      <td>13.468112</td>\n",
       "    </tr>\n",
       "  </tbody>\n",
       "</table>\n",
       "</div>"
      ],
      "text/plain": [
       "            budget             id   popularity      revenue      runtime  \\\n",
       "count  2726.000000    3256.000000  2726.000000  2726.000000  3256.000000   \n",
       "mean      0.538052   46744.065111     0.368488     0.506143   108.338145   \n",
       "std       1.033235   76274.855816     1.046400     1.092063    20.461891   \n",
       "min      -0.472706      12.000000    -0.510113    -0.195277     0.000000   \n",
       "25%      -0.136195    8000.250000    -0.198752    -0.118261    95.000000   \n",
       "50%       0.236353   12407.500000     0.102802     0.136245   105.000000   \n",
       "75%       0.945413   46572.250000     0.633679     0.675175   118.000000   \n",
       "max       8.508715  417859.000000    26.635176    16.015967   338.000000   \n",
       "\n",
       "       vote_average   vote_count  metacritic_metascore  release_year  \\\n",
       "count   3256.000000  2726.000000           3256.000000   3256.000000   \n",
       "mean       6.227058     0.478001             54.511978   2003.377764   \n",
       "std        0.901381     1.082341             18.306299     10.176708   \n",
       "min        0.000000    -0.258014              1.000000   1934.000000   \n",
       "25%        5.700000    -0.134958             41.000000   2000.000000   \n",
       "50%        6.300000     0.081397             55.000000   2005.000000   \n",
       "75%        6.800000     0.613742             68.000000   2010.000000   \n",
       "max        9.300000    10.300581            100.000000   2016.000000   \n",
       "\n",
       "               Day         Year        Budget  Worldwide Gross  Domestic Gross  \n",
       "count  3256.000000  3256.000000  3.256000e+03      3165.000000     3165.000000  \n",
       "mean     15.968980  2003.492629  3.568314e+07         0.650749        0.692290  \n",
       "std       8.523391    10.206889  4.255974e+07         1.144614        1.114837  \n",
       "min       1.000000  1934.000000  7.000000e+03        -0.090100       -0.272867  \n",
       "25%       9.000000  2000.000000  8.000000e+06         0.022047        0.037612  \n",
       "50%      16.000000  2005.000000  2.000000e+07         0.235115        0.324053  \n",
       "75%      23.000000  2010.000000  4.500000e+07         0.778166        0.904869  \n",
       "max      31.000000  2017.000000  4.250000e+08        15.788171       13.468112  "
      ]
     },
     "execution_count": 72,
     "metadata": {},
     "output_type": "execute_result"
    }
   ],
   "source": [
    "critic_revenue.describe()"
   ]
  },
  {
   "cell_type": "code",
   "execution_count": 73,
   "metadata": {},
   "outputs": [],
   "source": [
    "import numpy as np\n",
    "import pandas as pd\n",
    "import matplotlib.pyplot as plt\n",
    "import seaborn as sns\n",
    "%matplotlib inline\n",
    "from sklearn.linear_model import LogisticRegression # to apply the Logistic regression\n",
    "from sklearn.model_selection import train_test_split # to split the data into two parts"
   ]
  },
  {
   "cell_type": "code",
   "execution_count": 74,
   "metadata": {},
   "outputs": [],
   "source": [
    "%matplotlib inline\n",
    "rcParams['figure.figsize'] = 10, 8\n",
    "sb.set_style('whitegrid')"
   ]
  },
  {
   "cell_type": "code",
   "execution_count": 75,
   "metadata": {},
   "outputs": [
    {
     "data": {
      "text/plain": [
       "budget                   True\n",
       "genres                  False\n",
       "id                      False\n",
       "original_language       False\n",
       "original_title          False\n",
       "popularity               True\n",
       "production_companies    False\n",
       "production_countries    False\n",
       "release_date            False\n",
       "revenue                  True\n",
       "runtime                 False\n",
       "spoken_languages        False\n",
       "title                   False\n",
       "vote_average            False\n",
       "vote_count               True\n",
       "metacritic_metascore    False\n",
       "release_year            False\n",
       "Month                   False\n",
       "Day                     False\n",
       "Year                    False\n",
       "Budget                  False\n",
       "Worldwide Gross          True\n",
       "Domestic Gross           True\n",
       "dtype: bool"
      ]
     },
     "execution_count": 75,
     "metadata": {},
     "output_type": "execute_result"
    }
   ],
   "source": [
    "critic_revenue.isnull().any()"
   ]
  },
  {
   "cell_type": "code",
   "execution_count": 76,
   "metadata": {},
   "outputs": [
    {
     "data": {
      "text/plain": [
       "(3256, 23)"
      ]
     },
     "execution_count": 76,
     "metadata": {},
     "output_type": "execute_result"
    }
   ],
   "source": [
    "#Replace every nan values with 0\n",
    "critic_revenue.fillna(value=0,axis=1,inplace=True)\n",
    "critic_revenue.shape"
   ]
  },
  {
   "cell_type": "code",
   "execution_count": 78,
   "metadata": {},
   "outputs": [
    {
     "data": {
      "text/plain": [
       "<matplotlib.axes._subplots.AxesSubplot at 0x1a18cc4940>"
      ]
     },
     "execution_count": 78,
     "metadata": {},
     "output_type": "execute_result"
    },
    {
     "data": {
      "image/png": "[encoded data removed]",
      "text/plain": [
       "<Figure size 720x576 with 2 Axes>"
      ]
     },
     "metadata": {},
     "output_type": "display_data"
    }
   ],
   "source": [
    "sns.heatmap(critic_revenue.corr(), vmax=1, square=True)"
   ]
  },
  {
   "cell_type": "code",
   "execution_count": 79,
   "metadata": {},
   "outputs": [],
   "source": [
    "#Defining features and target for this dataset based on co-relation\n",
    "features = ['Budget']\n",
    "target = ['Worldwide Gross']"
   ]
  },
  {
   "cell_type": "code",
   "execution_count": 80,
   "metadata": {},
   "outputs": [
    {
     "data": {
      "text/html": [
       "<div>\n",
       "<style scoped>\n",
       "    .dataframe tbody tr th:only-of-type {\n",
       "        vertical-align: middle;\n",
       "    }\n",
       "\n",
       "    .dataframe tbody tr th {\n",
       "        vertical-align: top;\n",
       "    }\n",
       "\n",
       "    .dataframe thead th {\n",
       "        text-align: right;\n",
       "    }\n",
       "</style>\n",
       "<table border=\"1\" class=\"dataframe\">\n",
       "  <thead>\n",
       "    <tr style=\"text-align: right;\">\n",
       "      <th></th>\n",
       "      <th>budget</th>\n",
       "      <th>genres</th>\n",
       "      <th>id</th>\n",
       "      <th>original_language</th>\n",
       "      <th>original_title</th>\n",
       "      <th>popularity</th>\n",
       "      <th>production_companies</th>\n",
       "      <th>production_countries</th>\n",
       "      <th>release_date</th>\n",
       "      <th>revenue</th>\n",
       "      <th>...</th>\n",
       "      <th>vote_average</th>\n",
       "      <th>vote_count</th>\n",
       "      <th>metacritic_metascore</th>\n",
       "      <th>release_year</th>\n",
       "      <th>Month</th>\n",
       "      <th>Day</th>\n",
       "      <th>Year</th>\n",
       "      <th>Budget</th>\n",
       "      <th>Worldwide Gross</th>\n",
       "      <th>Domestic Gross</th>\n",
       "    </tr>\n",
       "  </thead>\n",
       "  <tbody>\n",
       "    <tr>\n",
       "      <th>3208</th>\n",
       "      <td>0.000000</td>\n",
       "      <td>[{\"id\": 10402, \"name\": \"Music\"}, {\"id\": 99, \"n...</td>\n",
       "      <td>324322</td>\n",
       "      <td>fr</td>\n",
       "      <td>They Will Have to Kill Us First</td>\n",
       "      <td>0.000000</td>\n",
       "      <td>[{\"name\": \"Spring Films\", \"id\": 9158}, {\"name\"...</td>\n",
       "      <td>[{\"iso_3166_1\": \"GB\", \"name\": \"United Kingdom\"}]</td>\n",
       "      <td>2015-10-13</td>\n",
       "      <td>0.000000</td>\n",
       "      <td>...</td>\n",
       "      <td>5.0</td>\n",
       "      <td>0.000000</td>\n",
       "      <td>67.0</td>\n",
       "      <td>2015</td>\n",
       "      <td>Mar</td>\n",
       "      <td>4</td>\n",
       "      <td>2016</td>\n",
       "      <td>600000.0</td>\n",
       "      <td>-0.076450</td>\n",
       "      <td>-0.210727</td>\n",
       "    </tr>\n",
       "    <tr>\n",
       "      <th>1550</th>\n",
       "      <td>0.236353</td>\n",
       "      <td>[{\"id\": 27, \"name\": \"Horror\"}, {\"id\": 53, \"nam...</td>\n",
       "      <td>77883</td>\n",
       "      <td>en</td>\n",
       "      <td>The Possession</td>\n",
       "      <td>0.554089</td>\n",
       "      <td>[{\"name\": \"Ghost House Pictures\", \"id\": 768}, ...</td>\n",
       "      <td>[{\"iso_3166_1\": \"US\", \"name\": \"United States o...</td>\n",
       "      <td>2012-08-30</td>\n",
       "      <td>1.039686</td>\n",
       "      <td>...</td>\n",
       "      <td>5.8</td>\n",
       "      <td>0.584370</td>\n",
       "      <td>45.0</td>\n",
       "      <td>2012</td>\n",
       "      <td>Aug</td>\n",
       "      <td>31</td>\n",
       "      <td>2012</td>\n",
       "      <td>14000000.0</td>\n",
       "      <td>0.295718</td>\n",
       "      <td>0.073624</td>\n",
       "    </tr>\n",
       "    <tr>\n",
       "      <th>1700</th>\n",
       "      <td>0.212718</td>\n",
       "      <td>[{\"id\": 18, \"name\": \"Drama\"}, {\"id\": 80, \"name...</td>\n",
       "      <td>13279</td>\n",
       "      <td>en</td>\n",
       "      <td>Lakeview Terrace</td>\n",
       "      <td>0.084223</td>\n",
       "      <td>[{\"name\": \"Screen Gems\", \"id\": 3287}, {\"name\":...</td>\n",
       "      <td>[{\"iso_3166_1\": \"US\", \"name\": \"United States o...</td>\n",
       "      <td>2008-09-19</td>\n",
       "      <td>0.089080</td>\n",
       "      <td>...</td>\n",
       "      <td>5.9</td>\n",
       "      <td>0.041466</td>\n",
       "      <td>47.0</td>\n",
       "      <td>2008</td>\n",
       "      <td>Sep</td>\n",
       "      <td>19</td>\n",
       "      <td>2008</td>\n",
       "      <td>20000000.0</td>\n",
       "      <td>0.234127</td>\n",
       "      <td>0.563332</td>\n",
       "    </tr>\n",
       "    <tr>\n",
       "      <th>3147</th>\n",
       "      <td>0.000000</td>\n",
       "      <td>[{\"id\": 35, \"name\": \"Comedy\"}, {\"id\": 10749, \"...</td>\n",
       "      <td>248774</td>\n",
       "      <td>en</td>\n",
       "      <td>Obvious Child</td>\n",
       "      <td>0.000000</td>\n",
       "      <td>[{\"name\": \"Sundial Pictures\", \"id\": 10479}, {\"...</td>\n",
       "      <td>[{\"iso_3166_1\": \"US\", \"name\": \"United States o...</td>\n",
       "      <td>2014-06-06</td>\n",
       "      <td>0.000000</td>\n",
       "      <td>...</td>\n",
       "      <td>6.7</td>\n",
       "      <td>0.000000</td>\n",
       "      <td>76.0</td>\n",
       "      <td>2014</td>\n",
       "      <td>Jun</td>\n",
       "      <td>6</td>\n",
       "      <td>2014</td>\n",
       "      <td>1000000.0</td>\n",
       "      <td>-0.069430</td>\n",
       "      <td>-0.137956</td>\n",
       "    </tr>\n",
       "    <tr>\n",
       "      <th>1956</th>\n",
       "      <td>0.000000</td>\n",
       "      <td>[{\"id\": 35, \"name\": \"Comedy\"}, {\"id\": 18, \"nam...</td>\n",
       "      <td>83666</td>\n",
       "      <td>en</td>\n",
       "      <td>Moonrise Kingdom</td>\n",
       "      <td>0.000000</td>\n",
       "      <td>[{\"name\": \"Scott Rudin Productions\", \"id\": 258...</td>\n",
       "      <td>[{\"iso_3166_1\": \"US\", \"name\": \"United States o...</td>\n",
       "      <td>2012-05-16</td>\n",
       "      <td>0.000000</td>\n",
       "      <td>...</td>\n",
       "      <td>7.6</td>\n",
       "      <td>0.000000</td>\n",
       "      <td>84.0</td>\n",
       "      <td>2012</td>\n",
       "      <td>May</td>\n",
       "      <td>25</td>\n",
       "      <td>2012</td>\n",
       "      <td>16000000.0</td>\n",
       "      <td>0.152474</td>\n",
       "      <td>0.215763</td>\n",
       "    </tr>\n",
       "  </tbody>\n",
       "</table>\n",
       "<p>5 rows × 23 columns</p>\n",
       "</div>"
      ],
      "text/plain": [
       "        budget                                             genres      id  \\\n",
       "3208  0.000000  [{\"id\": 10402, \"name\": \"Music\"}, {\"id\": 99, \"n...  324322   \n",
       "1550  0.236353  [{\"id\": 27, \"name\": \"Horror\"}, {\"id\": 53, \"nam...   77883   \n",
       "1700  0.212718  [{\"id\": 18, \"name\": \"Drama\"}, {\"id\": 80, \"name...   13279   \n",
       "3147  0.000000  [{\"id\": 35, \"name\": \"Comedy\"}, {\"id\": 10749, \"...  248774   \n",
       "1956  0.000000  [{\"id\": 35, \"name\": \"Comedy\"}, {\"id\": 18, \"nam...   83666   \n",
       "\n",
       "     original_language                   original_title  popularity  \\\n",
       "3208                fr  They Will Have to Kill Us First    0.000000   \n",
       "1550                en                   The Possession    0.554089   \n",
       "1700                en                 Lakeview Terrace    0.084223   \n",
       "3147                en                    Obvious Child    0.000000   \n",
       "1956                en                 Moonrise Kingdom    0.000000   \n",
       "\n",
       "                                   production_companies  \\\n",
       "3208  [{\"name\": \"Spring Films\", \"id\": 9158}, {\"name\"...   \n",
       "1550  [{\"name\": \"Ghost House Pictures\", \"id\": 768}, ...   \n",
       "1700  [{\"name\": \"Screen Gems\", \"id\": 3287}, {\"name\":...   \n",
       "3147  [{\"name\": \"Sundial Pictures\", \"id\": 10479}, {\"...   \n",
       "1956  [{\"name\": \"Scott Rudin Productions\", \"id\": 258...   \n",
       "\n",
       "                                   production_countries release_date  \\\n",
       "3208   [{\"iso_3166_1\": \"GB\", \"name\": \"United Kingdom\"}]   2015-10-13   \n",
       "1550  [{\"iso_3166_1\": \"US\", \"name\": \"United States o...   2012-08-30   \n",
       "1700  [{\"iso_3166_1\": \"US\", \"name\": \"United States o...   2008-09-19   \n",
       "3147  [{\"iso_3166_1\": \"US\", \"name\": \"United States o...   2014-06-06   \n",
       "1956  [{\"iso_3166_1\": \"US\", \"name\": \"United States o...   2012-05-16   \n",
       "\n",
       "       revenue       ...        vote_average vote_count metacritic_metascore  \\\n",
       "3208  0.000000       ...                 5.0   0.000000                 67.0   \n",
       "1550  1.039686       ...                 5.8   0.584370                 45.0   \n",
       "1700  0.089080       ...                 5.9   0.041466                 47.0   \n",
       "3147  0.000000       ...                 6.7   0.000000                 76.0   \n",
       "1956  0.000000       ...                 7.6   0.000000                 84.0   \n",
       "\n",
       "      release_year  Month  Day  Year      Budget  Worldwide Gross  \\\n",
       "3208          2015    Mar    4  2016    600000.0        -0.076450   \n",
       "1550          2012    Aug   31  2012  14000000.0         0.295718   \n",
       "1700          2008    Sep   19  2008  20000000.0         0.234127   \n",
       "3147          2014    Jun    6  2014   1000000.0        -0.069430   \n",
       "1956          2012    May   25  2012  16000000.0         0.152474   \n",
       "\n",
       "      Domestic Gross  \n",
       "3208       -0.210727  \n",
       "1550        0.073624  \n",
       "1700        0.563332  \n",
       "3147       -0.137956  \n",
       "1956        0.215763  \n",
       "\n",
       "[5 rows x 23 columns]"
      ]
     },
     "execution_count": 80,
     "metadata": {},
     "output_type": "execute_result"
    }
   ],
   "source": [
    "#splitting data set into training and test data set in 0.7/0.3\n",
    "train, test = train_test_split(critic_revenue,test_size=0.30)\n",
    "train.head()"
   ]
  },
  {
   "cell_type": "code",
   "execution_count": 81,
   "metadata": {},
   "outputs": [],
   "source": [
    "#Fill the training and test data with require information\n",
    "X_train = train[features].dropna()\n",
    "y_train = train[target].dropna()\n",
    "X_test = test[features].dropna()\n",
    "y_test = test[target].dropna()"
   ]
  },
  {
   "cell_type": "code",
   "execution_count": 82,
   "metadata": {},
   "outputs": [
    {
     "data": {
      "text/plain": [
       "LinearRegression(copy_X=True, fit_intercept=True, n_jobs=1, normalize=False)"
      ]
     },
     "execution_count": 82,
     "metadata": {},
     "output_type": "execute_result"
    }
   ],
   "source": [
    "from sklearn import linear_model# compute classification accuracy for the linear regression model\n",
    "from sklearn import metrics # for the check the error and accuracy of the model\n",
    "lin = linear_model.LinearRegression()\n",
    "# train the model on the training set\n",
    "lin.fit(X_train, y_train)"
   ]
  },
  {
   "cell_type": "code",
   "execution_count": 83,
   "metadata": {},
   "outputs": [],
   "source": [
    "lin_score_train = lin.score(X_test, y_test)\n",
    "lin_score_test = lin.score(X_train, y_train)"
   ]
  },
  {
   "cell_type": "code",
   "execution_count": 85,
   "metadata": {},
   "outputs": [
    {
     "name": "stdout",
     "output_type": "stream",
     "text": [
      "Training score:  0.9121813613796632\n",
      "Testing score:  0.9204065294467845\n"
     ]
    }
   ],
   "source": [
    "print(\"Training score: \",lin_score_train)\n",
    "print(\"Testing score: \",lin_score_test)"
   ]
  },
  {
   "cell_type": "code",
   "execution_count": 86,
   "metadata": {},
   "outputs": [],
   "source": [
    "yPrediction = lin.predict(X_test)"
   ]
  },
  {
   "cell_type": "code",
   "execution_count": 87,
   "metadata": {},
   "outputs": [
    {
     "name": "stdout",
     "output_type": "stream",
     "text": [
      "Linear Regression RMSE: 0.3338\n"
     ]
    }
   ],
   "source": [
    "#Calculate root-mean-square error (RMSE):\n",
    "import numpy as np\n",
    "from sklearn.metrics import mean_squared_error\n",
    "lin_mse = mean_squared_error(yPrediction, y_test)\n",
    "lin_rmse = np.sqrt(lin_mse)\n",
    "print('Linear Regression RMSE: %.4f' % lin_rmse)"
   ]
  },
  {
   "cell_type": "code",
   "execution_count": 89,
   "metadata": {},
   "outputs": [
    {
     "name": "stdout",
     "output_type": "stream",
     "text": [
      "Linear Regression MAE: 0.1673\n"
     ]
    }
   ],
   "source": [
    "#Calculate mean absolute error (MAE):\n",
    "from sklearn.metrics import mean_absolute_error\n",
    "\n",
    "lin_mae = mean_absolute_error(yPrediction, y_test)\n",
    "print('Linear Regression MAE: %.4f' % lin_mae)"
   ]
  },
  {
   "cell_type": "code",
   "execution_count": 90,
   "metadata": {},
   "outputs": [
    {
     "data": {
      "image/png": "[encoded data removed]",
      "text/plain": [
       "<Figure size 720x576 with 1 Axes>"
      ]
     },
     "metadata": {},
     "output_type": "display_data"
    }
   ],
   "source": [
    "# Visualising the training set results\n",
    "plt.scatter(X_train, y_train, color = 'red')\n",
    "plt.plot(X_train, lin.predict(X_train), color = 'blue')\n",
    "plt.title (\"Visuals for Training Dataset\")\n",
    "plt.xlabel(\"Budget\")\n",
    "plt.ylabel(\"worldwide gross\")\n",
    "plt.show()"
   ]
  },
  {
   "cell_type": "code",
   "execution_count": 92,
   "metadata": {},
   "outputs": [
    {
     "data": {
      "image/png": "[encoded data removed]",
      "text/plain": [
       "<Figure size 720x576 with 1 Axes>"
      ]
     },
     "metadata": {},
     "output_type": "display_data"
    }
   ],
   "source": [
    "plt.scatter(X_test, y_test , color = 'red')\n",
    "plt.plot(X_train, lin.predict(X_train), color = 'blue')\n",
    "plt.title (\"Visuals for Test Dataset\")\n",
    "plt.xlabel(\"Budget\")\n",
    "plt.ylabel(\"worldwide gross\")\n",
    "plt.show()"
   ]
  },
  {
   "cell_type": "code",
   "execution_count": 93,
   "metadata": {},
   "outputs": [
    {
     "data": {
      "text/plain": [
       "KNeighborsRegressor(algorithm='auto', leaf_size=30, metric='minkowski',\n",
       "          metric_params=None, n_jobs=1, n_neighbors=5, p=2,\n",
       "          weights='uniform')"
      ]
     },
     "execution_count": 93,
     "metadata": {},
     "output_type": "execute_result"
    }
   ],
   "source": [
    "from sklearn import neighbors\n",
    "n_neighbors=5\n",
    "knn=neighbors.KNeighborsRegressor(n_neighbors,weights='uniform')\n",
    "knn.fit(X_train, y_train)"
   ]
  },
  {
   "cell_type": "code",
   "execution_count": 94,
   "metadata": {},
   "outputs": [
    {
     "name": "stdout",
     "output_type": "stream",
     "text": [
      "Training score:  0.9250809557593359\n",
      "Testing score:  0.9589666819261963\n"
     ]
    }
   ],
   "source": [
    "knn_score_train = knn.score(X_test, y_test)\n",
    "knn_score_test = knn.score(X_train, y_train)\n",
    "\n",
    "print(\"Training score: \",knn_score_train)\n",
    "print(\"Testing score: \",knn_score_test)"
   ]
  },
  {
   "cell_type": "code",
   "execution_count": null,
   "metadata": {},
   "outputs": [],
   "source": []
  }
 ],
 "metadata": {
  "kernelspec": {
   "display_name": "Python 3",
   "language": "python",
   "name": "python3"
  },
  "language_info": {
   "codemirror_mode": {
    "name": "ipython",
    "version": 3
   },
   "file_extension": ".py",
   "mimetype": "text/x-python",
   "name": "python",
   "nbconvert_exporter": "python",
   "pygments_lexer": "ipython3",
   "version": "3.6.5"
  }
 },
 "nbformat": 4,
 "nbformat_minor": 2
}
