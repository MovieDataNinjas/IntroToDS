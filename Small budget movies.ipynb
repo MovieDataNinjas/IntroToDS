{
 "cells": [
  {
   "cell_type": "code",
   "execution_count": 1,
   "metadata": {},
   "outputs": [
    {
     "name": "stderr",
     "output_type": "stream",
     "text": [
      "/Users/tatenda/anaconda3/lib/python3.6/site-packages/sklearn/cross_validation.py:41: DeprecationWarning: This module was deprecated in version 0.18 in favor of the model_selection module into which all the refactored classes and functions are moved. Also note that the interface of the new CV iterators are different from that of this module. This module will be removed in 0.20.\n",
      "  \"This module will be removed in 0.20.\", DeprecationWarning)\n"
     ]
    }
   ],
   "source": [
    "import numpy as np\n",
    "import pandas as pd\n",
    "import seaborn as sb\n",
    "import matplotlib.pyplot as plt\n",
    "import sklearn\n",
    "\n",
    "from pandas import Series, DataFrame\n",
    "from pylab import rcParams\n",
    "from sklearn import preprocessing\n",
    "from sklearn.linear_model import LogisticRegression\n",
    "from sklearn.cross_validation import train_test_split\n",
    "from sklearn import metrics \n",
    "from sklearn.metrics import classification_report"
   ]
  },
  {
   "cell_type": "code",
   "execution_count": 2,
   "metadata": {},
   "outputs": [],
   "source": [
    "#Cleaning metadata\n",
    "# In[147]:\n",
    "metadata=pd.read_csv(\"movie_metadata_with_score_metacritic.csv\", index_col=\"Unnamed: 0\") #reading in metacritic dataset"
   ]
  },
  {
   "cell_type": "code",
   "execution_count": 3,
   "metadata": {},
   "outputs": [],
   "source": [
    "metadata=metadata.loc[~metadata[\"metacritic_metascore\"].isna()] #removing rows with no metacritic data\n"
   ]
  },
  {
   "cell_type": "code",
   "execution_count": 4,
   "metadata": {},
   "outputs": [],
   "source": [
    "metadata=metadata.drop([\"homepage\",\"keywords\",\"overview\",\"status\",\"tagline\",\"imdb_metascore\"],1) #dropping unnecessary features"
   ]
  },
  {
   "cell_type": "code",
   "execution_count": 5,
   "metadata": {},
   "outputs": [],
   "source": [
    "metadata=metadata.drop_duplicates() #dropping duplicates\n",
    "metadata[\"release_year\"]=metadata.release_date.str[0:4].astype(int) #creating new column with year for comparison"
   ]
  },
  {
   "cell_type": "code",
   "execution_count": 6,
   "metadata": {},
   "outputs": [],
   "source": [
    "# In[131]:\n",
    "\n",
    "rev_data=pd.read_csv(\"Revenue.csv\") #reading in revenue data\n",
    "#cleaning revenue data\n",
    "#Adjusting units\n",
    "rev_data[\"Budget\"]=rev_data[\"Budget($M)\"]*1000000\n",
    "rev_data[\"Worldwide Gross\"]=rev_data[\"Worldwide Gross($M)\"]*1000000\n",
    "rev_data[\"Domestic Gross\"]=rev_data[\"Domestic Gross($M)\"]*1000000\n",
    "rev_data=rev_data.drop([\"Budget($M)\",\"Domestic Gross($M)\",\"Worldwide Gross($M)\"],1)\n",
    "\n",
    "rev_data=rev_data.rename(columns={\"Movie\":\"title\"})#renaming column to match metadata\n",
    "rev_data=rev_data.drop_duplicates()#dropping duplicates"
   ]
  },
  {
   "cell_type": "code",
   "execution_count": 7,
   "metadata": {},
   "outputs": [],
   "source": [
    "# In[102]:\n",
    "\n",
    "\n",
    "critic_revenue=metadata.merge(rev_data,on=\"title\") #merging datasets\n",
    "critic_revenue=critic_revenue.drop_duplicates() #dropping duplicates\n",
    "critic_revenue=critic_revenue.loc[(critic_revenue[\"Worldwide Gross\"]!=0) | (critic_revenue[\"revenue\"]!=0)] #removing rows with no revenue data\n",
    "critic_revenue=critic_revenue.loc[(np.abs(critic_revenue.release_year-critic_revenue.Year)<=5)] #removing rows where the years don't match, as this indicates different movies\n",
    "\n",
    "#Normalizing by the median for merged data set\n",
    "\n",
    "critic_revenue[\"budget\"]=(metadata[\"budget\"]-metadata[\"budget\"].median())/metadata[\"budget\"].std()\n",
    "critic_revenue[\"Worldwide Gross\"]=(rev_data[\"Worldwide Gross\"]-rev_data[\"Worldwide Gross\"].median())/rev_data[\"Worldwide Gross\"].std()\n",
    "\n",
    "critic_revenue[\"Domestic Gross\"]=(rev_data[\"Domestic Gross\"]-rev_data[\"Domestic Gross\"].median())/rev_data[\"Domestic Gross\"].std()\n",
    "critic_revenue[\"popularity\"]=(metadata[\"popularity\"]-metadata[\"popularity\"].median())/metadata[\"popularity\"].std()\n",
    "critic_revenue[\"revenue\"]=(metadata[\"revenue\"]-metadata[\"revenue\"].median())/metadata[\"revenue\"].std()\n",
    "critic_revenue[\"vote_count\"]=(metadata[\"vote_count\"]-metadata[\"vote_count\"].median())/metadata[\"vote_count\"].std()"
   ]
  },
  {
   "cell_type": "code",
   "execution_count": 9,
   "metadata": {},
   "outputs": [
    {
     "data": {
      "text/plain": [
       "2381"
      ]
     },
     "execution_count": 9,
     "metadata": {},
     "output_type": "execute_result"
    }
   ],
   "source": [
    "critic_revenue_small=critic_revenue.loc[critic_revenue['Budget'] <= 40000000]\n",
    "critic_revenue_small.shape[0]"
   ]
  },
  {
   "cell_type": "code",
   "execution_count": 10,
   "metadata": {},
   "outputs": [
    {
     "data": {
      "text/html": [
       "<div>\n",
       "<style scoped>\n",
       "    .dataframe tbody tr th:only-of-type {\n",
       "        vertical-align: middle;\n",
       "    }\n",
       "\n",
       "    .dataframe tbody tr th {\n",
       "        vertical-align: top;\n",
       "    }\n",
       "\n",
       "    .dataframe thead th {\n",
       "        text-align: right;\n",
       "    }\n",
       "</style>\n",
       "<table border=\"1\" class=\"dataframe\">\n",
       "  <thead>\n",
       "    <tr style=\"text-align: right;\">\n",
       "      <th></th>\n",
       "      <th>budget</th>\n",
       "      <th>genres</th>\n",
       "      <th>id</th>\n",
       "      <th>original_language</th>\n",
       "      <th>original_title</th>\n",
       "      <th>popularity</th>\n",
       "      <th>production_companies</th>\n",
       "      <th>production_countries</th>\n",
       "      <th>release_date</th>\n",
       "      <th>revenue</th>\n",
       "      <th>...</th>\n",
       "      <th>vote_average</th>\n",
       "      <th>vote_count</th>\n",
       "      <th>metacritic_metascore</th>\n",
       "      <th>release_year</th>\n",
       "      <th>Month</th>\n",
       "      <th>Day</th>\n",
       "      <th>Year</th>\n",
       "      <th>Budget</th>\n",
       "      <th>Worldwide Gross</th>\n",
       "      <th>Domestic Gross</th>\n",
       "    </tr>\n",
       "  </thead>\n",
       "  <tbody>\n",
       "    <tr>\n",
       "      <th>71</th>\n",
       "      <td>2.954415</td>\n",
       "      <td>[{\"id\": 28, \"name\": \"Action\"}, {\"id\": 12, \"nam...</td>\n",
       "      <td>79698</td>\n",
       "      <td>en</td>\n",
       "      <td>The Lovers</td>\n",
       "      <td>1.349131</td>\n",
       "      <td>[{\"name\": \"Corsan\", \"id\": 7299}, {\"name\": \"Bli...</td>\n",
       "      <td>[{\"iso_3166_1\": \"AU\", \"name\": \"Australia\"}, {\"...</td>\n",
       "      <td>2015-02-13</td>\n",
       "      <td>2.137175</td>\n",
       "      <td>...</td>\n",
       "      <td>4.8</td>\n",
       "      <td>0.805525</td>\n",
       "      <td>19.0</td>\n",
       "      <td>2015</td>\n",
       "      <td>Mar</td>\n",
       "      <td>13</td>\n",
       "      <td>2015</td>\n",
       "      <td>35000000.0</td>\n",
       "      <td>4.394735</td>\n",
       "      <td>3.387908</td>\n",
       "    </tr>\n",
       "    <tr>\n",
       "      <th>84</th>\n",
       "      <td>3.663475</td>\n",
       "      <td>[{\"id\": 28, \"name\": \"Action\"}, {\"id\": 80, \"nam...</td>\n",
       "      <td>9799</td>\n",
       "      <td>en</td>\n",
       "      <td>The Fast and the Furious</td>\n",
       "      <td>0.783667</td>\n",
       "      <td>[{\"name\": \"Universal Pictures\", \"id\": 33}, {\"n...</td>\n",
       "      <td>[{\"iso_3166_1\": \"DE\", \"name\": \"Germany\"}, {\"is...</td>\n",
       "      <td>2001-06-22</td>\n",
       "      <td>0.682528</td>\n",
       "      <td>...</td>\n",
       "      <td>6.6</td>\n",
       "      <td>0.758683</td>\n",
       "      <td>58.0</td>\n",
       "      <td>2001</td>\n",
       "      <td>Jun</td>\n",
       "      <td>22</td>\n",
       "      <td>2001</td>\n",
       "      <td>38000000.0</td>\n",
       "      <td>4.162857</td>\n",
       "      <td>3.229438</td>\n",
       "    </tr>\n",
       "    <tr>\n",
       "      <th>277</th>\n",
       "      <td>3.072592</td>\n",
       "      <td>[{\"id\": 80, \"name\": \"Crime\"}, {\"id\": 18, \"name...</td>\n",
       "      <td>29193</td>\n",
       "      <td>en</td>\n",
       "      <td>The Spanish Prisoner</td>\n",
       "      <td>2.245207</td>\n",
       "      <td>[{\"name\": \"Jean Doumanian Productions\", \"id\": ...</td>\n",
       "      <td>[{\"iso_3166_1\": \"US\", \"name\": \"United States o...</td>\n",
       "      <td>1997-09-08</td>\n",
       "      <td>3.288009</td>\n",
       "      <td>...</td>\n",
       "      <td>7.1</td>\n",
       "      <td>2.700697</td>\n",
       "      <td>70.0</td>\n",
       "      <td>1997</td>\n",
       "      <td>Apr</td>\n",
       "      <td>3</td>\n",
       "      <td>1998</td>\n",
       "      <td>10000000.0</td>\n",
       "      <td>1.993153</td>\n",
       "      <td>1.778817</td>\n",
       "    </tr>\n",
       "    <tr>\n",
       "      <th>336</th>\n",
       "      <td>1.654472</td>\n",
       "      <td>[{\"id\": 12, \"name\": \"Adventure\"}, {\"id\": 14, \"...</td>\n",
       "      <td>9387</td>\n",
       "      <td>en</td>\n",
       "      <td>Conan the Barbarian</td>\n",
       "      <td>0.152416</td>\n",
       "      <td>[{\"name\": \"Universal Pictures\", \"id\": 33}, {\"n...</td>\n",
       "      <td>[{\"iso_3166_1\": \"US\", \"name\": \"United States o...</td>\n",
       "      <td>1982-04-02</td>\n",
       "      <td>0.751591</td>\n",
       "      <td>...</td>\n",
       "      <td>6.6</td>\n",
       "      <td>0.179688</td>\n",
       "      <td>43.0</td>\n",
       "      <td>1982</td>\n",
       "      <td>May</td>\n",
       "      <td>14</td>\n",
       "      <td>1982</td>\n",
       "      <td>20000000.0</td>\n",
       "      <td>1.828499</td>\n",
       "      <td>1.679839</td>\n",
       "    </tr>\n",
       "    <tr>\n",
       "      <th>370</th>\n",
       "      <td>1.654472</td>\n",
       "      <td>[{\"id\": 27, \"name\": \"Horror\"}, {\"id\": 35, \"nam...</td>\n",
       "      <td>16281</td>\n",
       "      <td>en</td>\n",
       "      <td>Creepshow</td>\n",
       "      <td>1.085636</td>\n",
       "      <td>[{\"name\": \"Warner Bros.\", \"id\": 6194}, {\"name\"...</td>\n",
       "      <td>[{\"iso_3166_1\": \"US\", \"name\": \"United States o...</td>\n",
       "      <td>1982-11-12</td>\n",
       "      <td>1.752082</td>\n",
       "      <td>...</td>\n",
       "      <td>6.7</td>\n",
       "      <td>2.224600</td>\n",
       "      <td>59.0</td>\n",
       "      <td>1982</td>\n",
       "      <td>Nov</td>\n",
       "      <td>10</td>\n",
       "      <td>1982</td>\n",
       "      <td>8000000.0</td>\n",
       "      <td>1.708312</td>\n",
       "      <td>1.195991</td>\n",
       "    </tr>\n",
       "  </tbody>\n",
       "</table>\n",
       "<p>5 rows × 23 columns</p>\n",
       "</div>"
      ],
      "text/plain": [
       "       budget                                             genres     id  \\\n",
       "71   2.954415  [{\"id\": 28, \"name\": \"Action\"}, {\"id\": 12, \"nam...  79698   \n",
       "84   3.663475  [{\"id\": 28, \"name\": \"Action\"}, {\"id\": 80, \"nam...   9799   \n",
       "277  3.072592  [{\"id\": 80, \"name\": \"Crime\"}, {\"id\": 18, \"name...  29193   \n",
       "336  1.654472  [{\"id\": 12, \"name\": \"Adventure\"}, {\"id\": 14, \"...   9387   \n",
       "370  1.654472  [{\"id\": 27, \"name\": \"Horror\"}, {\"id\": 35, \"nam...  16281   \n",
       "\n",
       "    original_language            original_title  popularity  \\\n",
       "71                 en                The Lovers    1.349131   \n",
       "84                 en  The Fast and the Furious    0.783667   \n",
       "277                en      The Spanish Prisoner    2.245207   \n",
       "336                en       Conan the Barbarian    0.152416   \n",
       "370                en                 Creepshow    1.085636   \n",
       "\n",
       "                                  production_companies  \\\n",
       "71   [{\"name\": \"Corsan\", \"id\": 7299}, {\"name\": \"Bli...   \n",
       "84   [{\"name\": \"Universal Pictures\", \"id\": 33}, {\"n...   \n",
       "277  [{\"name\": \"Jean Doumanian Productions\", \"id\": ...   \n",
       "336  [{\"name\": \"Universal Pictures\", \"id\": 33}, {\"n...   \n",
       "370  [{\"name\": \"Warner Bros.\", \"id\": 6194}, {\"name\"...   \n",
       "\n",
       "                                  production_countries release_date   revenue  \\\n",
       "71   [{\"iso_3166_1\": \"AU\", \"name\": \"Australia\"}, {\"...   2015-02-13  2.137175   \n",
       "84   [{\"iso_3166_1\": \"DE\", \"name\": \"Germany\"}, {\"is...   2001-06-22  0.682528   \n",
       "277  [{\"iso_3166_1\": \"US\", \"name\": \"United States o...   1997-09-08  3.288009   \n",
       "336  [{\"iso_3166_1\": \"US\", \"name\": \"United States o...   1982-04-02  0.751591   \n",
       "370  [{\"iso_3166_1\": \"US\", \"name\": \"United States o...   1982-11-12  1.752082   \n",
       "\n",
       "          ...        vote_average vote_count metacritic_metascore  \\\n",
       "71        ...                 4.8   0.805525                 19.0   \n",
       "84        ...                 6.6   0.758683                 58.0   \n",
       "277       ...                 7.1   2.700697                 70.0   \n",
       "336       ...                 6.6   0.179688                 43.0   \n",
       "370       ...                 6.7   2.224600                 59.0   \n",
       "\n",
       "     release_year  Month  Day  Year      Budget  Worldwide Gross  \\\n",
       "71           2015    Mar   13  2015  35000000.0         4.394735   \n",
       "84           2001    Jun   22  2001  38000000.0         4.162857   \n",
       "277          1997    Apr    3  1998  10000000.0         1.993153   \n",
       "336          1982    May   14  1982  20000000.0         1.828499   \n",
       "370          1982    Nov   10  1982   8000000.0         1.708312   \n",
       "\n",
       "     Domestic Gross  \n",
       "71         3.387908  \n",
       "84         3.229438  \n",
       "277        1.778817  \n",
       "336        1.679839  \n",
       "370        1.195991  \n",
       "\n",
       "[5 rows x 23 columns]"
      ]
     },
     "execution_count": 10,
     "metadata": {},
     "output_type": "execute_result"
    }
   ],
   "source": [
    "critic_revenue_small.head()"
   ]
  },
  {
   "cell_type": "code",
   "execution_count": 11,
   "metadata": {},
   "outputs": [
    {
     "data": {
      "text/html": [
       "<div>\n",
       "<style scoped>\n",
       "    .dataframe tbody tr th:only-of-type {\n",
       "        vertical-align: middle;\n",
       "    }\n",
       "\n",
       "    .dataframe tbody tr th {\n",
       "        vertical-align: top;\n",
       "    }\n",
       "\n",
       "    .dataframe thead th {\n",
       "        text-align: right;\n",
       "    }\n",
       "</style>\n",
       "<table border=\"1\" class=\"dataframe\">\n",
       "  <thead>\n",
       "    <tr style=\"text-align: right;\">\n",
       "      <th></th>\n",
       "      <th>budget</th>\n",
       "      <th>id</th>\n",
       "      <th>popularity</th>\n",
       "      <th>revenue</th>\n",
       "      <th>runtime</th>\n",
       "      <th>vote_average</th>\n",
       "      <th>vote_count</th>\n",
       "      <th>metacritic_metascore</th>\n",
       "      <th>release_year</th>\n",
       "      <th>Day</th>\n",
       "      <th>Year</th>\n",
       "      <th>Budget</th>\n",
       "      <th>Worldwide Gross</th>\n",
       "      <th>Domestic Gross</th>\n",
       "    </tr>\n",
       "  </thead>\n",
       "  <tbody>\n",
       "    <tr>\n",
       "      <th>count</th>\n",
       "      <td>1936.000000</td>\n",
       "      <td>2381.000000</td>\n",
       "      <td>1936.000000</td>\n",
       "      <td>1936.000000</td>\n",
       "      <td>2381.000000</td>\n",
       "      <td>2381.000000</td>\n",
       "      <td>1936.000000</td>\n",
       "      <td>2381.000000</td>\n",
       "      <td>2381.000000</td>\n",
       "      <td>2381.000000</td>\n",
       "      <td>2381.000000</td>\n",
       "      <td>2.381000e+03</td>\n",
       "      <td>2322.000000</td>\n",
       "      <td>2322.000000</td>\n",
       "    </tr>\n",
       "    <tr>\n",
       "      <th>mean</th>\n",
       "      <td>0.049178</td>\n",
       "      <td>48928.091978</td>\n",
       "      <td>0.140630</td>\n",
       "      <td>0.159146</td>\n",
       "      <td>105.520370</td>\n",
       "      <td>6.227131</td>\n",
       "      <td>0.210245</td>\n",
       "      <td>55.006300</td>\n",
       "      <td>2002.572869</td>\n",
       "      <td>15.971861</td>\n",
       "      <td>2002.725325</td>\n",
       "      <td>1.569960e+07</td>\n",
       "      <td>0.172750</td>\n",
       "      <td>0.238387</td>\n",
       "    </tr>\n",
       "    <tr>\n",
       "      <th>std</th>\n",
       "      <td>0.393133</td>\n",
       "      <td>78932.336312</td>\n",
       "      <td>0.576975</td>\n",
       "      <td>0.474960</td>\n",
       "      <td>19.011167</td>\n",
       "      <td>0.940733</td>\n",
       "      <td>0.655940</td>\n",
       "      <td>18.993242</td>\n",
       "      <td>11.075346</td>\n",
       "      <td>8.618797</td>\n",
       "      <td>11.122057</td>\n",
       "      <td>1.177950e+07</td>\n",
       "      <td>0.258521</td>\n",
       "      <td>0.362214</td>\n",
       "    </tr>\n",
       "    <tr>\n",
       "      <th>min</th>\n",
       "      <td>-0.472706</td>\n",
       "      <td>14.000000</td>\n",
       "      <td>-0.510113</td>\n",
       "      <td>-0.195277</td>\n",
       "      <td>0.000000</td>\n",
       "      <td>0.000000</td>\n",
       "      <td>-0.258014</td>\n",
       "      <td>1.000000</td>\n",
       "      <td>1934.000000</td>\n",
       "      <td>1.000000</td>\n",
       "      <td>1934.000000</td>\n",
       "      <td>7.000000e+03</td>\n",
       "      <td>-0.090100</td>\n",
       "      <td>-0.272867</td>\n",
       "    </tr>\n",
       "    <tr>\n",
       "      <th>25%</th>\n",
       "      <td>-0.212718</td>\n",
       "      <td>8998.000000</td>\n",
       "      <td>-0.267586</td>\n",
       "      <td>-0.166578</td>\n",
       "      <td>94.000000</td>\n",
       "      <td>5.700000</td>\n",
       "      <td>-0.170473</td>\n",
       "      <td>41.000000</td>\n",
       "      <td>1999.000000</td>\n",
       "      <td>9.000000</td>\n",
       "      <td>1999.000000</td>\n",
       "      <td>5.000000e+06</td>\n",
       "      <td>-0.013944</td>\n",
       "      <td>-0.017851</td>\n",
       "    </tr>\n",
       "    <tr>\n",
       "      <th>50%</th>\n",
       "      <td>0.000000</td>\n",
       "      <td>13967.000000</td>\n",
       "      <td>-0.026419</td>\n",
       "      <td>-0.002745</td>\n",
       "      <td>102.000000</td>\n",
       "      <td>6.300000</td>\n",
       "      <td>-0.023805</td>\n",
       "      <td>55.000000</td>\n",
       "      <td>2005.000000</td>\n",
       "      <td>16.000000</td>\n",
       "      <td>2005.000000</td>\n",
       "      <td>1.400000e+07</td>\n",
       "      <td>0.101642</td>\n",
       "      <td>0.168760</td>\n",
       "    </tr>\n",
       "    <tr>\n",
       "      <th>75%</th>\n",
       "      <td>0.283624</td>\n",
       "      <td>46261.000000</td>\n",
       "      <td>0.377884</td>\n",
       "      <td>0.296743</td>\n",
       "      <td>114.000000</td>\n",
       "      <td>6.800000</td>\n",
       "      <td>0.315030</td>\n",
       "      <td>69.000000</td>\n",
       "      <td>2010.000000</td>\n",
       "      <td>23.000000</td>\n",
       "      <td>2010.000000</td>\n",
       "      <td>2.500000e+07</td>\n",
       "      <td>0.303524</td>\n",
       "      <td>0.432518</td>\n",
       "    </tr>\n",
       "    <tr>\n",
       "      <th>max</th>\n",
       "      <td>3.663475</td>\n",
       "      <td>385736.000000</td>\n",
       "      <td>3.994802</td>\n",
       "      <td>3.716905</td>\n",
       "      <td>338.000000</td>\n",
       "      <td>9.300000</td>\n",
       "      <td>6.212293</td>\n",
       "      <td>100.000000</td>\n",
       "      <td>2016.000000</td>\n",
       "      <td>31.000000</td>\n",
       "      <td>2017.000000</td>\n",
       "      <td>4.000000e+07</td>\n",
       "      <td>4.394735</td>\n",
       "      <td>3.387908</td>\n",
       "    </tr>\n",
       "  </tbody>\n",
       "</table>\n",
       "</div>"
      ],
      "text/plain": [
       "            budget             id   popularity      revenue      runtime  \\\n",
       "count  1936.000000    2381.000000  1936.000000  1936.000000  2381.000000   \n",
       "mean      0.049178   48928.091978     0.140630     0.159146   105.520370   \n",
       "std       0.393133   78932.336312     0.576975     0.474960    19.011167   \n",
       "min      -0.472706      14.000000    -0.510113    -0.195277     0.000000   \n",
       "25%      -0.212718    8998.000000    -0.267586    -0.166578    94.000000   \n",
       "50%       0.000000   13967.000000    -0.026419    -0.002745   102.000000   \n",
       "75%       0.283624   46261.000000     0.377884     0.296743   114.000000   \n",
       "max       3.663475  385736.000000     3.994802     3.716905   338.000000   \n",
       "\n",
       "       vote_average   vote_count  metacritic_metascore  release_year  \\\n",
       "count   2381.000000  1936.000000           2381.000000   2381.000000   \n",
       "mean       6.227131     0.210245             55.006300   2002.572869   \n",
       "std        0.940733     0.655940             18.993242     11.075346   \n",
       "min        0.000000    -0.258014              1.000000   1934.000000   \n",
       "25%        5.700000    -0.170473             41.000000   1999.000000   \n",
       "50%        6.300000    -0.023805             55.000000   2005.000000   \n",
       "75%        6.800000     0.315030             69.000000   2010.000000   \n",
       "max        9.300000     6.212293            100.000000   2016.000000   \n",
       "\n",
       "               Day         Year        Budget  Worldwide Gross  Domestic Gross  \n",
       "count  2381.000000  2381.000000  2.381000e+03      2322.000000     2322.000000  \n",
       "mean     15.971861  2002.725325  1.569960e+07         0.172750        0.238387  \n",
       "std       8.618797    11.122057  1.177950e+07         0.258521        0.362214  \n",
       "min       1.000000  1934.000000  7.000000e+03        -0.090100       -0.272867  \n",
       "25%       9.000000  1999.000000  5.000000e+06        -0.013944       -0.017851  \n",
       "50%      16.000000  2005.000000  1.400000e+07         0.101642        0.168760  \n",
       "75%      23.000000  2010.000000  2.500000e+07         0.303524        0.432518  \n",
       "max      31.000000  2017.000000  4.000000e+07         4.394735        3.387908  "
      ]
     },
     "execution_count": 11,
     "metadata": {},
     "output_type": "execute_result"
    }
   ],
   "source": [
    "critic_revenue_small.describe()"
   ]
  },
  {
   "cell_type": "code",
   "execution_count": 13,
   "metadata": {},
   "outputs": [],
   "source": [
    "import numpy as np\n",
    "import pandas as pd\n",
    "import matplotlib.pyplot as plt\n",
    "import seaborn as sns\n",
    "%matplotlib inline\n",
    "from sklearn.linear_model import LogisticRegression # to apply the Logistic regression\n",
    "from sklearn.model_selection import train_test_split # to split the data into two parts"
   ]
  },
  {
   "cell_type": "code",
   "execution_count": 14,
   "metadata": {},
   "outputs": [],
   "source": [
    "%matplotlib inline\n",
    "rcParams['figure.figsize'] = 10, 8\n",
    "sb.set_style('whitegrid')"
   ]
  },
  {
   "cell_type": "code",
   "execution_count": 15,
   "metadata": {},
   "outputs": [
    {
     "data": {
      "text/plain": [
       "budget                   True\n",
       "genres                  False\n",
       "id                      False\n",
       "original_language       False\n",
       "original_title          False\n",
       "popularity               True\n",
       "production_companies    False\n",
       "production_countries    False\n",
       "release_date            False\n",
       "revenue                  True\n",
       "runtime                 False\n",
       "spoken_languages        False\n",
       "title                   False\n",
       "vote_average            False\n",
       "vote_count               True\n",
       "metacritic_metascore    False\n",
       "release_year            False\n",
       "Month                   False\n",
       "Day                     False\n",
       "Year                    False\n",
       "Budget                  False\n",
       "Worldwide Gross          True\n",
       "Domestic Gross           True\n",
       "dtype: bool"
      ]
     },
     "execution_count": 15,
     "metadata": {},
     "output_type": "execute_result"
    }
   ],
   "source": [
    "critic_revenue_small.isnull().any()"
   ]
  },
  {
   "cell_type": "code",
   "execution_count": 16,
   "metadata": {},
   "outputs": [
    {
     "name": "stderr",
     "output_type": "stream",
     "text": [
      "/Users/tatenda/anaconda3/lib/python3.6/site-packages/pandas/core/frame.py:3787: SettingWithCopyWarning: \n",
      "A value is trying to be set on a copy of a slice from a DataFrame\n",
      "\n",
      "See the caveats in the documentation: http://pandas.pydata.org/pandas-docs/stable/indexing.html#indexing-view-versus-copy\n",
      "  downcast=downcast, **kwargs)\n"
     ]
    },
    {
     "data": {
      "text/plain": [
       "(2381, 23)"
      ]
     },
     "execution_count": 16,
     "metadata": {},
     "output_type": "execute_result"
    }
   ],
   "source": [
    "#Replace every nan values with 0\n",
    "critic_revenue_small.fillna(value=0,axis=1,inplace=True)\n",
    "critic_revenue_small.shape"
   ]
  },
  {
   "cell_type": "code",
   "execution_count": 17,
   "metadata": {},
   "outputs": [
    {
     "data": {
      "text/plain": [
       "<matplotlib.axes._subplots.AxesSubplot at 0x1a17f2acf8>"
      ]
     },
     "execution_count": 17,
     "metadata": {},
     "output_type": "execute_result"
    },
    {
     "data": {
      "image/png": "[encoded data removed]",
      "text/plain": [
       "<Figure size 720x576 with 2 Axes>"
      ]
     },
     "metadata": {},
     "output_type": "display_data"
    }
   ],
   "source": [
    "sns.heatmap(critic_revenue_small.corr(), vmax=1, square=True)"
   ]
  },
  {
   "cell_type": "code",
   "execution_count": 18,
   "metadata": {},
   "outputs": [],
   "source": [
    "#Defining features and target for this dataset based on co-relation\n",
    "features = ['Budget']\n",
    "target = ['Worldwide Gross']"
   ]
  },
  {
   "cell_type": "code",
   "execution_count": 19,
   "metadata": {},
   "outputs": [
    {
     "data": {
      "text/html": [
       "<div>\n",
       "<style scoped>\n",
       "    .dataframe tbody tr th:only-of-type {\n",
       "        vertical-align: middle;\n",
       "    }\n",
       "\n",
       "    .dataframe tbody tr th {\n",
       "        vertical-align: top;\n",
       "    }\n",
       "\n",
       "    .dataframe thead th {\n",
       "        text-align: right;\n",
       "    }\n",
       "</style>\n",
       "<table border=\"1\" class=\"dataframe\">\n",
       "  <thead>\n",
       "    <tr style=\"text-align: right;\">\n",
       "      <th></th>\n",
       "      <th>budget</th>\n",
       "      <th>genres</th>\n",
       "      <th>id</th>\n",
       "      <th>original_language</th>\n",
       "      <th>original_title</th>\n",
       "      <th>popularity</th>\n",
       "      <th>production_companies</th>\n",
       "      <th>production_countries</th>\n",
       "      <th>release_date</th>\n",
       "      <th>revenue</th>\n",
       "      <th>...</th>\n",
       "      <th>vote_average</th>\n",
       "      <th>vote_count</th>\n",
       "      <th>metacritic_metascore</th>\n",
       "      <th>release_year</th>\n",
       "      <th>Month</th>\n",
       "      <th>Day</th>\n",
       "      <th>Year</th>\n",
       "      <th>Budget</th>\n",
       "      <th>Worldwide Gross</th>\n",
       "      <th>Domestic Gross</th>\n",
       "    </tr>\n",
       "  </thead>\n",
       "  <tbody>\n",
       "    <tr>\n",
       "      <th>981</th>\n",
       "      <td>0.472706</td>\n",
       "      <td>[{\"id\": 35, \"name\": \"Comedy\"}]</td>\n",
       "      <td>225886</td>\n",
       "      <td>en</td>\n",
       "      <td>Sex Tape</td>\n",
       "      <td>-0.326061</td>\n",
       "      <td>[{\"name\": \"Escape Artists\", \"id\": 1423}, {\"nam...</td>\n",
       "      <td>[{\"iso_3166_1\": \"US\", \"name\": \"United States o...</td>\n",
       "      <td>2014-07-17</td>\n",
       "      <td>-0.195277</td>\n",
       "      <td>...</td>\n",
       "      <td>5.3</td>\n",
       "      <td>-0.167402</td>\n",
       "      <td>36.0</td>\n",
       "      <td>2014</td>\n",
       "      <td>Jul</td>\n",
       "      <td>18</td>\n",
       "      <td>2014</td>\n",
       "      <td>40000000.0</td>\n",
       "      <td>0.676737</td>\n",
       "      <td>1.900787</td>\n",
       "    </tr>\n",
       "    <tr>\n",
       "      <th>2806</th>\n",
       "      <td>0.000000</td>\n",
       "      <td>[{\"id\": 27, \"name\": \"Horror\"}]</td>\n",
       "      <td>16337</td>\n",
       "      <td>en</td>\n",
       "      <td>The Texas Chainsaw Massacre 2</td>\n",
       "      <td>0.000000</td>\n",
       "      <td>[{\"name\": \"Cannon Films\", \"id\": 4110}]</td>\n",
       "      <td>[{\"iso_3166_1\": \"US\", \"name\": \"United States o...</td>\n",
       "      <td>1986-08-22</td>\n",
       "      <td>0.000000</td>\n",
       "      <td>...</td>\n",
       "      <td>5.9</td>\n",
       "      <td>0.000000</td>\n",
       "      <td>42.0</td>\n",
       "      <td>1986</td>\n",
       "      <td>Aug</td>\n",
       "      <td>22</td>\n",
       "      <td>1986</td>\n",
       "      <td>4700000.0</td>\n",
       "      <td>-0.024600</td>\n",
       "      <td>0.100971</td>\n",
       "    </tr>\n",
       "    <tr>\n",
       "      <th>3179</th>\n",
       "      <td>-0.472706</td>\n",
       "      <td>[{\"id\": 16, \"name\": \"Animation\"}, {\"id\": 18, \"...</td>\n",
       "      <td>3170</td>\n",
       "      <td>en</td>\n",
       "      <td>Bambi</td>\n",
       "      <td>-0.477549</td>\n",
       "      <td>[{\"name\": \"Walt Disney Productions\", \"id\": 3166}]</td>\n",
       "      <td>[{\"iso_3166_1\": \"US\", \"name\": \"United States o...</td>\n",
       "      <td>1942-08-14</td>\n",
       "      <td>-0.159654</td>\n",
       "      <td>...</td>\n",
       "      <td>6.8</td>\n",
       "      <td>-0.247263</td>\n",
       "      <td>91.0</td>\n",
       "      <td>1942</td>\n",
       "      <td>Aug</td>\n",
       "      <td>13</td>\n",
       "      <td>1942</td>\n",
       "      <td>858000.0</td>\n",
       "      <td>-0.073304</td>\n",
       "      <td>-0.017926</td>\n",
       "    </tr>\n",
       "    <tr>\n",
       "      <th>2376</th>\n",
       "      <td>-0.472706</td>\n",
       "      <td>[{\"id\": 28, \"name\": \"Action\"}, {\"id\": 27, \"nam...</td>\n",
       "      <td>9362</td>\n",
       "      <td>en</td>\n",
       "      <td>Tremors</td>\n",
       "      <td>-0.234886</td>\n",
       "      <td>[{\"name\": \"Universal Pictures\", \"id\": 33}, {\"n...</td>\n",
       "      <td>[{\"iso_3166_1\": \"US\", \"name\": \"United States o...</td>\n",
       "      <td>1990-01-19</td>\n",
       "      <td>-0.195277</td>\n",
       "      <td>...</td>\n",
       "      <td>6.6</td>\n",
       "      <td>-0.145133</td>\n",
       "      <td>65.0</td>\n",
       "      <td>1990</td>\n",
       "      <td>Jan</td>\n",
       "      <td>19</td>\n",
       "      <td>1990</td>\n",
       "      <td>10000000.0</td>\n",
       "      <td>0.000000</td>\n",
       "      <td>0.000000</td>\n",
       "    </tr>\n",
       "    <tr>\n",
       "      <th>2670</th>\n",
       "      <td>-0.472706</td>\n",
       "      <td>[{\"id\": 27, \"name\": \"Horror\"}, {\"id\": 53, \"nam...</td>\n",
       "      <td>11361</td>\n",
       "      <td>en</td>\n",
       "      <td>Halloween 5: The Revenge of Michael Myers</td>\n",
       "      <td>-0.379227</td>\n",
       "      <td>[{\"name\": \"Trans Pacific Films\", \"id\": 4351}]</td>\n",
       "      <td>[{\"iso_3166_1\": \"US\", \"name\": \"United States o...</td>\n",
       "      <td>1989-10-12</td>\n",
       "      <td>-0.195277</td>\n",
       "      <td>...</td>\n",
       "      <td>5.2</td>\n",
       "      <td>-0.251870</td>\n",
       "      <td>28.0</td>\n",
       "      <td>1989</td>\n",
       "      <td>Oct</td>\n",
       "      <td>13</td>\n",
       "      <td>1989</td>\n",
       "      <td>6000000.0</td>\n",
       "      <td>-0.002512</td>\n",
       "      <td>0.042126</td>\n",
       "    </tr>\n",
       "  </tbody>\n",
       "</table>\n",
       "<p>5 rows × 23 columns</p>\n",
       "</div>"
      ],
      "text/plain": [
       "        budget                                             genres      id  \\\n",
       "981   0.472706                     [{\"id\": 35, \"name\": \"Comedy\"}]  225886   \n",
       "2806  0.000000                     [{\"id\": 27, \"name\": \"Horror\"}]   16337   \n",
       "3179 -0.472706  [{\"id\": 16, \"name\": \"Animation\"}, {\"id\": 18, \"...    3170   \n",
       "2376 -0.472706  [{\"id\": 28, \"name\": \"Action\"}, {\"id\": 27, \"nam...    9362   \n",
       "2670 -0.472706  [{\"id\": 27, \"name\": \"Horror\"}, {\"id\": 53, \"nam...   11361   \n",
       "\n",
       "     original_language                             original_title  popularity  \\\n",
       "981                 en                                   Sex Tape   -0.326061   \n",
       "2806                en              The Texas Chainsaw Massacre 2    0.000000   \n",
       "3179                en                                      Bambi   -0.477549   \n",
       "2376                en                                    Tremors   -0.234886   \n",
       "2670                en  Halloween 5: The Revenge of Michael Myers   -0.379227   \n",
       "\n",
       "                                   production_companies  \\\n",
       "981   [{\"name\": \"Escape Artists\", \"id\": 1423}, {\"nam...   \n",
       "2806             [{\"name\": \"Cannon Films\", \"id\": 4110}]   \n",
       "3179  [{\"name\": \"Walt Disney Productions\", \"id\": 3166}]   \n",
       "2376  [{\"name\": \"Universal Pictures\", \"id\": 33}, {\"n...   \n",
       "2670      [{\"name\": \"Trans Pacific Films\", \"id\": 4351}]   \n",
       "\n",
       "                                   production_countries release_date  \\\n",
       "981   [{\"iso_3166_1\": \"US\", \"name\": \"United States o...   2014-07-17   \n",
       "2806  [{\"iso_3166_1\": \"US\", \"name\": \"United States o...   1986-08-22   \n",
       "3179  [{\"iso_3166_1\": \"US\", \"name\": \"United States o...   1942-08-14   \n",
       "2376  [{\"iso_3166_1\": \"US\", \"name\": \"United States o...   1990-01-19   \n",
       "2670  [{\"iso_3166_1\": \"US\", \"name\": \"United States o...   1989-10-12   \n",
       "\n",
       "       revenue       ...        vote_average vote_count metacritic_metascore  \\\n",
       "981  -0.195277       ...                 5.3  -0.167402                 36.0   \n",
       "2806  0.000000       ...                 5.9   0.000000                 42.0   \n",
       "3179 -0.159654       ...                 6.8  -0.247263                 91.0   \n",
       "2376 -0.195277       ...                 6.6  -0.145133                 65.0   \n",
       "2670 -0.195277       ...                 5.2  -0.251870                 28.0   \n",
       "\n",
       "      release_year  Month  Day  Year      Budget  Worldwide Gross  \\\n",
       "981           2014    Jul   18  2014  40000000.0         0.676737   \n",
       "2806          1986    Aug   22  1986   4700000.0        -0.024600   \n",
       "3179          1942    Aug   13  1942    858000.0        -0.073304   \n",
       "2376          1990    Jan   19  1990  10000000.0         0.000000   \n",
       "2670          1989    Oct   13  1989   6000000.0        -0.002512   \n",
       "\n",
       "      Domestic Gross  \n",
       "981         1.900787  \n",
       "2806        0.100971  \n",
       "3179       -0.017926  \n",
       "2376        0.000000  \n",
       "2670        0.042126  \n",
       "\n",
       "[5 rows x 23 columns]"
      ]
     },
     "execution_count": 19,
     "metadata": {},
     "output_type": "execute_result"
    }
   ],
   "source": [
    "#splitting data set into training and test data set in 0.7/0.3\n",
    "train, test = train_test_split(critic_revenue_small,test_size=0.30)\n",
    "train.head()"
   ]
  },
  {
   "cell_type": "code",
   "execution_count": 20,
   "metadata": {},
   "outputs": [],
   "source": [
    "#Fill the training and test data with require information\n",
    "X_train = train[features].dropna()\n",
    "y_train = train[target].dropna()\n",
    "X_test = test[features].dropna()\n",
    "y_test = test[target].dropna()"
   ]
  },
  {
   "cell_type": "code",
   "execution_count": 21,
   "metadata": {},
   "outputs": [
    {
     "data": {
      "text/plain": [
       "LinearRegression(copy_X=True, fit_intercept=True, n_jobs=1, normalize=False)"
      ]
     },
     "execution_count": 21,
     "metadata": {},
     "output_type": "execute_result"
    }
   ],
   "source": [
    "from sklearn import linear_model# compute classification accuracy for the linear regression model\n",
    "from sklearn import metrics # for the check the error and accuracy of the model\n",
    "lin = linear_model.LinearRegression()\n",
    "# train the model on the training set\n",
    "lin.fit(X_train, y_train)"
   ]
  },
  {
   "cell_type": "code",
   "execution_count": 22,
   "metadata": {},
   "outputs": [],
   "source": [
    "lin_score_train = lin.score(X_test, y_test)\n",
    "lin_score_test = lin.score(X_train, y_train)"
   ]
  },
  {
   "cell_type": "code",
   "execution_count": 23,
   "metadata": {},
   "outputs": [
    {
     "name": "stdout",
     "output_type": "stream",
     "text": [
      "Training score:  0.7960498991830306\n",
      "Testing score:  0.6060314797783849\n"
     ]
    }
   ],
   "source": [
    "print(\"Training score: \",lin_score_train)\n",
    "print(\"Testing score: \",lin_score_test)"
   ]
  },
  {
   "cell_type": "code",
   "execution_count": 24,
   "metadata": {},
   "outputs": [],
   "source": [
    "yPrediction = lin.predict(X_test)"
   ]
  },
  {
   "cell_type": "code",
   "execution_count": 25,
   "metadata": {},
   "outputs": [
    {
     "data": {
      "image/png": "[encoded data removed]",
      "text/plain": [
       "<Figure size 720x576 with 1 Axes>"
      ]
     },
     "metadata": {},
     "output_type": "display_data"
    }
   ],
   "source": [
    "# Visualising the training set results\n",
    "plt.scatter(X_train, y_train, color = 'red')\n",
    "plt.plot(X_train, lin.predict(X_train), color = 'blue')\n",
    "plt.title (\"Visuals for Training Dataset\")\n",
    "plt.xlabel(\"budg\")\n",
    "plt.ylabel(\"wgross\")\n",
    "plt.show()"
   ]
  },
  {
   "cell_type": "code",
   "execution_count": 26,
   "metadata": {},
   "outputs": [
    {
     "data": {
      "image/png": "[encoded data removed]",
      "text/plain": [
       "<Figure size 720x576 with 1 Axes>"
      ]
     },
     "metadata": {},
     "output_type": "display_data"
    }
   ],
   "source": [
    "plt.scatter(X_test, y_test , color = 'red')\n",
    "plt.plot(X_train, lin.predict(X_train), color = 'blue')\n",
    "plt.title (\"Visuals for Test Dataset\")\n",
    "plt.xlabel(\"budg\")\n",
    "plt.ylabel(\"wgross\")\n",
    "plt.show()"
   ]
  },
  {
   "cell_type": "code",
   "execution_count": 27,
   "metadata": {},
   "outputs": [
    {
     "data": {
      "text/plain": [
       "KNeighborsRegressor(algorithm='auto', leaf_size=30, metric='minkowski',\n",
       "          metric_params=None, n_jobs=1, n_neighbors=5, p=2,\n",
       "          weights='uniform')"
      ]
     },
     "execution_count": 27,
     "metadata": {},
     "output_type": "execute_result"
    }
   ],
   "source": [
    "from sklearn import neighbors\n",
    "n_neighbors=5\n",
    "knn=neighbors.KNeighborsRegressor(n_neighbors,weights='uniform')\n",
    "knn.fit(X_train, y_train)"
   ]
  },
  {
   "cell_type": "code",
   "execution_count": 28,
   "metadata": {},
   "outputs": [
    {
     "name": "stdout",
     "output_type": "stream",
     "text": [
      "Training score:  0.7670560433638135\n",
      "Testing score:  0.6150912404185321\n"
     ]
    }
   ],
   "source": [
    "knn_score_train = knn.score(X_test, y_test)\n",
    "knn_score_test = knn.score(X_train, y_train)\n",
    "\n",
    "print(\"Training score: \",knn_score_train)\n",
    "print(\"Testing score: \",knn_score_test)"
   ]
  },
  {
   "cell_type": "code",
   "execution_count": null,
   "metadata": {},
   "outputs": [],
   "source": []
  }
 ],
 "metadata": {
  "kernelspec": {
   "display_name": "Python 3",
   "language": "python",
   "name": "python3"
  },
  "language_info": {
   "codemirror_mode": {
    "name": "ipython",
    "version": 3
   },
   "file_extension": ".py",
   "mimetype": "text/x-python",
   "name": "python",
   "nbconvert_exporter": "python",
   "pygments_lexer": "ipython3",
   "version": "3.6.5"
  }
 },
 "nbformat": 4,
 "nbformat_minor": 2
}
