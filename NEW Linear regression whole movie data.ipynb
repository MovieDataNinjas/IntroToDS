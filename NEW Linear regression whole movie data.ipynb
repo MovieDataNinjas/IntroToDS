{
 "cells": [
  {
   "cell_type": "code",
   "execution_count": 1,
   "metadata": {},
   "outputs": [
    {
     "name": "stderr",
     "output_type": "stream",
     "text": [
      "/Users/tatenda/anaconda3/lib/python3.6/site-packages/sklearn/cross_validation.py:41: DeprecationWarning: This module was deprecated in version 0.18 in favor of the model_selection module into which all the refactored classes and functions are moved. Also note that the interface of the new CV iterators are different from that of this module. This module will be removed in 0.20.\n",
      "  \"This module will be removed in 0.20.\", DeprecationWarning)\n"
     ]
    }
   ],
   "source": [
    "import numpy as np\n",
    "import pandas as pd\n",
    "import seaborn as sb\n",
    "import matplotlib.pyplot as plt\n",
    "import sklearn\n",
    "\n",
    "from pandas import Series, DataFrame\n",
    "from pylab import rcParams\n",
    "from sklearn import preprocessing\n",
    "from sklearn.linear_model import LogisticRegression\n",
    "from sklearn.cross_validation import train_test_split\n",
    "from sklearn import metrics \n",
    "from sklearn.metrics import classification_report"
   ]
  },
  {
   "cell_type": "code",
   "execution_count": 2,
   "metadata": {},
   "outputs": [],
   "source": [
    "metadata=pd.read_csv(\"movie_metadata_with_score_metacritic.csv\", index_col=\"Unnamed: 0\") #reading in metacritic dataset\n",
    "metadata=metadata.loc[~metadata[\"metacritic_metascore\"].isna()] #removing rows with no metacritic data\n",
    "metadata=metadata.drop([\"homepage\",\"keywords\",\"overview\",\"status\",\"tagline\",\"imdb_metascore\",\"budget\",\"revenue\"],1) #dropping unnecessary features\n",
    "metadata=metadata.drop_duplicates() #dropping duplicates\n",
    "metadata[\"release_year\"]=metadata.release_date.str[0:4].astype(int) #creating new column with year for comparison\n"
   ]
  },
  {
   "cell_type": "code",
   "execution_count": 3,
   "metadata": {},
   "outputs": [],
   "source": [
    "num_data=pd.read_csv(\"the_numbers_budget.csv\") #reading in revenue data\n",
    "num_data=num_data.rename(columns={\"Movie\":\"title\"}) #renaming column to match metadata\n",
    "num_data[\"num_year\"]=num_data[\"Release Date\"].str[-4:].astype(int)\n",
    "num_data=num_data.drop_duplicates()#dropping duplicates"
   ]
  },
  {
   "cell_type": "code",
   "execution_count": 4,
   "metadata": {},
   "outputs": [],
   "source": [
    "critic_revenue=metadata.merge(num_data,on=\"title\") #merging datasets\n",
    "critic_revenue=critic_revenue.drop_duplicates() #dropping duplicates\n",
    "critic_revenue=critic_revenue.loc[(critic_revenue[\"Worldwide Gross\"]!=0)] #removing rows with no revenue data\n",
    "critic_revenue=critic_revenue.loc[(np.abs(critic_revenue.release_year-critic_revenue.num_year)<5)] #removing rows where the years don't match, as this indicates different movies\n",
    "\n",
    "critic_revenue[\"log Worldwide Gross\"]=np.log(critic_revenue[\"Worldwide Gross\"])#adding column for log of revenue"
   ]
  },
  {
   "cell_type": "code",
   "execution_count": 5,
   "metadata": {},
   "outputs": [],
   "source": [
    "#Normalizing by the median for merged data set\n",
    "\n",
    "critic_revenue[\"Production Budget\"]=(critic_revenue[\"Production Budget\"]-critic_revenue[\"Production Budget\"].median())/critic_revenue[\"Production Budget\"].std()\n",
    "critic_revenue[\"Worldwide Gross\"]=(critic_revenue[\"Worldwide Gross\"]-critic_revenue[\"Worldwide Gross\"].median())/critic_revenue[\"Worldwide Gross\"].std()\n",
    "critic_revenue[\"log Worldwide Gross\"]=(critic_revenue[\"log Worldwide Gross\"]-critic_revenue[\"log Worldwide Gross\"].median())/critic_revenue[\"log Worldwide Gross\"].std()\n",
    "critic_revenue[\"Domestic Gross\"]=(critic_revenue[\"Domestic Gross\"]-critic_revenue[\"Domestic Gross\"].median())/critic_revenue[\"Domestic Gross\"].std()\n",
    "critic_revenue[\"popularity\"]=(critic_revenue[\"popularity\"]-critic_revenue[\"popularity\"].median())/critic_revenue[\"popularity\"].std()\n",
    "critic_revenue[\"vote_count\"]=(critic_revenue[\"vote_count\"]-critic_revenue[\"vote_count\"].median())/critic_revenue[\"vote_count\"].std()\n",
    "critic_revenue[\"metacritic_metascore\"]=(critic_revenue[\"metacritic_metascore\"]-critic_revenue[\"metacritic_metascore\"].median())/critic_revenue[\"metacritic_metascore\"].std()\n",
    "critic_revenue[\"runtime\"]=(critic_revenue[\"runtime\"]-critic_revenue[\"runtime\"].median())/critic_revenue[\"runtime\"].std()\n",
    "\n",
    "# Reindex since the dataset has been subset many times\n",
    "critic_revenue.index=range(len(critic_revenue))"
   ]
  },
  {
   "cell_type": "code",
   "execution_count": 6,
   "metadata": {},
   "outputs": [
    {
     "data": {
      "text/html": [
       "<div>\n",
       "<style scoped>\n",
       "    .dataframe tbody tr th:only-of-type {\n",
       "        vertical-align: middle;\n",
       "    }\n",
       "\n",
       "    .dataframe tbody tr th {\n",
       "        vertical-align: top;\n",
       "    }\n",
       "\n",
       "    .dataframe thead th {\n",
       "        text-align: right;\n",
       "    }\n",
       "</style>\n",
       "<table border=\"1\" class=\"dataframe\">\n",
       "  <thead>\n",
       "    <tr style=\"text-align: right;\">\n",
       "      <th></th>\n",
       "      <th>genres</th>\n",
       "      <th>id</th>\n",
       "      <th>original_language</th>\n",
       "      <th>original_title</th>\n",
       "      <th>popularity</th>\n",
       "      <th>production_companies</th>\n",
       "      <th>production_countries</th>\n",
       "      <th>release_date</th>\n",
       "      <th>runtime</th>\n",
       "      <th>spoken_languages</th>\n",
       "      <th>...</th>\n",
       "      <th>vote_average</th>\n",
       "      <th>vote_count</th>\n",
       "      <th>metacritic_metascore</th>\n",
       "      <th>release_year</th>\n",
       "      <th>Release Date</th>\n",
       "      <th>Production Budget</th>\n",
       "      <th>Domestic Gross</th>\n",
       "      <th>Worldwide Gross</th>\n",
       "      <th>num_year</th>\n",
       "      <th>log Worldwide Gross</th>\n",
       "    </tr>\n",
       "  </thead>\n",
       "  <tbody>\n",
       "    <tr>\n",
       "      <th>0</th>\n",
       "      <td>[{\"id\": 28, \"name\": \"Action\"}, {\"id\": 12, \"nam...</td>\n",
       "      <td>19995</td>\n",
       "      <td>en</td>\n",
       "      <td>Avatar</td>\n",
       "      <td>4.052175</td>\n",
       "      <td>[{\"name\": \"Ingenious Film Partners\", \"id\": 289...</td>\n",
       "      <td>[{\"iso_3166_1\": \"US\", \"name\": \"United States o...</td>\n",
       "      <td>2009-12-10</td>\n",
       "      <td>2.780384</td>\n",
       "      <td>[{\"iso_639_1\": \"en\", \"name\": \"English\"}, {\"iso...</td>\n",
       "      <td>...</td>\n",
       "      <td>7.2</td>\n",
       "      <td>8.616315</td>\n",
       "      <td>1.531581</td>\n",
       "      <td>2009</td>\n",
       "      <td>12/18/2009</td>\n",
       "      <td>9.582076</td>\n",
       "      <td>10.811447</td>\n",
       "      <td>15.431733</td>\n",
       "      <td>2009</td>\n",
       "      <td>1.841058</td>\n",
       "    </tr>\n",
       "    <tr>\n",
       "      <th>1</th>\n",
       "      <td>[{\"id\": 28, \"name\": \"Action\"}, {\"id\": 12, \"nam...</td>\n",
       "      <td>206647</td>\n",
       "      <td>en</td>\n",
       "      <td>Spectre</td>\n",
       "      <td>2.744619</td>\n",
       "      <td>[{\"name\": \"Columbia Pictures\", \"id\": 5}, {\"nam...</td>\n",
       "      <td>[{\"iso_3166_1\": \"GB\", \"name\": \"United Kingdom\"...</td>\n",
       "      <td>2015-10-26</td>\n",
       "      <td>2.097483</td>\n",
       "      <td>[{\"iso_639_1\": \"fr\", \"name\": \"Fran\\u00e7ais\"},...</td>\n",
       "      <td>...</td>\n",
       "      <td>6.3</td>\n",
       "      <td>3.095912</td>\n",
       "      <td>0.273497</td>\n",
       "      <td>2015</td>\n",
       "      <td>11/6/2015</td>\n",
       "      <td>6.617325</td>\n",
       "      <td>2.547645</td>\n",
       "      <td>4.723337</td>\n",
       "      <td>2015</td>\n",
       "      <td>1.333316</td>\n",
       "    </tr>\n",
       "    <tr>\n",
       "      <th>2</th>\n",
       "      <td>[{\"id\": 28, \"name\": \"Action\"}, {\"id\": 80, \"nam...</td>\n",
       "      <td>49026</td>\n",
       "      <td>en</td>\n",
       "      <td>The Dark Knight Rises</td>\n",
       "      <td>2.894507</td>\n",
       "      <td>[{\"name\": \"Legendary Pictures\", \"id\": 923}, {\"...</td>\n",
       "      <td>[{\"iso_3166_1\": \"US\", \"name\": \"United States o...</td>\n",
       "      <td>2012-07-16</td>\n",
       "      <td>2.926720</td>\n",
       "      <td>[{\"iso_639_1\": \"en\", \"name\": \"English\"}]</td>\n",
       "      <td>...</td>\n",
       "      <td>7.6</td>\n",
       "      <td>6.588504</td>\n",
       "      <td>1.258084</td>\n",
       "      <td>2012</td>\n",
       "      <td>7/20/2012</td>\n",
       "      <td>6.024375</td>\n",
       "      <td>6.205456</td>\n",
       "      <td>5.879685</td>\n",
       "      <td>2012</td>\n",
       "      <td>1.425786</td>\n",
       "    </tr>\n",
       "    <tr>\n",
       "      <th>3</th>\n",
       "      <td>[{\"id\": 28, \"name\": \"Action\"}, {\"id\": 12, \"nam...</td>\n",
       "      <td>49529</td>\n",
       "      <td>en</td>\n",
       "      <td>John Carter</td>\n",
       "      <td>0.817942</td>\n",
       "      <td>[{\"name\": \"Walt Disney Pictures\", \"id\": 2}]</td>\n",
       "      <td>[{\"iso_3166_1\": \"US\", \"name\": \"United States o...</td>\n",
       "      <td>2012-03-07</td>\n",
       "      <td>1.317024</td>\n",
       "      <td>[{\"iso_639_1\": \"en\", \"name\": \"English\"}]</td>\n",
       "      <td>...</td>\n",
       "      <td>6.1</td>\n",
       "      <td>1.333056</td>\n",
       "      <td>-0.218797</td>\n",
       "      <td>2012</td>\n",
       "      <td>3/9/2012</td>\n",
       "      <td>6.024375</td>\n",
       "      <td>0.674754</td>\n",
       "      <td>1.353723</td>\n",
       "      <td>2012</td>\n",
       "      <td>0.832011</td>\n",
       "    </tr>\n",
       "    <tr>\n",
       "      <th>4</th>\n",
       "      <td>[{\"id\": 16, \"name\": \"Animation\"}, {\"id\": 10751...</td>\n",
       "      <td>38757</td>\n",
       "      <td>en</td>\n",
       "      <td>Tangled</td>\n",
       "      <td>0.962329</td>\n",
       "      <td>[{\"name\": \"Walt Disney Pictures\", \"id\": 2}, {\"...</td>\n",
       "      <td>[{\"iso_3166_1\": \"US\", \"name\": \"United States o...</td>\n",
       "      <td>2010-11-24</td>\n",
       "      <td>-0.243893</td>\n",
       "      <td>[{\"iso_639_1\": \"en\", \"name\": \"English\"}]</td>\n",
       "      <td>...</td>\n",
       "      <td>7.4</td>\n",
       "      <td>2.240829</td>\n",
       "      <td>0.875189</td>\n",
       "      <td>2010</td>\n",
       "      <td>11/24/2010</td>\n",
       "      <td>5.668605</td>\n",
       "      <td>2.558671</td>\n",
       "      <td>3.068326</td>\n",
       "      <td>2010</td>\n",
       "      <td>1.154252</td>\n",
       "    </tr>\n",
       "  </tbody>\n",
       "</table>\n",
       "<p>5 rows × 21 columns</p>\n",
       "</div>"
      ],
      "text/plain": [
       "                                              genres      id  \\\n",
       "0  [{\"id\": 28, \"name\": \"Action\"}, {\"id\": 12, \"nam...   19995   \n",
       "1  [{\"id\": 28, \"name\": \"Action\"}, {\"id\": 12, \"nam...  206647   \n",
       "2  [{\"id\": 28, \"name\": \"Action\"}, {\"id\": 80, \"nam...   49026   \n",
       "3  [{\"id\": 28, \"name\": \"Action\"}, {\"id\": 12, \"nam...   49529   \n",
       "4  [{\"id\": 16, \"name\": \"Animation\"}, {\"id\": 10751...   38757   \n",
       "\n",
       "  original_language         original_title  popularity  \\\n",
       "0                en                 Avatar    4.052175   \n",
       "1                en                Spectre    2.744619   \n",
       "2                en  The Dark Knight Rises    2.894507   \n",
       "3                en            John Carter    0.817942   \n",
       "4                en                Tangled    0.962329   \n",
       "\n",
       "                                production_companies  \\\n",
       "0  [{\"name\": \"Ingenious Film Partners\", \"id\": 289...   \n",
       "1  [{\"name\": \"Columbia Pictures\", \"id\": 5}, {\"nam...   \n",
       "2  [{\"name\": \"Legendary Pictures\", \"id\": 923}, {\"...   \n",
       "3        [{\"name\": \"Walt Disney Pictures\", \"id\": 2}]   \n",
       "4  [{\"name\": \"Walt Disney Pictures\", \"id\": 2}, {\"...   \n",
       "\n",
       "                                production_countries release_date   runtime  \\\n",
       "0  [{\"iso_3166_1\": \"US\", \"name\": \"United States o...   2009-12-10  2.780384   \n",
       "1  [{\"iso_3166_1\": \"GB\", \"name\": \"United Kingdom\"...   2015-10-26  2.097483   \n",
       "2  [{\"iso_3166_1\": \"US\", \"name\": \"United States o...   2012-07-16  2.926720   \n",
       "3  [{\"iso_3166_1\": \"US\", \"name\": \"United States o...   2012-03-07  1.317024   \n",
       "4  [{\"iso_3166_1\": \"US\", \"name\": \"United States o...   2010-11-24 -0.243893   \n",
       "\n",
       "                                    spoken_languages         ...           \\\n",
       "0  [{\"iso_639_1\": \"en\", \"name\": \"English\"}, {\"iso...         ...            \n",
       "1  [{\"iso_639_1\": \"fr\", \"name\": \"Fran\\u00e7ais\"},...         ...            \n",
       "2           [{\"iso_639_1\": \"en\", \"name\": \"English\"}]         ...            \n",
       "3           [{\"iso_639_1\": \"en\", \"name\": \"English\"}]         ...            \n",
       "4           [{\"iso_639_1\": \"en\", \"name\": \"English\"}]         ...            \n",
       "\n",
       "  vote_average  vote_count  metacritic_metascore  release_year  Release Date  \\\n",
       "0          7.2    8.616315              1.531581          2009    12/18/2009   \n",
       "1          6.3    3.095912              0.273497          2015     11/6/2015   \n",
       "2          7.6    6.588504              1.258084          2012     7/20/2012   \n",
       "3          6.1    1.333056             -0.218797          2012      3/9/2012   \n",
       "4          7.4    2.240829              0.875189          2010    11/24/2010   \n",
       "\n",
       "  Production Budget  Domestic Gross  Worldwide Gross  num_year  \\\n",
       "0          9.582076       10.811447        15.431733      2009   \n",
       "1          6.617325        2.547645         4.723337      2015   \n",
       "2          6.024375        6.205456         5.879685      2012   \n",
       "3          6.024375        0.674754         1.353723      2012   \n",
       "4          5.668605        2.558671         3.068326      2010   \n",
       "\n",
       "   log Worldwide Gross  \n",
       "0             1.841058  \n",
       "1             1.333316  \n",
       "2             1.425786  \n",
       "3             0.832011  \n",
       "4             1.154252  \n",
       "\n",
       "[5 rows x 21 columns]"
      ]
     },
     "execution_count": 6,
     "metadata": {},
     "output_type": "execute_result"
    }
   ],
   "source": [
    "critic_revenue.head()"
   ]
  },
  {
   "cell_type": "code",
   "execution_count": 7,
   "metadata": {},
   "outputs": [
    {
     "data": {
      "text/html": [
       "<div>\n",
       "<style scoped>\n",
       "    .dataframe tbody tr th:only-of-type {\n",
       "        vertical-align: middle;\n",
       "    }\n",
       "\n",
       "    .dataframe tbody tr th {\n",
       "        vertical-align: top;\n",
       "    }\n",
       "\n",
       "    .dataframe thead th {\n",
       "        text-align: right;\n",
       "    }\n",
       "</style>\n",
       "<table border=\"1\" class=\"dataframe\">\n",
       "  <thead>\n",
       "    <tr style=\"text-align: right;\">\n",
       "      <th></th>\n",
       "      <th>id</th>\n",
       "      <th>popularity</th>\n",
       "      <th>runtime</th>\n",
       "      <th>vote_average</th>\n",
       "      <th>vote_count</th>\n",
       "      <th>metacritic_metascore</th>\n",
       "      <th>release_year</th>\n",
       "      <th>Production Budget</th>\n",
       "      <th>Domestic Gross</th>\n",
       "      <th>Worldwide Gross</th>\n",
       "      <th>num_year</th>\n",
       "      <th>log Worldwide Gross</th>\n",
       "    </tr>\n",
       "  </thead>\n",
       "  <tbody>\n",
       "    <tr>\n",
       "      <th>count</th>\n",
       "      <td>3319.000000</td>\n",
       "      <td>3319.000000</td>\n",
       "      <td>3319.000000</td>\n",
       "      <td>3319.000000</td>\n",
       "      <td>3319.000000</td>\n",
       "      <td>3319.000000</td>\n",
       "      <td>3319.000000</td>\n",
       "      <td>3319.000000</td>\n",
       "      <td>3319.000000</td>\n",
       "      <td>3319.000000</td>\n",
       "      <td>3319.000000</td>\n",
       "      <td>3319.000000</td>\n",
       "    </tr>\n",
       "    <tr>\n",
       "      <th>mean</th>\n",
       "      <td>46881.441699</td>\n",
       "      <td>0.249633</td>\n",
       "      <td>0.171291</td>\n",
       "      <td>6.227900</td>\n",
       "      <td>0.357768</td>\n",
       "      <td>-0.029237</td>\n",
       "      <td>2003.434167</td>\n",
       "      <td>0.355301</td>\n",
       "      <td>0.332076</td>\n",
       "      <td>0.352414</td>\n",
       "      <td>2003.547755</td>\n",
       "      <td>-0.203595</td>\n",
       "    </tr>\n",
       "    <tr>\n",
       "      <th>std</th>\n",
       "      <td>76554.878539</td>\n",
       "      <td>1.000000</td>\n",
       "      <td>1.000000</td>\n",
       "      <td>0.897374</td>\n",
       "      <td>1.000000</td>\n",
       "      <td>1.000000</td>\n",
       "      <td>10.070777</td>\n",
       "      <td>1.000000</td>\n",
       "      <td>1.000000</td>\n",
       "      <td>1.000000</td>\n",
       "      <td>10.100582</td>\n",
       "      <td>1.000000</td>\n",
       "    </tr>\n",
       "    <tr>\n",
       "      <th>min</th>\n",
       "      <td>12.000000</td>\n",
       "      <td>-0.515767</td>\n",
       "      <td>-5.121761</td>\n",
       "      <td>0.000000</td>\n",
       "      <td>-0.265708</td>\n",
       "      <td>-2.953763</td>\n",
       "      <td>1934.000000</td>\n",
       "      <td>-0.497912</td>\n",
       "      <td>-0.402523</td>\n",
       "      <td>-0.242766</td>\n",
       "      <td>1934.000000</td>\n",
       "      <td>-6.325183</td>\n",
       "    </tr>\n",
       "    <tr>\n",
       "      <th>25%</th>\n",
       "      <td>7871.500000</td>\n",
       "      <td>-0.285933</td>\n",
       "      <td>-0.487787</td>\n",
       "      <td>5.700000</td>\n",
       "      <td>-0.182909</td>\n",
       "      <td>-0.765790</td>\n",
       "      <td>2000.000000</td>\n",
       "      <td>-0.296475</td>\n",
       "      <td>-0.301383</td>\n",
       "      <td>-0.180317</td>\n",
       "      <td>2000.000000</td>\n",
       "      <td>-0.599780</td>\n",
       "    </tr>\n",
       "    <tr>\n",
       "      <th>50%</th>\n",
       "      <td>12271.000000</td>\n",
       "      <td>0.000000</td>\n",
       "      <td>0.000000</td>\n",
       "      <td>6.300000</td>\n",
       "      <td>0.000000</td>\n",
       "      <td>0.000000</td>\n",
       "      <td>2005.000000</td>\n",
       "      <td>0.000000</td>\n",
       "      <td>0.000000</td>\n",
       "      <td>0.000000</td>\n",
       "      <td>2005.000000</td>\n",
       "      <td>0.000000</td>\n",
       "    </tr>\n",
       "    <tr>\n",
       "      <th>75%</th>\n",
       "      <td>46515.500000</td>\n",
       "      <td>0.478621</td>\n",
       "      <td>0.658512</td>\n",
       "      <td>6.800000</td>\n",
       "      <td>0.444854</td>\n",
       "      <td>0.711091</td>\n",
       "      <td>2010.000000</td>\n",
       "      <td>0.664104</td>\n",
       "      <td>0.544305</td>\n",
       "      <td>0.447711</td>\n",
       "      <td>2010.000000</td>\n",
       "      <td>0.461749</td>\n",
       "    </tr>\n",
       "    <tr>\n",
       "      <th>max</th>\n",
       "      <td>417859.000000</td>\n",
       "      <td>26.071431</td>\n",
       "      <td>11.365431</td>\n",
       "      <td>9.300000</td>\n",
       "      <td>10.085613</td>\n",
       "      <td>2.461469</td>\n",
       "      <td>2016.000000</td>\n",
       "      <td>9.582076</td>\n",
       "      <td>10.811447</td>\n",
       "      <td>15.431733</td>\n",
       "      <td>2017.000000</td>\n",
       "      <td>1.841058</td>\n",
       "    </tr>\n",
       "  </tbody>\n",
       "</table>\n",
       "</div>"
      ],
      "text/plain": [
       "                  id   popularity      runtime  vote_average   vote_count  \\\n",
       "count    3319.000000  3319.000000  3319.000000   3319.000000  3319.000000   \n",
       "mean    46881.441699     0.249633     0.171291      6.227900     0.357768   \n",
       "std     76554.878539     1.000000     1.000000      0.897374     1.000000   \n",
       "min        12.000000    -0.515767    -5.121761      0.000000    -0.265708   \n",
       "25%      7871.500000    -0.285933    -0.487787      5.700000    -0.182909   \n",
       "50%     12271.000000     0.000000     0.000000      6.300000     0.000000   \n",
       "75%     46515.500000     0.478621     0.658512      6.800000     0.444854   \n",
       "max    417859.000000    26.071431    11.365431      9.300000    10.085613   \n",
       "\n",
       "       metacritic_metascore  release_year  Production Budget  Domestic Gross  \\\n",
       "count           3319.000000   3319.000000        3319.000000     3319.000000   \n",
       "mean              -0.029237   2003.434167           0.355301        0.332076   \n",
       "std                1.000000     10.070777           1.000000        1.000000   \n",
       "min               -2.953763   1934.000000          -0.497912       -0.402523   \n",
       "25%               -0.765790   2000.000000          -0.296475       -0.301383   \n",
       "50%                0.000000   2005.000000           0.000000        0.000000   \n",
       "75%                0.711091   2010.000000           0.664104        0.544305   \n",
       "max                2.461469   2016.000000           9.582076       10.811447   \n",
       "\n",
       "       Worldwide Gross     num_year  log Worldwide Gross  \n",
       "count      3319.000000  3319.000000          3319.000000  \n",
       "mean          0.352414  2003.547755            -0.203595  \n",
       "std           1.000000    10.100582             1.000000  \n",
       "min          -0.242766  1934.000000            -6.325183  \n",
       "25%          -0.180317  2000.000000            -0.599780  \n",
       "50%           0.000000  2005.000000             0.000000  \n",
       "75%           0.447711  2010.000000             0.461749  \n",
       "max          15.431733  2017.000000             1.841058  "
      ]
     },
     "execution_count": 7,
     "metadata": {},
     "output_type": "execute_result"
    }
   ],
   "source": [
    "critic_revenue.describe()"
   ]
  },
  {
   "cell_type": "code",
   "execution_count": 8,
   "metadata": {},
   "outputs": [
    {
     "data": {
      "text/plain": [
       "3319"
      ]
     },
     "execution_count": 8,
     "metadata": {},
     "output_type": "execute_result"
    }
   ],
   "source": [
    "critic_revenue.shape[0]"
   ]
  },
  {
   "cell_type": "code",
   "execution_count": 9,
   "metadata": {},
   "outputs": [],
   "source": [
    "import numpy as np\n",
    "import pandas as pd\n",
    "import matplotlib.pyplot as plt\n",
    "import seaborn as sns\n",
    "%matplotlib inline\n",
    "from sklearn.linear_model import LogisticRegression # to apply the Logistic regression\n",
    "from sklearn.model_selection import train_test_split # to split the data into two parts"
   ]
  },
  {
   "cell_type": "code",
   "execution_count": 10,
   "metadata": {},
   "outputs": [],
   "source": [
    "%matplotlib inline\n",
    "rcParams['figure.figsize'] = 10, 8\n",
    "sb.set_style('whitegrid')"
   ]
  },
  {
   "cell_type": "code",
   "execution_count": 12,
   "metadata": {},
   "outputs": [
    {
     "data": {
      "text/plain": [
       "<matplotlib.axes._subplots.AxesSubplot at 0x10495ce48>"
      ]
     },
     "execution_count": 12,
     "metadata": {},
     "output_type": "execute_result"
    },
    {
     "data": {
      "image/png": "[encoded data removed]",
      "text/plain": [
       "<Figure size 720x576 with 2 Axes>"
      ]
     },
     "metadata": {},
     "output_type": "display_data"
    }
   ],
   "source": [
    "sns.heatmap(critic_revenue.corr(), vmax=1, square=True)"
   ]
  },
  {
   "cell_type": "code",
   "execution_count": 13,
   "metadata": {},
   "outputs": [],
   "source": [
    "#Defining features and target for this dataset based on co-relation\n",
    "features = ['Production Budget']\n",
    "target = ['Worldwide Gross']"
   ]
  },
  {
   "cell_type": "code",
   "execution_count": 14,
   "metadata": {},
   "outputs": [
    {
     "data": {
      "text/html": [
       "<div>\n",
       "<style scoped>\n",
       "    .dataframe tbody tr th:only-of-type {\n",
       "        vertical-align: middle;\n",
       "    }\n",
       "\n",
       "    .dataframe tbody tr th {\n",
       "        vertical-align: top;\n",
       "    }\n",
       "\n",
       "    .dataframe thead th {\n",
       "        text-align: right;\n",
       "    }\n",
       "</style>\n",
       "<table border=\"1\" class=\"dataframe\">\n",
       "  <thead>\n",
       "    <tr style=\"text-align: right;\">\n",
       "      <th></th>\n",
       "      <th>genres</th>\n",
       "      <th>id</th>\n",
       "      <th>original_language</th>\n",
       "      <th>original_title</th>\n",
       "      <th>popularity</th>\n",
       "      <th>production_companies</th>\n",
       "      <th>production_countries</th>\n",
       "      <th>release_date</th>\n",
       "      <th>runtime</th>\n",
       "      <th>spoken_languages</th>\n",
       "      <th>...</th>\n",
       "      <th>vote_average</th>\n",
       "      <th>vote_count</th>\n",
       "      <th>metacritic_metascore</th>\n",
       "      <th>release_year</th>\n",
       "      <th>Release Date</th>\n",
       "      <th>Production Budget</th>\n",
       "      <th>Domestic Gross</th>\n",
       "      <th>Worldwide Gross</th>\n",
       "      <th>num_year</th>\n",
       "      <th>log Worldwide Gross</th>\n",
       "    </tr>\n",
       "  </thead>\n",
       "  <tbody>\n",
       "    <tr>\n",
       "      <th>274</th>\n",
       "      <td>[{\"id\": 53, \"name\": \"Thriller\"}, {\"id\": 878, \"...</td>\n",
       "      <td>157353</td>\n",
       "      <td>en</td>\n",
       "      <td>Transcendence</td>\n",
       "      <td>1.275378</td>\n",
       "      <td>[{\"name\": \"Alcon Entertainment\", \"id\": 1088}, ...</td>\n",
       "      <td>[{\"iso_3166_1\": \"CN\", \"name\": \"China\"}, {\"iso_...</td>\n",
       "      <td>2014-04-16</td>\n",
       "      <td>0.682901</td>\n",
       "      <td>[{\"iso_639_1\": \"en\", \"name\": \"English\"}]</td>\n",
       "      <td>...</td>\n",
       "      <td>5.9</td>\n",
       "      <td>1.461770</td>\n",
       "      <td>-0.711091</td>\n",
       "      <td>2014</td>\n",
       "      <td>4/18/2014</td>\n",
       "      <td>1.873723</td>\n",
       "      <td>-0.063051</td>\n",
       "      <td>0.338966</td>\n",
       "      <td>2014</td>\n",
       "      <td>0.386046</td>\n",
       "    </tr>\n",
       "    <tr>\n",
       "      <th>448</th>\n",
       "      <td>[{\"id\": 18, \"name\": \"Drama\"}, {\"id\": 36, \"name...</td>\n",
       "      <td>1439</td>\n",
       "      <td>en</td>\n",
       "      <td>Anna and the King</td>\n",
       "      <td>-0.111226</td>\n",
       "      <td>[{\"name\": \"Fox 2000 Pictures\", \"id\": 711}]</td>\n",
       "      <td>[{\"iso_3166_1\": \"MY\", \"name\": \"Malaysia\"}, {\"i...</td>\n",
       "      <td>1999-12-16</td>\n",
       "      <td>2.097483</td>\n",
       "      <td>[{\"iso_639_1\": \"en\", \"name\": \"English\"}, {\"iso...</td>\n",
       "      <td>...</td>\n",
       "      <td>6.4</td>\n",
       "      <td>-0.117423</td>\n",
       "      <td>0.054699</td>\n",
       "      <td>1999</td>\n",
       "      <td>12/17/1999</td>\n",
       "      <td>1.280773</td>\n",
       "      <td>0.176249</td>\n",
       "      <td>-0.021165</td>\n",
       "      <td>1999</td>\n",
       "      <td>-0.040296</td>\n",
       "    </tr>\n",
       "    <tr>\n",
       "      <th>139</th>\n",
       "      <td>[{\"id\": 878, \"name\": \"Science Fiction\"}, {\"id\"...</td>\n",
       "      <td>1724</td>\n",
       "      <td>en</td>\n",
       "      <td>The Incredible Hulk</td>\n",
       "      <td>1.394014</td>\n",
       "      <td>[{\"name\": \"Universal Pictures\", \"id\": 33}, {\"n...</td>\n",
       "      <td>[{\"iso_3166_1\": \"US\", \"name\": \"United States o...</td>\n",
       "      <td>2008-06-12</td>\n",
       "      <td>0.439008</td>\n",
       "      <td>[{\"iso_639_1\": \"pt\", \"name\": \"Portugu\\u00eas\"}...</td>\n",
       "      <td>...</td>\n",
       "      <td>6.1</td>\n",
       "      <td>2.008240</td>\n",
       "      <td>0.328196</td>\n",
       "      <td>2008</td>\n",
       "      <td>6/13/2008</td>\n",
       "      <td>2.763148</td>\n",
       "      <td>1.585255</td>\n",
       "      <td>1.256592</td>\n",
       "      <td>2008</td>\n",
       "      <td>0.804283</td>\n",
       "    </tr>\n",
       "    <tr>\n",
       "      <th>366</th>\n",
       "      <td>[{\"id\": 18, \"name\": \"Drama\"}, {\"id\": 35, \"name...</td>\n",
       "      <td>6964</td>\n",
       "      <td>en</td>\n",
       "      <td>Something's Gotta Give</td>\n",
       "      <td>-0.001545</td>\n",
       "      <td>[{\"name\": \"Columbia Pictures Corporation\", \"id...</td>\n",
       "      <td>[{\"iso_3166_1\": \"US\", \"name\": \"United States o...</td>\n",
       "      <td>2003-12-12</td>\n",
       "      <td>1.121909</td>\n",
       "      <td>[{\"iso_639_1\": \"fr\", \"name\": \"Fran\\u00e7ais\"},...</td>\n",
       "      <td>...</td>\n",
       "      <td>6.3</td>\n",
       "      <td>0.042905</td>\n",
       "      <td>0.601692</td>\n",
       "      <td>2003</td>\n",
       "      <td>12/12/2003</td>\n",
       "      <td>1.399363</td>\n",
       "      <td>1.436007</td>\n",
       "      <td>1.262867</td>\n",
       "      <td>2003</td>\n",
       "      <td>0.806128</td>\n",
       "    </tr>\n",
       "    <tr>\n",
       "      <th>2176</th>\n",
       "      <td>[{\"id\": 35, \"name\": \"Comedy\"}, {\"id\": 10751, \"...</td>\n",
       "      <td>10985</td>\n",
       "      <td>en</td>\n",
       "      <td>The New Guy</td>\n",
       "      <td>-0.105204</td>\n",
       "      <td>[{\"name\": \"Revolution Studios\", \"id\": 497}, {\"...</td>\n",
       "      <td>[{\"iso_3166_1\": \"US\", \"name\": \"United States o...</td>\n",
       "      <td>2002-05-10</td>\n",
       "      <td>-0.829237</td>\n",
       "      <td>[{\"iso_639_1\": \"en\", \"name\": \"English\"}, {\"iso...</td>\n",
       "      <td>...</td>\n",
       "      <td>5.7</td>\n",
       "      <td>-0.152048</td>\n",
       "      <td>-1.695679</td>\n",
       "      <td>2002</td>\n",
       "      <td>5/10/2002</td>\n",
       "      <td>-0.189744</td>\n",
       "      <td>0.024682</td>\n",
       "      <td>-0.079197</td>\n",
       "      <td>2002</td>\n",
       "      <td>-0.174429</td>\n",
       "    </tr>\n",
       "  </tbody>\n",
       "</table>\n",
       "<p>5 rows × 21 columns</p>\n",
       "</div>"
      ],
      "text/plain": [
       "                                                 genres      id  \\\n",
       "274   [{\"id\": 53, \"name\": \"Thriller\"}, {\"id\": 878, \"...  157353   \n",
       "448   [{\"id\": 18, \"name\": \"Drama\"}, {\"id\": 36, \"name...    1439   \n",
       "139   [{\"id\": 878, \"name\": \"Science Fiction\"}, {\"id\"...    1724   \n",
       "366   [{\"id\": 18, \"name\": \"Drama\"}, {\"id\": 35, \"name...    6964   \n",
       "2176  [{\"id\": 35, \"name\": \"Comedy\"}, {\"id\": 10751, \"...   10985   \n",
       "\n",
       "     original_language          original_title  popularity  \\\n",
       "274                 en           Transcendence    1.275378   \n",
       "448                 en       Anna and the King   -0.111226   \n",
       "139                 en     The Incredible Hulk    1.394014   \n",
       "366                 en  Something's Gotta Give   -0.001545   \n",
       "2176                en             The New Guy   -0.105204   \n",
       "\n",
       "                                   production_companies  \\\n",
       "274   [{\"name\": \"Alcon Entertainment\", \"id\": 1088}, ...   \n",
       "448          [{\"name\": \"Fox 2000 Pictures\", \"id\": 711}]   \n",
       "139   [{\"name\": \"Universal Pictures\", \"id\": 33}, {\"n...   \n",
       "366   [{\"name\": \"Columbia Pictures Corporation\", \"id...   \n",
       "2176  [{\"name\": \"Revolution Studios\", \"id\": 497}, {\"...   \n",
       "\n",
       "                                   production_countries release_date  \\\n",
       "274   [{\"iso_3166_1\": \"CN\", \"name\": \"China\"}, {\"iso_...   2014-04-16   \n",
       "448   [{\"iso_3166_1\": \"MY\", \"name\": \"Malaysia\"}, {\"i...   1999-12-16   \n",
       "139   [{\"iso_3166_1\": \"US\", \"name\": \"United States o...   2008-06-12   \n",
       "366   [{\"iso_3166_1\": \"US\", \"name\": \"United States o...   2003-12-12   \n",
       "2176  [{\"iso_3166_1\": \"US\", \"name\": \"United States o...   2002-05-10   \n",
       "\n",
       "       runtime                                   spoken_languages  \\\n",
       "274   0.682901           [{\"iso_639_1\": \"en\", \"name\": \"English\"}]   \n",
       "448   2.097483  [{\"iso_639_1\": \"en\", \"name\": \"English\"}, {\"iso...   \n",
       "139   0.439008  [{\"iso_639_1\": \"pt\", \"name\": \"Portugu\\u00eas\"}...   \n",
       "366   1.121909  [{\"iso_639_1\": \"fr\", \"name\": \"Fran\\u00e7ais\"},...   \n",
       "2176 -0.829237  [{\"iso_639_1\": \"en\", \"name\": \"English\"}, {\"iso...   \n",
       "\n",
       "             ...          vote_average  vote_count  metacritic_metascore  \\\n",
       "274          ...                   5.9    1.461770             -0.711091   \n",
       "448          ...                   6.4   -0.117423              0.054699   \n",
       "139          ...                   6.1    2.008240              0.328196   \n",
       "366          ...                   6.3    0.042905              0.601692   \n",
       "2176         ...                   5.7   -0.152048             -1.695679   \n",
       "\n",
       "      release_year  Release Date Production Budget  Domestic Gross  \\\n",
       "274           2014     4/18/2014          1.873723       -0.063051   \n",
       "448           1999    12/17/1999          1.280773        0.176249   \n",
       "139           2008     6/13/2008          2.763148        1.585255   \n",
       "366           2003    12/12/2003          1.399363        1.436007   \n",
       "2176          2002     5/10/2002         -0.189744        0.024682   \n",
       "\n",
       "      Worldwide Gross  num_year  log Worldwide Gross  \n",
       "274          0.338966      2014             0.386046  \n",
       "448         -0.021165      1999            -0.040296  \n",
       "139          1.256592      2008             0.804283  \n",
       "366          1.262867      2003             0.806128  \n",
       "2176        -0.079197      2002            -0.174429  \n",
       "\n",
       "[5 rows x 21 columns]"
      ]
     },
     "execution_count": 14,
     "metadata": {},
     "output_type": "execute_result"
    }
   ],
   "source": [
    "#splitting data set into training and test data set in 0.7/0.3\n",
    "train, test = train_test_split(critic_revenue,test_size=0.30)\n",
    "train.head()"
   ]
  },
  {
   "cell_type": "code",
   "execution_count": 15,
   "metadata": {},
   "outputs": [],
   "source": [
    "#Fill the training and test data with require information\n",
    "X_train = train[features].dropna()\n",
    "y_train = train[target].dropna()\n",
    "X_test = test[features].dropna()\n",
    "y_test = test[target].dropna()"
   ]
  },
  {
   "cell_type": "code",
   "execution_count": 16,
   "metadata": {},
   "outputs": [
    {
     "data": {
      "text/plain": [
       "LinearRegression(copy_X=True, fit_intercept=True, n_jobs=1, normalize=False)"
      ]
     },
     "execution_count": 16,
     "metadata": {},
     "output_type": "execute_result"
    }
   ],
   "source": [
    "from sklearn import linear_model# compute classification accuracy for the linear regression model\n",
    "from sklearn import metrics # for the check the error and accuracy of the model\n",
    "lin = linear_model.LinearRegression()\n",
    "# train the model on the training set\n",
    "lin.fit(X_train, y_train)"
   ]
  },
  {
   "cell_type": "code",
   "execution_count": 17,
   "metadata": {},
   "outputs": [],
   "source": [
    "lin_score_train = lin.score(X_test, y_test)\n",
    "lin_score_test = lin.score(X_train, y_train)"
   ]
  },
  {
   "cell_type": "code",
   "execution_count": 18,
   "metadata": {},
   "outputs": [
    {
     "name": "stdout",
     "output_type": "stream",
     "text": [
      "Training score:  0.4175177554336011\n",
      "Testing score:  0.559417936326881\n"
     ]
    }
   ],
   "source": [
    "print(\"Training score: \",lin_score_train)\n",
    "print(\"Testing score: \",lin_score_test)"
   ]
  },
  {
   "cell_type": "code",
   "execution_count": 19,
   "metadata": {},
   "outputs": [],
   "source": [
    "yPrediction = lin.predict(X_test)"
   ]
  },
  {
   "cell_type": "code",
   "execution_count": 20,
   "metadata": {},
   "outputs": [
    {
     "name": "stdout",
     "output_type": "stream",
     "text": [
      "Linear Regression RMSE: 0.6946\n"
     ]
    }
   ],
   "source": [
    "#Calculate root-mean-square error (RMSE):\n",
    "import numpy as np\n",
    "from sklearn.metrics import mean_squared_error\n",
    "lin_mse = mean_squared_error(yPrediction, y_test)\n",
    "lin_rmse = np.sqrt(lin_mse)\n",
    "print('Linear Regression RMSE: %.4f' % lin_rmse)"
   ]
  },
  {
   "cell_type": "code",
   "execution_count": 21,
   "metadata": {},
   "outputs": [
    {
     "name": "stdout",
     "output_type": "stream",
     "text": [
      "Liner Regression MAE: 0.3837\n"
     ]
    }
   ],
   "source": [
    "#Calculate mean absolute error (MAE):\n",
    "from sklearn.metrics import mean_absolute_error\n",
    "\n",
    "lin_mae = mean_absolute_error(yPrediction, y_test)\n",
    "print('Liner Regression MAE: %.4f' % lin_mae)"
   ]
  },
  {
   "cell_type": "code",
   "execution_count": 22,
   "metadata": {},
   "outputs": [
    {
     "data": {
      "image/png": "[encoded data removed]",
      "text/plain": [
       "<Figure size 720x576 with 1 Axes>"
      ]
     },
     "metadata": {},
     "output_type": "display_data"
    }
   ],
   "source": [
    "# Visualising the training set results\n",
    "plt.scatter(X_train, y_train, color = 'red')\n",
    "plt.plot(X_train, lin.predict(X_train), color = 'blue')\n",
    "plt.title (\"Visuals for Training Dataset\")\n",
    "plt.xlabel(\"budg\")\n",
    "plt.ylabel(\"wgross\")\n",
    "plt.show()"
   ]
  },
  {
   "cell_type": "code",
   "execution_count": 23,
   "metadata": {},
   "outputs": [
    {
     "data": {
      "image/png": "[encoded data removed]",
      "text/plain": [
       "<Figure size 720x576 with 1 Axes>"
      ]
     },
     "metadata": {},
     "output_type": "display_data"
    }
   ],
   "source": [
    "plt.scatter(X_test, y_test , color = 'red')\n",
    "plt.plot(X_train, lin.predict(X_train), color = 'blue')\n",
    "plt.title (\"Visuals for Test Dataset\")\n",
    "plt.xlabel(\"budg\")\n",
    "plt.ylabel(\"wgross\")\n",
    "plt.show()"
   ]
  },
  {
   "cell_type": "code",
   "execution_count": 24,
   "metadata": {},
   "outputs": [
    {
     "data": {
      "text/plain": [
       "KNeighborsRegressor(algorithm='auto', leaf_size=30, metric='minkowski',\n",
       "          metric_params=None, n_jobs=1, n_neighbors=5, p=2,\n",
       "          weights='uniform')"
      ]
     },
     "execution_count": 24,
     "metadata": {},
     "output_type": "execute_result"
    }
   ],
   "source": [
    "from sklearn import neighbors\n",
    "n_neighbors=5\n",
    "knn=neighbors.KNeighborsRegressor(n_neighbors,weights='uniform')\n",
    "knn.fit(X_train, y_train)"
   ]
  },
  {
   "cell_type": "code",
   "execution_count": 25,
   "metadata": {},
   "outputs": [
    {
     "name": "stdout",
     "output_type": "stream",
     "text": [
      "Training score:  0.4431523010370251\n",
      "Testing score:  0.5884749532386968\n"
     ]
    }
   ],
   "source": [
    "knn_score_train = knn.score(X_test, y_test)\n",
    "knn_score_test = knn.score(X_train, y_train)\n",
    "\n",
    "print(\"Training score: \",knn_score_train)\n",
    "print(\"Testing score: \",knn_score_test)"
   ]
  },
  {
   "cell_type": "code",
   "execution_count": null,
   "metadata": {},
   "outputs": [],
   "source": []
  }
 ],
 "metadata": {
  "kernelspec": {
   "display_name": "Python 3",
   "language": "python",
   "name": "python3"
  },
  "language_info": {
   "codemirror_mode": {
    "name": "ipython",
    "version": 3
   },
   "file_extension": ".py",
   "mimetype": "text/x-python",
   "name": "python",
   "nbconvert_exporter": "python",
   "pygments_lexer": "ipython3",
   "version": "3.6.5"
  }
 },
 "nbformat": 4,
 "nbformat_minor": 2
}
